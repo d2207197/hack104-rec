{
 "cells": [
  {
   "cell_type": "code",
   "execution_count": 23,
   "metadata": {},
   "outputs": [
    {
     "name": "stdout",
     "output_type": "stream",
     "text": [
      "/home/ryanchao2012/projects/hack104-rec\n",
      "env: SPARK_HOME=/opt/spark\n"
     ]
    }
   ],
   "source": [
    "%cd /home/ryanchao2012/projects/hack104-rec\n",
    "%env SPARK_HOME=/opt/spark\n",
    "\n",
    "\n",
    "from pyspark.sql import functions as f\n"
   ]
  },
  {
   "cell_type": "code",
   "execution_count": null,
   "metadata": {},
   "outputs": [],
   "source": [
    "import findspark\n",
    "findspark.init()\n",
    "\n",
    "import pyspark\n",
    "spark_conf = pyspark.SparkConf()\n",
    "spark_conf.setAll([\n",
    "    ('spark.driver.memory', '10g'),\n",
    "    ('spark.executor.memory', '10g'),\n",
    "    ('spark.driver.maxResultSize', '10g')\n",
    "])\n",
    "spark = pyspark.sql.SparkSession.builder.config(conf=spark_conf).master('local[16]').getOrCreate()\n",
    "\n",
    "\n",
    "from pyspark.sql import functions as f\n",
    "\n",
    "display(spark)\n"
   ]
  },
  {
   "cell_type": "markdown",
   "metadata": {},
   "source": [
    "# Job"
   ]
  },
  {
   "cell_type": "code",
   "execution_count": 2,
   "metadata": {},
   "outputs": [
    {
     "name": "stdout",
     "output_type": "stream",
     "text": [
      "\u001b[1;39m{\n",
      "  \u001b[0m\u001b[34;1m\"addr_no\"\u001b[0m\u001b[1;39m: \u001b[0m\u001b[0;39m6001005004\u001b[0m\u001b[1;39m,\n",
      "  \u001b[0m\u001b[34;1m\"custno\"\u001b[0m\u001b[1;39m: \u001b[0m\u001b[0;32m\"7c01228e-5bc6-479d-9b18-c95e6678a468\"\u001b[0m\u001b[1;39m,\n",
      "  \u001b[0m\u001b[34;1m\"description\"\u001b[0m\u001b[1;39m: \u001b[0m\u001b[0;32m\"※輔導國小課業內容。\\r\\n※中、英語能力尤佳。\\r\\n需有相關課輔經驗者，無經驗者勿試。\"\u001b[0m\u001b[1;39m,\n",
      "  \u001b[0m\u001b[34;1m\"edu\"\u001b[0m\u001b[1;39m: \u001b[0m\u001b[0;39m56\u001b[0m\u001b[1;39m,\n",
      "  \u001b[0m\u001b[34;1m\"exp_jobcat1\"\u001b[0m\u001b[1;39m: \u001b[0m\u001b[0;32m\"0\"\u001b[0m\u001b[1;39m,\n",
      "  \u001b[0m\u001b[34;1m\"exp_jobcat2\"\u001b[0m\u001b[1;39m: \u001b[0m\u001b[0;32m\"0\"\u001b[0m\u001b[1;39m,\n",
      "  \u001b[0m\u001b[34;1m\"exp_jobcat3\"\u001b[0m\u001b[1;39m: \u001b[0m\u001b[0;32m\"0\"\u001b[0m\u001b[1;39m,\n",
      "  \u001b[0m\u001b[34;1m\"industry\"\u001b[0m\u001b[1;39m: \u001b[0m\u001b[0;32m\"1005001009\"\u001b[0m\u001b[1;39m,\n",
      "  \u001b[0m\u001b[34;1m\"job\"\u001b[0m\u001b[1;39m: \u001b[0m\u001b[0;32m\"國小安親課輔老師\"\u001b[0m\u001b[1;39m,\n",
      "  \u001b[0m\u001b[34;1m\"jobcat1\"\u001b[0m\u001b[1;39m: \u001b[0m\u001b[0;32m\"2016002008\"\u001b[0m\u001b[1;39m,\n",
      "  \u001b[0m\u001b[34;1m\"jobcat2\"\u001b[0m\u001b[1;39m: \u001b[0m\u001b[0;32m\"2016002011\"\u001b[0m\u001b[1;39m,\n",
      "  \u001b[0m\u001b[34;1m\"jobcat3\"\u001b[0m\u001b[1;39m: \u001b[0m\u001b[0;32m\"0\"\u001b[0m\u001b[1;39m,\n",
      "  \u001b[0m\u001b[34;1m\"jobno\"\u001b[0m\u001b[1;39m: \u001b[0m\u001b[0;32m\"4371531\"\u001b[0m\u001b[1;39m,\n",
      "  \u001b[0m\u001b[34;1m\"language1\"\u001b[0m\u001b[1;39m: \u001b[0m\u001b[0;39m14444\u001b[0m\u001b[1;39m,\n",
      "  \u001b[0m\u001b[34;1m\"language2\"\u001b[0m\u001b[1;39m: \u001b[0m\u001b[0;39m1111\u001b[0m\u001b[1;39m,\n",
      "  \u001b[0m\u001b[34;1m\"language3\"\u001b[0m\u001b[1;39m: \u001b[0m\u001b[0;39m1111\u001b[0m\u001b[1;39m,\n",
      "  \u001b[0m\u001b[34;1m\"major_cat\"\u001b[0m\u001b[1;39m: \u001b[0m\u001b[0;32m\"0\"\u001b[0m\u001b[1;39m,\n",
      "  \u001b[0m\u001b[34;1m\"major_cat2\"\u001b[0m\u001b[1;39m: \u001b[0m\u001b[0;32m\"0\"\u001b[0m\u001b[1;39m,\n",
      "  \u001b[0m\u001b[34;1m\"major_cat3\"\u001b[0m\u001b[1;39m: \u001b[0m\u001b[0;32m\"0\"\u001b[0m\u001b[1;39m,\n",
      "  \u001b[0m\u001b[34;1m\"need_emp\"\u001b[0m\u001b[1;39m: \u001b[0m\u001b[0;39m1\u001b[0m\u001b[1;39m,\n",
      "  \u001b[0m\u001b[34;1m\"need_emp1\"\u001b[0m\u001b[1;39m: \u001b[0m\u001b[0;39m2\u001b[0m\u001b[1;39m,\n",
      "  \u001b[0m\u001b[34;1m\"others\"\u001b[0m\u001b[1;39m: \u001b[0m\u001b[0;32m\"1.提供勞健保\\n2.待遇優\\n3.需有耐心.愛心.抗壓性高/配合度佳-無誠者勿試/有安親經歷者尤佳\"\u001b[0m\u001b[1;39m,\n",
      "  \u001b[0m\u001b[34;1m\"period\"\u001b[0m\u001b[1;39m: \u001b[0m\u001b[0;39m2\u001b[0m\u001b[1;39m,\n",
      "  \u001b[0m\u001b[34;1m\"role\"\u001b[0m\u001b[1;39m: \u001b[0m\u001b[0;39m1\u001b[0m\u001b[1;39m,\n",
      "  \u001b[0m\u001b[34;1m\"role_status\"\u001b[0m\u001b[1;39m: \u001b[0m\u001b[0;39m2049\u001b[0m\u001b[1;39m,\n",
      "  \u001b[0m\u001b[34;1m\"s2\"\u001b[0m\u001b[1;39m: \u001b[0m\u001b[0;39m4\u001b[0m\u001b[1;39m,\n",
      "  \u001b[0m\u001b[34;1m\"s3\"\u001b[0m\u001b[1;39m: \u001b[0m\u001b[0;39m0\u001b[0m\u001b[1;39m,\n",
      "  \u001b[0m\u001b[34;1m\"s9\"\u001b[0m\u001b[1;39m: \u001b[0m\u001b[0;39m1\u001b[0m\u001b[1;39m,\n",
      "  \u001b[0m\u001b[34;1m\"salary_high\"\u001b[0m\u001b[1;39m: \u001b[0m\u001b[0;39m990\u001b[0m\u001b[1;39m,\n",
      "  \u001b[0m\u001b[34;1m\"salary_low\"\u001b[0m\u001b[1;39m: \u001b[0m\u001b[0;39m990\u001b[0m\u001b[1;39m,\n",
      "  \u001b[0m\u001b[34;1m\"startby\"\u001b[0m\u001b[1;39m: \u001b[0m\u001b[0;39m2\u001b[0m\u001b[1;39m,\n",
      "  \u001b[0m\u001b[34;1m\"worktime\"\u001b[0m\u001b[1;39m: \u001b[0m\u001b[0;32m\"週休二日\"\u001b[0m\u001b[1;39m\n",
      "\u001b[1;39m}\u001b[0m\n"
     ]
    }
   ],
   "source": [
    "!head -n1 data/job.json | jq --sort-keys"
   ]
  },
  {
   "cell_type": "code",
   "execution_count": 35,
   "metadata": {},
   "outputs": [],
   "source": [
    "# edu: Long -> Int\n",
    "# exp_jobcat#: Str -> Long  (drop?)\n",
    "# industry: Str -> Long\n",
    "# jobcat#: Str -> Long  (drop?)\n",
    "# jobno: Str -> Int\n",
    "# language#: Long -> Int\n",
    "# major_cat#: Str -> Long\n",
    "# need_emp#: Long -> Int\n",
    "# period: Long -> Int\n",
    "# role: Long -> Int\n",
    "# role_status: Long -> Int\n",
    "# s2, s3, s9: Long -> Int\n",
    "# salary_high/low: Long -> Int\n",
    "# startby: Long -> Int"
   ]
  },
  {
   "cell_type": "code",
   "execution_count": 12,
   "metadata": {},
   "outputs": [],
   "source": [
    "from hack104_rec.job import JobProcessed"
   ]
  },
  {
   "cell_type": "code",
   "execution_count": 3,
   "metadata": {},
   "outputs": [
    {
     "name": "stdout",
     "output_type": "stream",
     "text": [
      "CPU times: user 79.4 ms, sys: 5.41 ms, total: 84.8 ms\n",
      "Wall time: 1min 47s\n"
     ]
    }
   ],
   "source": [
    "%%time\n",
    "\n",
    "JobProcessed.populate()"
   ]
  },
  {
   "cell_type": "code",
   "execution_count": 15,
   "metadata": {},
   "outputs": [
    {
     "data": {
      "text/plain": [
       "pyspark.sql.dataframe.DataFrame"
      ]
     },
     "execution_count": 15,
     "metadata": {},
     "output_type": "execute_result"
    }
   ],
   "source": [
    "type(job_sdf)"
   ]
  },
  {
   "cell_type": "code",
   "execution_count": 13,
   "metadata": {},
   "outputs": [
    {
     "name": "stdout",
     "output_type": "stream",
     "text": [
      "root\n",
      " |-- custno: string (nullable = true)\n",
      " |-- jobno: integer (nullable = true)\n",
      " |-- description: struct (nullable = true)\n",
      " |    |-- keyword: string (nullable = true)\n",
      " |    |-- token: array (nullable = true)\n",
      " |    |    |-- element: string (containsNull = true)\n",
      " |-- job: struct (nullable = true)\n",
      " |    |-- keyword: string (nullable = true)\n",
      " |    |-- token: array (nullable = true)\n",
      " |    |    |-- element: string (containsNull = true)\n",
      " |-- others: struct (nullable = true)\n",
      " |    |-- keyword: string (nullable = true)\n",
      " |    |-- token: array (nullable = true)\n",
      " |    |    |-- element: string (containsNull = true)\n",
      " |-- addr_no: long (nullable = true)\n",
      " |-- edu: long (nullable = true)\n",
      " |-- exp_jobcat1: long (nullable = true)\n",
      " |-- exp_jobcat2: long (nullable = true)\n",
      " |-- exp_jobcat3: long (nullable = true)\n",
      " |-- industry: long (nullable = true)\n",
      " |-- jobcat1: long (nullable = true)\n",
      " |-- jobcat2: long (nullable = true)\n",
      " |-- jobcat3: long (nullable = true)\n",
      " |-- language1: long (nullable = true)\n",
      " |-- language2: long (nullable = true)\n",
      " |-- language3: long (nullable = true)\n",
      " |-- major_cat: integer (nullable = true)\n",
      " |-- major_cat2: integer (nullable = true)\n",
      " |-- major_cat3: integer (nullable = true)\n",
      " |-- need_emp: long (nullable = true)\n",
      " |-- need_emp1: long (nullable = true)\n",
      " |-- period: long (nullable = true)\n",
      " |-- role: long (nullable = true)\n",
      " |-- role_status: long (nullable = true)\n",
      " |-- s2: long (nullable = true)\n",
      " |-- s3: long (nullable = true)\n",
      " |-- s9: long (nullable = true)\n",
      " |-- salary_high: long (nullable = true)\n",
      " |-- salary_low: long (nullable = true)\n",
      " |-- startby: long (nullable = true)\n",
      " |-- worktime: integer (nullable = true)\n",
      "\n"
     ]
    }
   ],
   "source": [
    "job_sdf = JobProcessed.query()\n",
    "job_sdf.printSchema()"
   ]
  },
  {
   "cell_type": "code",
   "execution_count": 7,
   "metadata": {},
   "outputs": [
    {
     "name": "stdout",
     "output_type": "stream",
     "text": [
      "-RECORD 0---------------------------\n",
      " custno      | b1049129-a9f5-4b5... \n",
      " jobno       | 4867765              \n",
      " description | [設計部主管\n",
      "擅長集合住宅開發、... \n",
      " job         | [專案建築師, [专案, 建筑, ... \n",
      " others      | [具事務所或相關設計行業管理經驗、... \n",
      " addr_no     | 6001001003           \n",
      " edu         | 56                   \n",
      " exp_jobcat1 | 2012003002           \n",
      " exp_jobcat2 | 2012001002           \n",
      " exp_jobcat3 | 0                    \n",
      " industry    | 1011003003           \n",
      " jobcat1     | 2012001002           \n",
      " jobcat2     | 2012003002           \n",
      " jobcat3     | 0                    \n",
      " language1   | 18888                \n",
      " language2   | 1111                 \n",
      " language3   | 1111                 \n",
      " major_cat   | null                 \n",
      " major_cat2  | 0                    \n",
      " major_cat3  | 0                    \n",
      " need_emp    | 1                    \n",
      " need_emp1   | 2                    \n",
      " period      | 8                    \n",
      " role        | 1                    \n",
      " role_status | 1                    \n",
      " s2          | 3                    \n",
      " s3          | 15                   \n",
      " s9          | 1                    \n",
      " salary_high | 990                  \n",
      " salary_low  | 990                  \n",
      " startby     | 3                    \n",
      " worktime    | 1                    \n",
      "only showing top 1 row\n",
      "\n"
     ]
    }
   ],
   "source": [
    "job_sdf.select('*').show(1, vertical=True)"
   ]
  },
  {
   "cell_type": "markdown",
   "metadata": {},
   "source": [
    "# Company"
   ]
  },
  {
   "cell_type": "code",
   "execution_count": 5,
   "metadata": {},
   "outputs": [
    {
     "name": "stdout",
     "output_type": "stream",
     "text": [
      "\u001b[1;39m{\n",
      "  \u001b[0m\u001b[34;1m\"custno\"\u001b[0m\u001b[1;39m: \u001b[0m\u001b[0;32m\"6b8867b8-beb2-4b5c-b3ff-6797a75205ff\"\u001b[0m\u001b[1;39m,\n",
      "  \u001b[0m\u001b[34;1m\"invoice\"\u001b[0m\u001b[1;39m: \u001b[0m\u001b[0;39m10144499\u001b[0m\u001b[1;39m,\n",
      "  \u001b[0m\u001b[34;1m\"name\"\u001b[0m\u001b[1;39m: \u001b[0m\u001b[0;32m\"屏東縣私立上林美語文理短期補習班\"\u001b[0m\u001b[1;39m,\n",
      "  \u001b[0m\u001b[34;1m\"product\"\u001b[0m\u001b[1;39m: \u001b[0m\u001b[0;32m\"本補習班以安親和英文為主要的服務項目\"\u001b[0m\u001b[1;39m,\n",
      "  \u001b[0m\u001b[34;1m\"profile\"\u001b[0m\u001b[1;39m: \u001b[0m\u001b[0;32m\"本補習班成立於民國96年,加盟佳音英語欲提供給地方上一個學習英語的良好環境,所以我們積極的培訓新老師,希望新老師能加入我們的行列\"\u001b[0m\u001b[1;39m,\n",
      "  \u001b[0m\u001b[34;1m\"welfare\"\u001b[0m\u001b[1;39m: \u001b[0m\u001b[0;32m\"勞保，健保，員工制服，教育訓練，業績獎金，彈性輪休\"\u001b[0m\u001b[1;39m\n",
      "\u001b[1;39m}\u001b[0m\n"
     ]
    }
   ],
   "source": [
    "!head -n1 data/company.json | jq --sort-keys"
   ]
  },
  {
   "cell_type": "code",
   "execution_count": 5,
   "metadata": {},
   "outputs": [],
   "source": [
    "from hack104_rec.company import CompanyProcessed"
   ]
  },
  {
   "cell_type": "code",
   "execution_count": 3,
   "metadata": {},
   "outputs": [
    {
     "name": "stdout",
     "output_type": "stream",
     "text": [
      "CPU times: user 41.8 ms, sys: 23.9 ms, total: 65.7 ms\n",
      "Wall time: 2min 35s\n"
     ]
    }
   ],
   "source": [
    "%%time\n",
    "\n",
    "CompanyProcessed.populate()"
   ]
  },
  {
   "cell_type": "code",
   "execution_count": 6,
   "metadata": {},
   "outputs": [
    {
     "name": "stdout",
     "output_type": "stream",
     "text": [
      "root\n",
      " |-- custno: string (nullable = true)\n",
      " |-- invoice: long (nullable = true)\n",
      " |-- management: struct (nullable = true)\n",
      " |    |-- keyword: string (nullable = true)\n",
      " |    |-- token: array (nullable = true)\n",
      " |    |    |-- element: string (containsNull = true)\n",
      " |-- name: struct (nullable = true)\n",
      " |    |-- keyword: string (nullable = true)\n",
      " |    |-- token: array (nullable = true)\n",
      " |    |    |-- element: string (containsNull = true)\n",
      " |-- product: struct (nullable = true)\n",
      " |    |-- keyword: string (nullable = true)\n",
      " |    |-- token: array (nullable = true)\n",
      " |    |    |-- element: string (containsNull = true)\n",
      " |-- profile: struct (nullable = true)\n",
      " |    |-- keyword: string (nullable = true)\n",
      " |    |-- token: array (nullable = true)\n",
      " |    |    |-- element: string (containsNull = true)\n",
      " |-- welfare: struct (nullable = true)\n",
      " |    |-- keyword: string (nullable = true)\n",
      " |    |-- token: array (nullable = true)\n",
      " |    |    |-- element: string (containsNull = true)\n",
      "\n"
     ]
    }
   ],
   "source": [
    "company_sdf = CompanyProcessed.query()\n",
    "company_sdf.printSchema()"
   ]
  },
  {
   "cell_type": "markdown",
   "metadata": {},
   "source": [
    "# Join Company and Job"
   ]
  },
  {
   "cell_type": "code",
   "execution_count": 7,
   "metadata": {},
   "outputs": [],
   "source": [
    "# joined_sdf = job_sdf.join(company_sdf, 'custno', how='left')"
   ]
  },
  {
   "cell_type": "code",
   "execution_count": 3,
   "metadata": {},
   "outputs": [],
   "source": [
    "joined_sdf = spark.read.parquet('data/job-company-joined.pq')"
   ]
  },
  {
   "cell_type": "code",
   "execution_count": 4,
   "metadata": {},
   "outputs": [
    {
     "name": "stdout",
     "output_type": "stream",
     "text": [
      "root\n",
      " |-- custno: string (nullable = true)\n",
      " |-- jobno: integer (nullable = true)\n",
      " |-- description: struct (nullable = true)\n",
      " |    |-- keyword: string (nullable = true)\n",
      " |    |-- token: array (nullable = true)\n",
      " |    |    |-- element: string (containsNull = true)\n",
      " |-- job: struct (nullable = true)\n",
      " |    |-- keyword: string (nullable = true)\n",
      " |    |-- token: array (nullable = true)\n",
      " |    |    |-- element: string (containsNull = true)\n",
      " |-- others: struct (nullable = true)\n",
      " |    |-- keyword: string (nullable = true)\n",
      " |    |-- token: array (nullable = true)\n",
      " |    |    |-- element: string (containsNull = true)\n",
      " |-- addr_no: long (nullable = true)\n",
      " |-- edu: long (nullable = true)\n",
      " |-- exp_jobcat1: long (nullable = true)\n",
      " |-- exp_jobcat2: long (nullable = true)\n",
      " |-- exp_jobcat3: long (nullable = true)\n",
      " |-- industry: long (nullable = true)\n",
      " |-- jobcat1: long (nullable = true)\n",
      " |-- jobcat2: long (nullable = true)\n",
      " |-- jobcat3: long (nullable = true)\n",
      " |-- language1: long (nullable = true)\n",
      " |-- language2: long (nullable = true)\n",
      " |-- language3: long (nullable = true)\n",
      " |-- major_cat: integer (nullable = true)\n",
      " |-- major_cat2: integer (nullable = true)\n",
      " |-- major_cat3: integer (nullable = true)\n",
      " |-- need_emp: long (nullable = true)\n",
      " |-- need_emp1: long (nullable = true)\n",
      " |-- period: long (nullable = true)\n",
      " |-- role: long (nullable = true)\n",
      " |-- role_status: long (nullable = true)\n",
      " |-- s2: long (nullable = true)\n",
      " |-- s3: long (nullable = true)\n",
      " |-- s9: long (nullable = true)\n",
      " |-- salary_high: long (nullable = true)\n",
      " |-- salary_low: long (nullable = true)\n",
      " |-- startby: long (nullable = true)\n",
      " |-- worktime: integer (nullable = true)\n",
      " |-- invoice: long (nullable = true)\n",
      " |-- management: struct (nullable = true)\n",
      " |    |-- keyword: string (nullable = true)\n",
      " |    |-- token: array (nullable = true)\n",
      " |    |    |-- element: string (containsNull = true)\n",
      " |-- name: struct (nullable = true)\n",
      " |    |-- keyword: string (nullable = true)\n",
      " |    |-- token: array (nullable = true)\n",
      " |    |    |-- element: string (containsNull = true)\n",
      " |-- product: struct (nullable = true)\n",
      " |    |-- keyword: string (nullable = true)\n",
      " |    |-- token: array (nullable = true)\n",
      " |    |    |-- element: string (containsNull = true)\n",
      " |-- profile: struct (nullable = true)\n",
      " |    |-- keyword: string (nullable = true)\n",
      " |    |-- token: array (nullable = true)\n",
      " |    |    |-- element: string (containsNull = true)\n",
      " |-- welfare: struct (nullable = true)\n",
      " |    |-- keyword: string (nullable = true)\n",
      " |    |-- token: array (nullable = true)\n",
      " |    |    |-- element: string (containsNull = true)\n",
      "\n"
     ]
    }
   ],
   "source": [
    "joined_sdf.printSchema()"
   ]
  },
  {
   "cell_type": "code",
   "execution_count": 7,
   "metadata": {},
   "outputs": [],
   "source": [
    "%%time\n",
    "\n",
    "joined_sdf.write.json('data/job-company-joined.json', mode='overwrite')"
   ]
  },
  {
   "cell_type": "code",
   "execution_count": 4,
   "metadata": {},
   "outputs": [
    {
     "name": "stdout",
     "output_type": "stream",
     "text": [
      "\u001b[34mHTTP\u001b[39;49;00m/\u001b[34m1.1\u001b[39;49;00m \u001b[34m200\u001b[39;49;00m \u001b[36mOK\u001b[39;49;00m\n",
      "\u001b[36mcontent-encoding\u001b[39;49;00m: \u001b[33mgzip\u001b[39;49;00m\n",
      "\u001b[36mcontent-length\u001b[39;49;00m: \u001b[33m78\u001b[39;49;00m\n",
      "\u001b[36mcontent-type\u001b[39;49;00m: \u001b[33mtext/plain; charset=UTF-8\u001b[39;49;00m\n",
      "\n",
      "epoch      timestamp count\n",
      "1531486706 12:58:26  458640\n",
      "\n"
     ]
    }
   ],
   "source": [
    "!http get localhost:9201/_cat/count/hack104\\?v"
   ]
  },
  {
   "cell_type": "code",
   "execution_count": 13,
   "metadata": {},
   "outputs": [
    {
     "data": {
      "text/plain": [
       "458638"
      ]
     },
     "execution_count": 13,
     "metadata": {},
     "output_type": "execute_result"
    }
   ],
   "source": [
    "joined_sdf.count()"
   ]
  },
  {
   "cell_type": "code",
   "execution_count": 11,
   "metadata": {},
   "outputs": [
    {
     "data": {
      "text/plain": [
       "Row(custno='005fd5fa-e11b-4c63-8b1a-4b77a6a5c242', jobno=7685413, description=Row(keyword='教授兒童美語，輔導美語課業，與家長保持聯繫。', token=['教授', '儿童', '美语', ',', '辅导', '美语', '课业', ',', '与', '家长', '保持', '联系', '保持联系', '。']), job=Row(keyword='兒童美語老師', token=['儿童', '美语', '老师']), others=Row(keyword=None, token=None), addr_no=6001002003, edu=24, exp_jobcat1=0, exp_jobcat2=0, exp_jobcat3=0, industry=1005001009, jobcat1=2016002011, jobcat2=0, jobcat3=0, language1=12222, language2=1111, language3=1111, major_cat=None, major_cat2=0, major_cat3=0, need_emp=0, need_emp1=0, period=-1, role=2, role_status=111, s2=0, s3=0, s9=2, salary_high=1, salary_low=1, startby=1, worktime=0, invoice=87792660, management=None, name=Row(keyword='學一文理美語短期補習班', token=['学一', '文理', '美语', '短期', '补习', '补习班']), product=Row(keyword='升大學、升高中文理補習班、兒童美語班  國小數學班', token=['升', '大学', '、', '升高', '中', '文理', '补习', '补习班', '、', '儿童', '美语', '班', '国', '小', '数学', '班']), profile=Row(keyword='本班經教育局立案，經營優良之文理補習班，歡迎具有教育熱忱  、積極負責之人士，加入我們的行列。詳細內容面試', token=['本班', '经', '教育', '教育局', '立案', ',', '经营', '优良', '之', '文理', '补习', '补习班', ',', '欢迎', '具有', '教育', '热忱', '、', '积极', '负责', '之', '人士', ',', '加入', '我们', '的', '行列', '。', '详细', '内容', '面试']), welfare=Row(keyword='1. 享勞健保    2. 國內外員工旅遊    3. 獎金制    4. 年休假    5. 隔週六休', token=['1', '.', '享劳健保', '2', '.', '国内', '内外', '国内外', '员工', '旅游', '3', '.', '奖金', '奖金制', '4', '.', '休假', '年休假', '5', '.', '隔', '周六', '休']))"
      ]
     },
     "execution_count": 11,
     "metadata": {},
     "output_type": "execute_result"
    }
   ],
   "source": [
    "rows[0]"
   ]
  },
  {
   "cell_type": "code",
   "execution_count": 7,
   "metadata": {},
   "outputs": [
    {
     "data": {
      "text/plain": [
       "[Row(custno='005fd5fa-e11b-4c63-8b1a-4b77a6a5c242', jobno=7685413, description=Row(keyword='教授兒童美語，輔導美語課業，與家長保持聯繫。', token=['教授', '儿童', '美语', ',', '辅导', '美语', '课业', ',', '与', '家长', '保持', '联系', '保持联系', '。']), job=Row(keyword='兒童美語老師', token=['儿童', '美语', '老师']), others=Row(keyword=None, token=None), addr_no=6001002003, edu=24, exp_jobcat1=0, exp_jobcat2=0, exp_jobcat3=0, industry=1005001009, jobcat1=2016002011, jobcat2=0, jobcat3=0, language1=12222, language2=1111, language3=1111, major_cat=None, major_cat2=0, major_cat3=0, need_emp=0, need_emp1=0, period=-1, role=2, role_status=111, s2=0, s3=0, s9=2, salary_high=1, salary_low=1, startby=1, worktime=0, invoice=87792660, management=None, name=Row(keyword='學一文理美語短期補習班', token=['学一', '文理', '美语', '短期', '补习', '补习班']), product=Row(keyword='升大學、升高中文理補習班、兒童美語班  國小數學班', token=['升', '大学', '、', '升高', '中', '文理', '补习', '补习班', '、', '儿童', '美语', '班', '国', '小', '数学', '班']), profile=Row(keyword='本班經教育局立案，經營優良之文理補習班，歡迎具有教育熱忱  、積極負責之人士，加入我們的行列。詳細內容面試', token=['本班', '经', '教育', '教育局', '立案', ',', '经营', '优良', '之', '文理', '补习', '补习班', ',', '欢迎', '具有', '教育', '热忱', '、', '积极', '负责', '之', '人士', ',', '加入', '我们', '的', '行列', '。', '详细', '内容', '面试']), welfare=Row(keyword='1. 享勞健保    2. 國內外員工旅遊    3. 獎金制    4. 年休假    5. 隔週六休', token=['1', '.', '享劳健保', '2', '.', '国内', '内外', '国内外', '员工', '旅游', '3', '.', '奖金', '奖金制', '4', '.', '休假', '年休假', '5', '.', '隔', '周六', '休'])),\n",
       " Row(custno='005fd5fa-e11b-4c63-8b1a-4b77a6a5c242', jobno=9223284, description=Row(keyword='協助國小、國中班務和行政事務', token=['协助', '国', '小', '、', '国', '中', '班务', '和', '行政', '政事', '事务', '行政事务']), job=Row(keyword='工讀生', token=['工读', '工读生']), others=Row(keyword=None, token=None), addr_no=6001002003, edu=28, exp_jobcat1=0, exp_jobcat2=0, exp_jobcat3=0, industry=1005001009, jobcat1=2002001011, jobcat2=2016002015, jobcat3=2016002008, language1=1111, language2=1111, language3=1111, major_cat=0, major_cat2=0, major_cat3=0, need_emp=0, need_emp1=0, period=-1, role=2, role_status=7, s2=0, s3=0, s9=2, salary_high=1, salary_low=1, startby=3, worktime=0, invoice=87792660, management=None, name=Row(keyword='學一文理美語短期補習班', token=['学一', '文理', '美语', '短期', '补习', '补习班']), product=Row(keyword='升大學、升高中文理補習班、兒童美語班  國小數學班', token=['升', '大学', '、', '升高', '中', '文理', '补习', '补习班', '、', '儿童', '美语', '班', '国', '小', '数学', '班']), profile=Row(keyword='本班經教育局立案，經營優良之文理補習班，歡迎具有教育熱忱  、積極負責之人士，加入我們的行列。詳細內容面試', token=['本班', '经', '教育', '教育局', '立案', ',', '经营', '优良', '之', '文理', '补习', '补习班', ',', '欢迎', '具有', '教育', '热忱', '、', '积极', '负责', '之', '人士', ',', '加入', '我们', '的', '行列', '。', '详细', '内容', '面试']), welfare=Row(keyword='1. 享勞健保    2. 國內外員工旅遊    3. 獎金制    4. 年休假    5. 隔週六休', token=['1', '.', '享劳健保', '2', '.', '国内', '内外', '国内外', '员工', '旅游', '3', '.', '奖金', '奖金制', '4', '.', '休假', '年休假', '5', '.', '隔', '周六', '休'])),\n",
       " Row(custno='005fd5fa-e11b-4c63-8b1a-4b77a6a5c242', jobno=5191833, description=Row(keyword='1.負責一般文書資料處理及歸檔工作。\\n2.辦理核銷事宜。\\n3.協助處理庶務性行政工作（如：事務機器叫修維護、文具用品採買）。\\n4.收發公文並處理會簽文件。\\n5.負責簡單零用金管理。\\n6.協助輔導學生課業、家長聯繫。', token=['1', '.', '负责', '一般', '文书', '资料', '处理', '及', '归档', '工作', '。', '2', '.', '办理', '核销', '事宜', '。', '3', '.', '协助', '处理', '庶务', '性', '行政', '工作', '(', '如', ':', '事务', '机器', '叫', '修', '维护', '、', '文具', '用品', '文具用品', '采买', ')', '。', '4', '.', '收发', '公文', '并', '处理', '会签', '文件', '。', '5', '.', '负责', '简单', '零用', '零用金', '管理', '。', '6', '.', '协助', '辅导', '学生', '课业', '、', '家长', '联系', '。']), job=Row(keyword='行政助理', token=['行政', '助理', '行政助理']), others=Row(keyword=None, token=None), addr_no=6001002003, edu=28, exp_jobcat1=0, exp_jobcat2=0, exp_jobcat3=0, industry=1005001009, jobcat1=2002001012, jobcat2=2002001003, jobcat3=0, language1=1111, language2=1111, language3=1111, major_cat=0, major_cat2=0, major_cat3=0, need_emp=0, need_emp1=0, period=-1, role=1, role_status=2051, s2=0, s3=0, s9=1, salary_high=33, salary_low=26, startby=3, worktime=0, invoice=87792660, management=None, name=Row(keyword='學一文理美語短期補習班', token=['学一', '文理', '美语', '短期', '补习', '补习班']), product=Row(keyword='升大學、升高中文理補習班、兒童美語班  國小數學班', token=['升', '大学', '、', '升高', '中', '文理', '补习', '补习班', '、', '儿童', '美语', '班', '国', '小', '数学', '班']), profile=Row(keyword='本班經教育局立案，經營優良之文理補習班，歡迎具有教育熱忱  、積極負責之人士，加入我們的行列。詳細內容面試', token=['本班', '经', '教育', '教育局', '立案', ',', '经营', '优良', '之', '文理', '补习', '补习班', ',', '欢迎', '具有', '教育', '热忱', '、', '积极', '负责', '之', '人士', ',', '加入', '我们', '的', '行列', '。', '详细', '内容', '面试']), welfare=Row(keyword='1. 享勞健保    2. 國內外員工旅遊    3. 獎金制    4. 年休假    5. 隔週六休', token=['1', '.', '享劳健保', '2', '.', '国内', '内外', '国内外', '员工', '旅游', '3', '.', '奖金', '奖金制', '4', '.', '休假', '年休假', '5', '.', '隔', '周六', '休']))]"
      ]
     },
     "execution_count": 7,
     "metadata": {},
     "output_type": "execute_result"
    }
   ],
   "source": [
    "joined_sdf.take(3)"
   ]
  },
  {
   "cell_type": "code",
   "execution_count": 10,
   "metadata": {},
   "outputs": [],
   "source": [
    "%%time\n",
    "\n",
    "joined_sdf.write.parquet('data/job-company-joined.pq', mode='overwrite')\n"
   ]
  },
  {
   "cell_type": "code",
   "execution_count": null,
   "metadata": {},
   "outputs": [],
   "source": []
  },
  {
   "cell_type": "markdown",
   "metadata": {},
   "source": [
    "# Dump to ES "
   ]
  },
  {
   "cell_type": "code",
   "execution_count": 4,
   "metadata": {},
   "outputs": [],
   "source": [
    "from hack104_rec.es.insert import bulk_insert, RowPreprocessor"
   ]
  },
  {
   "cell_type": "code",
   "execution_count": 5,
   "metadata": {},
   "outputs": [
    {
     "name": "stdout",
     "output_type": "stream",
     "text": [
      "Start preprocessing\n",
      "Preprocessing finished, elapsed time: 2.283 sec.\n",
      "Start `parallel_bulk` insert to es\n",
      "Insert finished, 500 docs inserted, elapsed time: 0.508 sec.\n",
      "CPU times: user 426 ms, sys: 67.2 ms, total: 493 ms\n",
      "Wall time: 3.61 s\n"
     ]
    }
   ],
   "source": [
    "%%time\n",
    "\n",
    "# XXX: Not working, why??? \n",
    "bulk_insert(joined_sdf.limit(500).toLocalIterator(), preprocessor=RowPreprocessor())"
   ]
  },
  {
   "cell_type": "code",
   "execution_count": null,
   "metadata": {},
   "outputs": [],
   "source": []
  },
  {
   "cell_type": "markdown",
   "metadata": {},
   "source": [
    "# Train Click"
   ]
  },
  {
   "cell_type": "code",
   "execution_count": 10,
   "metadata": {},
   "outputs": [
    {
     "name": "stdout",
     "output_type": "stream",
     "text": [
      "\u001b[1;39m{\n",
      "  \u001b[0m\u001b[34;1m\"jobno\"\u001b[0m\u001b[1;39m: \u001b[0m\u001b[0;32m\"5314432\"\u001b[0m\u001b[1;39m,\n",
      "  \u001b[0m\u001b[34;1m\"date\"\u001b[0m\u001b[1;39m: \u001b[0m\u001b[0;32m\"1527330445000\"\u001b[0m\u001b[1;39m,\n",
      "  \u001b[0m\u001b[34;1m\"action\"\u001b[0m\u001b[1;39m: \u001b[0m\u001b[0;32m\"clickJob\"\u001b[0m\u001b[1;39m,\n",
      "  \u001b[0m\u001b[34;1m\"source\"\u001b[0m\u001b[1;39m: \u001b[0m\u001b[0;32m\"web\"\u001b[0m\u001b[1;39m,\n",
      "  \u001b[0m\u001b[34;1m\"joblist\"\u001b[0m\u001b[1;39m: \u001b[0m\u001b[1;39m[\n",
      "    \u001b[0;32m\"5314432\"\u001b[0m\u001b[1;39m,\n",
      "    \u001b[0;32m\"3494303\"\u001b[0m\u001b[1;39m,\n",
      "    \u001b[0;32m\"3859882\"\u001b[0m\u001b[1;39m,\n",
      "    \u001b[0;32m\"4439691\"\u001b[0m\u001b[1;39m,\n",
      "    \u001b[0;32m\"7416542\"\u001b[0m\u001b[1;39m,\n",
      "    \u001b[0;32m\"7484247\"\u001b[0m\u001b[1;39m,\n",
      "    \u001b[0;32m\"9063545\"\u001b[0m\u001b[1;39m,\n",
      "    \u001b[0;32m\"8318922\"\u001b[0m\u001b[1;39m,\n",
      "    \u001b[0;32m\"9431734\"\u001b[0m\u001b[1;39m,\n",
      "    \u001b[0;32m\"9127494\"\u001b[0m\u001b[1;39m,\n",
      "    \u001b[0;32m\"9904656\"\u001b[0m\u001b[1;39m,\n",
      "    \u001b[0;32m\"9926223\"\u001b[0m\u001b[1;39m,\n",
      "    \u001b[0;32m\"9950320\"\u001b[0m\u001b[1;39m,\n",
      "    \u001b[0;32m\"10079727\"\u001b[0m\u001b[1;39m,\n",
      "    \u001b[0;32m\"10378122\"\u001b[0m\u001b[1;39m,\n",
      "    \u001b[0;32m\"6830159\"\u001b[0m\u001b[1;39m,\n",
      "    \u001b[0;32m\"6856925\"\u001b[0m\u001b[1;39m,\n",
      "    \u001b[0;32m\"10343328\"\u001b[0m\u001b[1;39m,\n",
      "    \u001b[0;32m\"9730978\"\u001b[0m\u001b[1;39m,\n",
      "    \u001b[0;32m\"8510715\"\u001b[0m\u001b[1;39m\n",
      "  \u001b[1;39m]\u001b[0m\u001b[1;39m,\n",
      "  \u001b[0m\u001b[34;1m\"querystring\"\u001b[0m\u001b[1;39m: \u001b[0m\u001b[0;32m\"ro=0&jobcat=2005003003%2C2005003002%2C2005003005&kwop=7&keyword=%E6%97%A5%E6%96%87&area=6001001000%2C6001005000&order=1&asc=0&mode=s&jobsource=n104bank1\"\u001b[0m\u001b[1;39m\n",
      "\u001b[1;39m}\u001b[0m\n"
     ]
    }
   ],
   "source": [
    "!head -n1 data/train-click.json | jq"
   ]
  },
  {
   "cell_type": "code",
   "execution_count": 2,
   "metadata": {},
   "outputs": [],
   "source": [
    "from hack104_rec import TrainClickProcessed, TrainClickExploded, TrainClickGrouped, TrainClickCTR"
   ]
  },
  {
   "cell_type": "markdown",
   "metadata": {},
   "source": [
    "### Processed"
   ]
  },
  {
   "cell_type": "code",
   "execution_count": 3,
   "metadata": {},
   "outputs": [
    {
     "name": "stdout",
     "output_type": "stream",
     "text": [
      "CPU times: user 41.2 ms, sys: 29.1 ms, total: 70.3 ms\n",
      "Wall time: 29 s\n"
     ]
    }
   ],
   "source": [
    "%%time\n",
    "\n",
    "TrainClickProcessed.populate()"
   ]
  },
  {
   "cell_type": "code",
   "execution_count": 3,
   "metadata": {},
   "outputs": [],
   "source": [
    "train_click_processed = TrainClickProcessed.query()"
   ]
  },
  {
   "cell_type": "code",
   "execution_count": 4,
   "metadata": {},
   "outputs": [
    {
     "name": "stdout",
     "output_type": "stream",
     "text": [
      "root\n",
      " |-- action: string (nullable = true)\n",
      " |-- date: date (nullable = true)\n",
      " |-- joblist: array (nullable = true)\n",
      " |    |-- element: long (containsNull = true)\n",
      " |-- jobno: long (nullable = true)\n",
      " |-- querystring: string (nullable = true)\n",
      " |-- source: string (nullable = true)\n",
      " |-- id: long (nullable = true)\n",
      " |-- datetime: timestamp (nullable = true)\n",
      " |-- query_params: struct (nullable = true)\n",
      " |    |-- keyword: string (nullable = true)\n",
      " |    |-- sctp: integer (nullable = true)\n",
      " |    |-- mode: integer (nullable = true)\n",
      " |    |-- wktm: integer (nullable = true)\n",
      " |    |-- area: array (nullable = true)\n",
      " |    |    |-- element: integer (containsNull = true)\n",
      " |    |-- dep: array (nullable = true)\n",
      " |    |    |-- element: integer (containsNull = true)\n",
      " |    |-- edu: array (nullable = true)\n",
      " |    |    |-- element: integer (containsNull = true)\n",
      " |    |-- expcat: array (nullable = true)\n",
      " |    |    |-- element: integer (containsNull = true)\n",
      " |    |-- incat: array (nullable = true)\n",
      " |    |    |-- element: integer (containsNull = true)\n",
      " |    |-- isnew: array (nullable = true)\n",
      " |    |    |-- element: integer (containsNull = true)\n",
      " |    |-- jobcat: array (nullable = true)\n",
      " |    |    |-- element: integer (containsNull = true)\n",
      " |    |-- cat: array (nullable = true)\n",
      " |    |    |-- element: integer (containsNull = true)\n",
      " |    |-- jobexp: array (nullable = true)\n",
      " |    |    |-- element: integer (containsNull = true)\n",
      " |    |-- ro: array (nullable = true)\n",
      " |    |    |-- element: integer (containsNull = true)\n",
      " |    |-- rostatus: array (nullable = true)\n",
      " |    |    |-- element: integer (containsNull = true)\n",
      " |    |-- s9: array (nullable = true)\n",
      " |    |    |-- element: integer (containsNull = true)\n",
      " |    |-- wf: array (nullable = true)\n",
      " |    |    |-- element: integer (containsNull = true)\n",
      " |    |-- wt: array (nullable = true)\n",
      " |    |    |-- element: integer (containsNull = true)\n",
      " |    |-- zone: array (nullable = true)\n",
      " |    |    |-- element: integer (containsNull = true)\n",
      " |    |-- order: integer (nullable = true)\n",
      " |    |-- asc: integer (nullable = true)\n",
      " |    |-- scmax: integer (nullable = true)\n",
      " |    |-- scmin: integer (nullable = true)\n",
      " |    |-- kwop: boolean (nullable = true)\n",
      " |    |-- m: boolean (nullable = true)\n",
      " |    |-- s5: integer (nullable = true)\n",
      " |    |-- sr: integer (nullable = true)\n",
      " |-- tokens: array (nullable = true)\n",
      " |    |-- element: string (containsNull = true)\n",
      " |-- rel_list: array (nullable = true)\n",
      " |    |-- element: short (containsNull = true)\n",
      "\n"
     ]
    }
   ],
   "source": [
    "train_click_processed.printSchema()"
   ]
  },
  {
   "cell_type": "code",
   "execution_count": 5,
   "metadata": {},
   "outputs": [
    {
     "name": "stdout",
     "output_type": "stream",
     "text": [
      "+-------+-----------------+\n",
      "|keyword|           tokens|\n",
      "+-------+-----------------+\n",
      "| bureau|         [bureau]|\n",
      "|    台積 |             [台积]|\n",
      "|     早班|             [早班]|\n",
      "|     秘書|             [秘书]|\n",
      "|     課級|             [课级]|\n",
      "|軟體測試工程師|[软体, 测试, 工程, 工程师]|\n",
      "|  外勤 維修|         [外勤, 维修]|\n",
      "|     貿易|             [贸易]|\n",
      "|   無經驗可|       [无, 经验, 可]|\n",
      "|     馬達|             [马达]|\n",
      "|  聯結車司機|      [联结, 车, 司机]|\n",
      "|    Smt|            [Smt]|\n",
      "|     電控|             [电控]|\n",
      "|   行政工作|         [行政, 工作]|\n",
      "|     電腦|             [电脑]|\n",
      "|   冷凍食品|         [冷冻, 食品]|\n",
      "|      農|              [农]|\n",
      "|    SMT|            [SMT]|\n",
      "|     法務|             [法务]|\n",
      "|     成衣|             [成衣]|\n",
      "+-------+-----------------+\n",
      "only showing top 20 rows\n",
      "\n"
     ]
    }
   ],
   "source": [
    "train_click_processed.select('query_params.keyword', 'tokens').show()"
   ]
  },
  {
   "cell_type": "markdown",
   "metadata": {},
   "source": [
    "### Grouped"
   ]
  },
  {
   "cell_type": "code",
   "execution_count": 10,
   "metadata": {},
   "outputs": [],
   "source": [
    "from hack104_rec.train_click import get_tfidf"
   ]
  },
  {
   "cell_type": "code",
   "execution_count": 15,
   "metadata": {},
   "outputs": [],
   "source": [
    "sdf = train_click_processed.limit(10).withColumn('text_score', get_tfidf.udf('joblist', 'tokens'))"
   ]
  },
  {
   "cell_type": "code",
   "execution_count": 34,
   "metadata": {},
   "outputs": [
    {
     "name": "stdout",
     "output_type": "stream",
     "text": [
      "root\n",
      " |-- action: string (nullable = true)\n",
      " |-- date: date (nullable = true)\n",
      " |-- joblist: array (nullable = true)\n",
      " |    |-- element: long (containsNull = true)\n",
      " |-- jobno: long (nullable = true)\n",
      " |-- querystring: string (nullable = true)\n",
      " |-- source: string (nullable = true)\n",
      " |-- id: long (nullable = true)\n",
      " |-- datetime: timestamp (nullable = true)\n",
      " |-- query_params: struct (nullable = true)\n",
      " |    |-- keyword: string (nullable = true)\n",
      " |    |-- sctp: integer (nullable = true)\n",
      " |    |-- mode: integer (nullable = true)\n",
      " |    |-- wktm: integer (nullable = true)\n",
      " |    |-- area: array (nullable = true)\n",
      " |    |    |-- element: integer (containsNull = true)\n",
      " |    |-- dep: array (nullable = true)\n",
      " |    |    |-- element: integer (containsNull = true)\n",
      " |    |-- edu: array (nullable = true)\n",
      " |    |    |-- element: integer (containsNull = true)\n",
      " |    |-- expcat: array (nullable = true)\n",
      " |    |    |-- element: integer (containsNull = true)\n",
      " |    |-- incat: array (nullable = true)\n",
      " |    |    |-- element: integer (containsNull = true)\n",
      " |    |-- isnew: array (nullable = true)\n",
      " |    |    |-- element: integer (containsNull = true)\n",
      " |    |-- jobcat: array (nullable = true)\n",
      " |    |    |-- element: integer (containsNull = true)\n",
      " |    |-- cat: array (nullable = true)\n",
      " |    |    |-- element: integer (containsNull = true)\n",
      " |    |-- jobexp: array (nullable = true)\n",
      " |    |    |-- element: integer (containsNull = true)\n",
      " |    |-- ro: array (nullable = true)\n",
      " |    |    |-- element: integer (containsNull = true)\n",
      " |    |-- rostatus: array (nullable = true)\n",
      " |    |    |-- element: integer (containsNull = true)\n",
      " |    |-- s9: array (nullable = true)\n",
      " |    |    |-- element: integer (containsNull = true)\n",
      " |    |-- wf: array (nullable = true)\n",
      " |    |    |-- element: integer (containsNull = true)\n",
      " |    |-- wt: array (nullable = true)\n",
      " |    |    |-- element: integer (containsNull = true)\n",
      " |    |-- zone: array (nullable = true)\n",
      " |    |    |-- element: integer (containsNull = true)\n",
      " |    |-- order: integer (nullable = true)\n",
      " |    |-- asc: integer (nullable = true)\n",
      " |    |-- scmax: integer (nullable = true)\n",
      " |    |-- scmin: integer (nullable = true)\n",
      " |    |-- kwop: boolean (nullable = true)\n",
      " |    |-- m: boolean (nullable = true)\n",
      " |    |-- s5: integer (nullable = true)\n",
      " |    |-- sr: integer (nullable = true)\n",
      " |-- tokens: array (nullable = true)\n",
      " |    |-- element: string (containsNull = true)\n",
      " |-- rel_list: array (nullable = true)\n",
      " |    |-- element: short (containsNull = true)\n",
      " |-- text_score: array (nullable = true)\n",
      " |    |-- element: struct (containsNull = true)\n",
      " |    |    |-- jobno: string (nullable = true)\n",
      " |    |    |-- description: float (nullable = true)\n",
      " |    |    |-- job: float (nullable = true)\n",
      " |    |    |-- others: float (nullable = true)\n",
      " |    |    |-- management: float (nullable = true)\n",
      " |    |    |-- name: float (nullable = true)\n",
      " |    |    |-- product: float (nullable = true)\n",
      " |    |    |-- profile: float (nullable = true)\n",
      " |    |    |-- welfare: float (nullable = true)\n",
      "\n"
     ]
    }
   ],
   "source": [
    "sdf.printSchema()"
   ]
  },
  {
   "cell_type": "code",
   "execution_count": 53,
   "metadata": {},
   "outputs": [
    {
     "name": "stdout",
     "output_type": "stream",
     "text": [
      "+-----------+--------+-----------+---+------+----------+----+-------+---------+-------+\n",
      "|         id|   jobno|description|job|others|management|name|product|  profile|welfare|\n",
      "+-----------+--------+-----------+---+------+----------+----+-------+---------+-------+\n",
      "|34359738368| 9616675|   20.53792|0.0|   0.0|       0.0| 0.0|    0.0|      0.0|    0.0|\n",
      "|34359738368| 6748608|        0.0|0.0|   0.0|       0.0| 0.0|    0.0|      0.0|    0.0|\n",
      "|34359738368| 9888331|        0.0|0.0|   0.0|       0.0| 0.0|    0.0|17.117153|    0.0|\n",
      "|34359738368| 9888332|        0.0|0.0|   0.0|       0.0| 0.0|    0.0|18.432102|    0.0|\n",
      "|34359738368| 9888351|        0.0|0.0|   0.0|       0.0| 0.0|    0.0|      0.0|    0.0|\n",
      "|34359738368| 4190009|        0.0|0.0|   0.0|       0.0| 0.0|    0.0|17.117153|    0.0|\n",
      "|34359738368| 4793570|        0.0|0.0|   0.0|       0.0| 0.0|    0.0|      0.0|    0.0|\n",
      "|34359738368| 4823347|        0.0|0.0|   0.0|       0.0| 0.0|    0.0|18.068455|    0.0|\n",
      "|34359738368| 6345406|        0.0|0.0|   0.0|       0.0| 0.0|    0.0|18.068455|    0.0|\n",
      "|34359738368| 6476231|        0.0|0.0|   0.0|       0.0| 0.0|    0.0|17.131653|    0.0|\n",
      "|34359738368| 8735015|        0.0|0.0|   0.0|       0.0| 0.0|    0.0|      0.0|    0.0|\n",
      "|34359738368| 9693438|        0.0|0.0|   0.0|       0.0| 0.0|    0.0|17.117153|    0.0|\n",
      "|34359738368| 9474016|        0.0|0.0|   0.0|       0.0| 0.0|    0.0|17.117153|    0.0|\n",
      "|34359738368|10353576|        0.0|0.0|   0.0|       0.0| 0.0|    0.0|17.131653|    0.0|\n",
      "|34359738368|10166493|        0.0|0.0|   0.0|       0.0| 0.0|    0.0|      0.0|    0.0|\n",
      "|34359738368|10128477|        0.0|0.0|   0.0|       0.0| 0.0|    0.0|      0.0|    0.0|\n",
      "|34359738368|10042661|        0.0|0.0|   0.0|       0.0| 0.0|    0.0|      0.0|    0.0|\n",
      "|34359738368| 6467598|        0.0|0.0|   0.0|       0.0| 0.0|    0.0|      0.0|    0.0|\n",
      "|34359738368| 7262484|        0.0|0.0|   0.0|       0.0| 0.0|    0.0|      0.0|    0.0|\n",
      "|34359738368| 7766505|        0.0|0.0|   0.0|       0.0| 0.0|    0.0|      0.0|    0.0|\n",
      "+-----------+--------+-----------+---+------+----------+----+-------+---------+-------+\n",
      "only showing top 20 rows\n",
      "\n"
     ]
    }
   ],
   "source": [
    "(sdf.limit(2)\n",
    "    .select('id', f.posexplode('text_score').alias('tscore_pos', 'text_score'))\n",
    "    .select('id', 'text_score.*')\n",
    "    .show()\n",
    ")\n",
    "sdf."
   ]
  },
  {
   "cell_type": "code",
   "execution_count": 51,
   "metadata": {},
   "outputs": [
    {
     "name": "stdout",
     "output_type": "stream",
     "text": [
      "+-----------+------+--------+\n",
      "|         id|jobpos| joblist|\n",
      "+-----------+------+--------+\n",
      "|34359738368|     0| 9616675|\n",
      "|34359738368|     1| 6748608|\n",
      "|34359738368|     2| 9888331|\n",
      "|34359738368|     3| 9888332|\n",
      "|34359738368|     4| 9888351|\n",
      "|34359738368|     5| 4190009|\n",
      "|34359738368|     6| 4793570|\n",
      "|34359738368|     7| 4823347|\n",
      "|34359738368|     8| 6345406|\n",
      "|34359738368|     9| 6476231|\n",
      "|34359738368|    10| 8735015|\n",
      "|34359738368|    11| 9693438|\n",
      "|34359738368|    12| 9474016|\n",
      "|34359738368|    13|10353576|\n",
      "|34359738368|    14|10166493|\n",
      "|34359738368|    15|10128477|\n",
      "|34359738368|    16|10042661|\n",
      "|34359738368|    17| 6467598|\n",
      "|34359738368|    18| 7262484|\n",
      "|34359738368|    19| 7766505|\n",
      "+-----------+------+--------+\n",
      "only showing top 20 rows\n",
      "\n"
     ]
    }
   ],
   "source": [
    "(sdf.limit(2)\n",
    "    .select('id', f.posexplode('joblist').alias('jobpos', 'joblist'))\n",
    "#     .select('*', f.posexplode('text_score').alias('tscore_pos', 'text_score'))\n",
    "#     .select('joblist', 'text_score.*')\n",
    "    .show()\n",
    ")"
   ]
  },
  {
   "cell_type": "code",
   "execution_count": 17,
   "metadata": {},
   "outputs": [
    {
     "name": "stdout",
     "output_type": "stream",
     "text": [
      "CPU times: user 35.3 ms, sys: 19.5 ms, total: 54.8 ms\n",
      "Wall time: 19.5 s\n"
     ]
    }
   ],
   "source": [
    "%%time\n",
    "\n",
    "TrainClickGrouped.populate()"
   ]
  },
  {
   "cell_type": "code",
   "execution_count": 3,
   "metadata": {},
   "outputs": [
    {
     "ename": "AnalysisException",
     "evalue": "'Unable to infer schema for Parquet. It must be specified manually.;'",
     "output_type": "error",
     "traceback": [
      "\u001b[0;31m---------------------------------------------------------------------------\u001b[0m",
      "\u001b[0;31mPy4JJavaError\u001b[0m                             Traceback (most recent call last)",
      "\u001b[0;32m~/miniconda3/envs/spark/lib/python3.7/site-packages/pyspark/sql/utils.py\u001b[0m in \u001b[0;36mdeco\u001b[0;34m(*a, **kw)\u001b[0m\n\u001b[1;32m     62\u001b[0m         \u001b[0;32mtry\u001b[0m\u001b[0;34m:\u001b[0m\u001b[0;34m\u001b[0m\u001b[0m\n\u001b[0;32m---> 63\u001b[0;31m             \u001b[0;32mreturn\u001b[0m \u001b[0mf\u001b[0m\u001b[0;34m(\u001b[0m\u001b[0;34m*\u001b[0m\u001b[0ma\u001b[0m\u001b[0;34m,\u001b[0m \u001b[0;34m**\u001b[0m\u001b[0mkw\u001b[0m\u001b[0;34m)\u001b[0m\u001b[0;34m\u001b[0m\u001b[0m\n\u001b[0m\u001b[1;32m     64\u001b[0m         \u001b[0;32mexcept\u001b[0m \u001b[0mpy4j\u001b[0m\u001b[0;34m.\u001b[0m\u001b[0mprotocol\u001b[0m\u001b[0;34m.\u001b[0m\u001b[0mPy4JJavaError\u001b[0m \u001b[0;32mas\u001b[0m \u001b[0me\u001b[0m\u001b[0;34m:\u001b[0m\u001b[0;34m\u001b[0m\u001b[0m\n",
      "\u001b[0;32m~/miniconda3/envs/spark/lib/python3.7/site-packages/py4j/protocol.py\u001b[0m in \u001b[0;36mget_return_value\u001b[0;34m(answer, gateway_client, target_id, name)\u001b[0m\n\u001b[1;32m    327\u001b[0m                     \u001b[0;34m\"An error occurred while calling {0}{1}{2}.\\n\"\u001b[0m\u001b[0;34m.\u001b[0m\u001b[0;34m\u001b[0m\u001b[0m\n\u001b[0;32m--> 328\u001b[0;31m                     format(target_id, \".\", name), value)\n\u001b[0m\u001b[1;32m    329\u001b[0m             \u001b[0;32melse\u001b[0m\u001b[0;34m:\u001b[0m\u001b[0;34m\u001b[0m\u001b[0m\n",
      "\u001b[0;31mPy4JJavaError\u001b[0m: An error occurred while calling o33.parquet.\n: org.apache.spark.sql.AnalysisException: Unable to infer schema for Parquet. It must be specified manually.;\n\tat org.apache.spark.sql.execution.datasources.DataSource$$anonfun$9.apply(DataSource.scala:207)\n\tat org.apache.spark.sql.execution.datasources.DataSource$$anonfun$9.apply(DataSource.scala:207)\n\tat scala.Option.getOrElse(Option.scala:121)\n\tat org.apache.spark.sql.execution.datasources.DataSource.getOrInferFileFormatSchema(DataSource.scala:206)\n\tat org.apache.spark.sql.execution.datasources.DataSource.resolveRelation(DataSource.scala:392)\n\tat org.apache.spark.sql.DataFrameReader.loadV1Source(DataFrameReader.scala:239)\n\tat org.apache.spark.sql.DataFrameReader.load(DataFrameReader.scala:227)\n\tat org.apache.spark.sql.DataFrameReader.parquet(DataFrameReader.scala:622)\n\tat sun.reflect.NativeMethodAccessorImpl.invoke0(Native Method)\n\tat sun.reflect.NativeMethodAccessorImpl.invoke(NativeMethodAccessorImpl.java:62)\n\tat sun.reflect.DelegatingMethodAccessorImpl.invoke(DelegatingMethodAccessorImpl.java:43)\n\tat java.lang.reflect.Method.invoke(Method.java:498)\n\tat py4j.reflection.MethodInvoker.invoke(MethodInvoker.java:244)\n\tat py4j.reflection.ReflectionEngine.invoke(ReflectionEngine.java:357)\n\tat py4j.Gateway.invoke(Gateway.java:282)\n\tat py4j.commands.AbstractCommand.invokeMethod(AbstractCommand.java:132)\n\tat py4j.commands.CallCommand.execute(CallCommand.java:79)\n\tat py4j.GatewayConnection.run(GatewayConnection.java:238)\n\tat java.lang.Thread.run(Thread.java:748)\n",
      "\nDuring handling of the above exception, another exception occurred:\n",
      "\u001b[0;31mAnalysisException\u001b[0m                         Traceback (most recent call last)",
      "\u001b[0;32m<ipython-input-3-681c7bb1ca3f>\u001b[0m in \u001b[0;36m<module>\u001b[0;34m()\u001b[0m\n\u001b[0;32m----> 1\u001b[0;31m \u001b[0mtrain_click_grouped\u001b[0m \u001b[0;34m=\u001b[0m \u001b[0mTrainClickGrouped\u001b[0m\u001b[0;34m.\u001b[0m\u001b[0mquery\u001b[0m\u001b[0;34m(\u001b[0m\u001b[0;34m)\u001b[0m\u001b[0;34m\u001b[0m\u001b[0m\n\u001b[0m",
      "\u001b[0;32m~/projects/hack104-rec/hack104_rec/core.py\u001b[0m in \u001b[0;36mwrapper\u001b[0;34m(*args, **kwargs)\u001b[0m\n\u001b[1;32m     50\u001b[0m                 .getOrCreate())\n\u001b[1;32m     51\u001b[0m \u001b[0;34m\u001b[0m\u001b[0m\n\u001b[0;32m---> 52\u001b[0;31m             \u001b[0mret\u001b[0m \u001b[0;34m=\u001b[0m \u001b[0mwrapper\u001b[0m\u001b[0;34m.\u001b[0m\u001b[0mfunc\u001b[0m\u001b[0;34m(\u001b[0m\u001b[0;34m*\u001b[0m\u001b[0margs\u001b[0m\u001b[0;34m,\u001b[0m \u001b[0mspark\u001b[0m\u001b[0;34m=\u001b[0m\u001b[0mspark\u001b[0m\u001b[0;34m,\u001b[0m \u001b[0;34m**\u001b[0m\u001b[0mkwargs\u001b[0m\u001b[0;34m)\u001b[0m\u001b[0;34m\u001b[0m\u001b[0m\n\u001b[0m\u001b[1;32m     53\u001b[0m \u001b[0;34m\u001b[0m\u001b[0m\n\u001b[1;32m     54\u001b[0m         \u001b[0;32melse\u001b[0m\u001b[0;34m:\u001b[0m\u001b[0;34m\u001b[0m\u001b[0m\n",
      "\u001b[0;32m~/projects/hack104-rec/hack104_rec/data.py\u001b[0m in \u001b[0;36mquery\u001b[0;34m(cls, spark)\u001b[0m\n\u001b[1;32m     45\u001b[0m                 schema=cls.data.spark_schema)\n\u001b[1;32m     46\u001b[0m         \u001b[0;32melif\u001b[0m \u001b[0mcls\u001b[0m\u001b[0;34m.\u001b[0m\u001b[0mdata\u001b[0m\u001b[0;34m.\u001b[0m\u001b[0mdata_format\u001b[0m \u001b[0;32mis\u001b[0m \u001b[0mDataFormat\u001b[0m\u001b[0;34m.\u001b[0m\u001b[0mPARQUET\u001b[0m\u001b[0;34m:\u001b[0m\u001b[0;34m\u001b[0m\u001b[0m\n\u001b[0;32m---> 47\u001b[0;31m             \u001b[0;32mreturn\u001b[0m \u001b[0mspark\u001b[0m\u001b[0;34m.\u001b[0m\u001b[0mread\u001b[0m\u001b[0;34m.\u001b[0m\u001b[0mparquet\u001b[0m\u001b[0;34m(\u001b[0m\u001b[0mcls\u001b[0m\u001b[0;34m.\u001b[0m\u001b[0mdata\u001b[0m\u001b[0;34m.\u001b[0m\u001b[0mfull_path\u001b[0m\u001b[0;34m)\u001b[0m\u001b[0;34m\u001b[0m\u001b[0m\n\u001b[0m\u001b[1;32m     48\u001b[0m         \u001b[0;32melse\u001b[0m\u001b[0;34m:\u001b[0m\u001b[0;34m\u001b[0m\u001b[0m\n\u001b[1;32m     49\u001b[0m             \u001b[0;32mraise\u001b[0m \u001b[0mValueError\u001b[0m\u001b[0;34m(\u001b[0m\u001b[0;34m'Unknown DataFormat'\u001b[0m\u001b[0;34m)\u001b[0m\u001b[0;34m\u001b[0m\u001b[0m\n",
      "\u001b[0;32m~/miniconda3/envs/spark/lib/python3.7/site-packages/pyspark/sql/readwriter.py\u001b[0m in \u001b[0;36mparquet\u001b[0;34m(self, *paths)\u001b[0m\n\u001b[1;32m    301\u001b[0m         \u001b[0;34m[\u001b[0m\u001b[0;34m(\u001b[0m\u001b[0;34m'name'\u001b[0m\u001b[0;34m,\u001b[0m \u001b[0;34m'string'\u001b[0m\u001b[0;34m)\u001b[0m\u001b[0;34m,\u001b[0m \u001b[0;34m(\u001b[0m\u001b[0;34m'year'\u001b[0m\u001b[0;34m,\u001b[0m \u001b[0;34m'int'\u001b[0m\u001b[0;34m)\u001b[0m\u001b[0;34m,\u001b[0m \u001b[0;34m(\u001b[0m\u001b[0;34m'month'\u001b[0m\u001b[0;34m,\u001b[0m \u001b[0;34m'int'\u001b[0m\u001b[0;34m)\u001b[0m\u001b[0;34m,\u001b[0m \u001b[0;34m(\u001b[0m\u001b[0;34m'day'\u001b[0m\u001b[0;34m,\u001b[0m \u001b[0;34m'int'\u001b[0m\u001b[0;34m)\u001b[0m\u001b[0;34m]\u001b[0m\u001b[0;34m\u001b[0m\u001b[0m\n\u001b[1;32m    302\u001b[0m         \"\"\"\n\u001b[0;32m--> 303\u001b[0;31m         \u001b[0;32mreturn\u001b[0m \u001b[0mself\u001b[0m\u001b[0;34m.\u001b[0m\u001b[0m_df\u001b[0m\u001b[0;34m(\u001b[0m\u001b[0mself\u001b[0m\u001b[0;34m.\u001b[0m\u001b[0m_jreader\u001b[0m\u001b[0;34m.\u001b[0m\u001b[0mparquet\u001b[0m\u001b[0;34m(\u001b[0m\u001b[0m_to_seq\u001b[0m\u001b[0;34m(\u001b[0m\u001b[0mself\u001b[0m\u001b[0;34m.\u001b[0m\u001b[0m_spark\u001b[0m\u001b[0;34m.\u001b[0m\u001b[0m_sc\u001b[0m\u001b[0;34m,\u001b[0m \u001b[0mpaths\u001b[0m\u001b[0;34m)\u001b[0m\u001b[0;34m)\u001b[0m\u001b[0;34m)\u001b[0m\u001b[0;34m\u001b[0m\u001b[0m\n\u001b[0m\u001b[1;32m    304\u001b[0m \u001b[0;34m\u001b[0m\u001b[0m\n\u001b[1;32m    305\u001b[0m     \u001b[0;34m@\u001b[0m\u001b[0mignore_unicode_prefix\u001b[0m\u001b[0;34m\u001b[0m\u001b[0m\n",
      "\u001b[0;32m~/miniconda3/envs/spark/lib/python3.7/site-packages/py4j/java_gateway.py\u001b[0m in \u001b[0;36m__call__\u001b[0;34m(self, *args)\u001b[0m\n\u001b[1;32m   1255\u001b[0m         \u001b[0manswer\u001b[0m \u001b[0;34m=\u001b[0m \u001b[0mself\u001b[0m\u001b[0;34m.\u001b[0m\u001b[0mgateway_client\u001b[0m\u001b[0;34m.\u001b[0m\u001b[0msend_command\u001b[0m\u001b[0;34m(\u001b[0m\u001b[0mcommand\u001b[0m\u001b[0;34m)\u001b[0m\u001b[0;34m\u001b[0m\u001b[0m\n\u001b[1;32m   1256\u001b[0m         return_value = get_return_value(\n\u001b[0;32m-> 1257\u001b[0;31m             answer, self.gateway_client, self.target_id, self.name)\n\u001b[0m\u001b[1;32m   1258\u001b[0m \u001b[0;34m\u001b[0m\u001b[0m\n\u001b[1;32m   1259\u001b[0m         \u001b[0;32mfor\u001b[0m \u001b[0mtemp_arg\u001b[0m \u001b[0;32min\u001b[0m \u001b[0mtemp_args\u001b[0m\u001b[0;34m:\u001b[0m\u001b[0;34m\u001b[0m\u001b[0m\n",
      "\u001b[0;32m~/miniconda3/envs/spark/lib/python3.7/site-packages/pyspark/sql/utils.py\u001b[0m in \u001b[0;36mdeco\u001b[0;34m(*a, **kw)\u001b[0m\n\u001b[1;32m     67\u001b[0m                                              e.java_exception.getStackTrace()))\n\u001b[1;32m     68\u001b[0m             \u001b[0;32mif\u001b[0m \u001b[0ms\u001b[0m\u001b[0;34m.\u001b[0m\u001b[0mstartswith\u001b[0m\u001b[0;34m(\u001b[0m\u001b[0;34m'org.apache.spark.sql.AnalysisException: '\u001b[0m\u001b[0;34m)\u001b[0m\u001b[0;34m:\u001b[0m\u001b[0;34m\u001b[0m\u001b[0m\n\u001b[0;32m---> 69\u001b[0;31m                 \u001b[0;32mraise\u001b[0m \u001b[0mAnalysisException\u001b[0m\u001b[0;34m(\u001b[0m\u001b[0ms\u001b[0m\u001b[0;34m.\u001b[0m\u001b[0msplit\u001b[0m\u001b[0;34m(\u001b[0m\u001b[0;34m': '\u001b[0m\u001b[0;34m,\u001b[0m \u001b[0;36m1\u001b[0m\u001b[0;34m)\u001b[0m\u001b[0;34m[\u001b[0m\u001b[0;36m1\u001b[0m\u001b[0;34m]\u001b[0m\u001b[0;34m,\u001b[0m \u001b[0mstackTrace\u001b[0m\u001b[0;34m)\u001b[0m\u001b[0;34m\u001b[0m\u001b[0m\n\u001b[0m\u001b[1;32m     70\u001b[0m             \u001b[0;32mif\u001b[0m \u001b[0ms\u001b[0m\u001b[0;34m.\u001b[0m\u001b[0mstartswith\u001b[0m\u001b[0;34m(\u001b[0m\u001b[0;34m'org.apache.spark.sql.catalyst.analysis'\u001b[0m\u001b[0;34m)\u001b[0m\u001b[0;34m:\u001b[0m\u001b[0;34m\u001b[0m\u001b[0m\n\u001b[1;32m     71\u001b[0m                 \u001b[0;32mraise\u001b[0m \u001b[0mAnalysisException\u001b[0m\u001b[0;34m(\u001b[0m\u001b[0ms\u001b[0m\u001b[0;34m.\u001b[0m\u001b[0msplit\u001b[0m\u001b[0;34m(\u001b[0m\u001b[0;34m': '\u001b[0m\u001b[0;34m,\u001b[0m \u001b[0;36m1\u001b[0m\u001b[0;34m)\u001b[0m\u001b[0;34m[\u001b[0m\u001b[0;36m1\u001b[0m\u001b[0;34m]\u001b[0m\u001b[0;34m,\u001b[0m \u001b[0mstackTrace\u001b[0m\u001b[0;34m)\u001b[0m\u001b[0;34m\u001b[0m\u001b[0m\n",
      "\u001b[0;31mAnalysisException\u001b[0m: 'Unable to infer schema for Parquet. It must be specified manually.;'"
     ]
    }
   ],
   "source": [
    "train_click_grouped = TrainClickGrouped.query()"
   ]
  },
  {
   "cell_type": "code",
   "execution_count": 5,
   "metadata": {},
   "outputs": [
    {
     "name": "stdout",
     "output_type": "stream",
     "text": [
      "root\n",
      " |-- source: string (nullable = true)\n",
      " |-- date: date (nullable = true)\n",
      " |-- datetime: timestamp (nullable = true)\n",
      " |-- query_params: struct (nullable = true)\n",
      " |    |-- keyword: string (nullable = true)\n",
      " |    |-- sctp: integer (nullable = true)\n",
      " |    |-- mode: integer (nullable = true)\n",
      " |    |-- wktm: integer (nullable = true)\n",
      " |    |-- area: array (nullable = true)\n",
      " |    |    |-- element: integer (containsNull = true)\n",
      " |    |-- dep: array (nullable = true)\n",
      " |    |    |-- element: integer (containsNull = true)\n",
      " |    |-- edu: array (nullable = true)\n",
      " |    |    |-- element: integer (containsNull = true)\n",
      " |    |-- expcat: array (nullable = true)\n",
      " |    |    |-- element: integer (containsNull = true)\n",
      " |    |-- incat: array (nullable = true)\n",
      " |    |    |-- element: integer (containsNull = true)\n",
      " |    |-- isnew: array (nullable = true)\n",
      " |    |    |-- element: integer (containsNull = true)\n",
      " |    |-- jobcat: array (nullable = true)\n",
      " |    |    |-- element: integer (containsNull = true)\n",
      " |    |-- cat: array (nullable = true)\n",
      " |    |    |-- element: integer (containsNull = true)\n",
      " |    |-- jobexp: array (nullable = true)\n",
      " |    |    |-- element: integer (containsNull = true)\n",
      " |    |-- ro: array (nullable = true)\n",
      " |    |    |-- element: integer (containsNull = true)\n",
      " |    |-- rostatus: array (nullable = true)\n",
      " |    |    |-- element: integer (containsNull = true)\n",
      " |    |-- s9: array (nullable = true)\n",
      " |    |    |-- element: integer (containsNull = true)\n",
      " |    |-- wf: array (nullable = true)\n",
      " |    |    |-- element: integer (containsNull = true)\n",
      " |    |-- wt: array (nullable = true)\n",
      " |    |    |-- element: integer (containsNull = true)\n",
      " |    |-- zone: array (nullable = true)\n",
      " |    |    |-- element: integer (containsNull = true)\n",
      " |    |-- order: integer (nullable = true)\n",
      " |    |-- asc: integer (nullable = true)\n",
      " |    |-- scmax: integer (nullable = true)\n",
      " |    |-- scmin: integer (nullable = true)\n",
      " |    |-- kwop: boolean (nullable = true)\n",
      " |    |-- m: boolean (nullable = true)\n",
      " |    |-- s5: integer (nullable = true)\n",
      " |    |-- sr: integer (nullable = true)\n",
      " |-- joblist: array (nullable = true)\n",
      " |    |-- element: long (containsNull = true)\n",
      " |-- tokens: array (nullable = true)\n",
      " |    |-- element: string (containsNull = true)\n",
      " |-- id_list: array (nullable = true)\n",
      " |    |-- element: long (containsNull = true)\n",
      " |-- jobno_list: array (nullable = true)\n",
      " |    |-- element: long (containsNull = true)\n",
      " |-- action_list: array (nullable = true)\n",
      " |    |-- element: string (containsNull = true)\n",
      " |-- rel_list: array (nullable = true)\n",
      " |    |-- element: short (containsNull = true)\n",
      " |-- job_rel_list: array (nullable = true)\n",
      " |    |-- element: struct (containsNull = true)\n",
      " |    |    |-- job: long (nullable = true)\n",
      " |    |    |-- rel: long (nullable = true)\n",
      " |    |    |-- action: string (nullable = true)\n",
      " |-- gid: long (nullable = true)\n",
      "\n"
     ]
    }
   ],
   "source": [
    "train_click_grouped.printSchema()"
   ]
  },
  {
   "cell_type": "markdown",
   "metadata": {},
   "source": [
    "### Exploded"
   ]
  },
  {
   "cell_type": "code",
   "execution_count": 18,
   "metadata": {},
   "outputs": [
    {
     "name": "stdout",
     "output_type": "stream",
     "text": [
      "CPU times: user 11.7 ms, sys: 1.32 ms, total: 13 ms\n",
      "Wall time: 13.2 s\n"
     ]
    }
   ],
   "source": [
    "%%time \n",
    "\n",
    "TrainClickExploded.populate()"
   ]
  },
  {
   "cell_type": "code",
   "execution_count": 3,
   "metadata": {},
   "outputs": [],
   "source": [
    "train_click_exploded = TrainClickExploded.query()"
   ]
  },
  {
   "cell_type": "code",
   "execution_count": 20,
   "metadata": {},
   "outputs": [
    {
     "name": "stdout",
     "output_type": "stream",
     "text": [
      "root\n",
      " |-- source: string (nullable = true)\n",
      " |-- date: date (nullable = true)\n",
      " |-- datetime: timestamp (nullable = true)\n",
      " |-- query_params: struct (nullable = true)\n",
      " |    |-- keyword: string (nullable = true)\n",
      " |    |-- sctp: integer (nullable = true)\n",
      " |    |-- mode: integer (nullable = true)\n",
      " |    |-- wktm: integer (nullable = true)\n",
      " |    |-- area: array (nullable = true)\n",
      " |    |    |-- element: integer (containsNull = true)\n",
      " |    |-- dep: array (nullable = true)\n",
      " |    |    |-- element: integer (containsNull = true)\n",
      " |    |-- edu: array (nullable = true)\n",
      " |    |    |-- element: integer (containsNull = true)\n",
      " |    |-- expcat: array (nullable = true)\n",
      " |    |    |-- element: integer (containsNull = true)\n",
      " |    |-- incat: array (nullable = true)\n",
      " |    |    |-- element: integer (containsNull = true)\n",
      " |    |-- isnew: array (nullable = true)\n",
      " |    |    |-- element: integer (containsNull = true)\n",
      " |    |-- jobcat: array (nullable = true)\n",
      " |    |    |-- element: integer (containsNull = true)\n",
      " |    |-- cat: array (nullable = true)\n",
      " |    |    |-- element: integer (containsNull = true)\n",
      " |    |-- jobexp: array (nullable = true)\n",
      " |    |    |-- element: integer (containsNull = true)\n",
      " |    |-- ro: array (nullable = true)\n",
      " |    |    |-- element: integer (containsNull = true)\n",
      " |    |-- rostatus: array (nullable = true)\n",
      " |    |    |-- element: integer (containsNull = true)\n",
      " |    |-- s9: array (nullable = true)\n",
      " |    |    |-- element: integer (containsNull = true)\n",
      " |    |-- wf: array (nullable = true)\n",
      " |    |    |-- element: integer (containsNull = true)\n",
      " |    |-- wt: array (nullable = true)\n",
      " |    |    |-- element: integer (containsNull = true)\n",
      " |    |-- zone: array (nullable = true)\n",
      " |    |    |-- element: integer (containsNull = true)\n",
      " |    |-- order: integer (nullable = true)\n",
      " |    |-- asc: integer (nullable = true)\n",
      " |    |-- scmax: integer (nullable = true)\n",
      " |    |-- scmin: integer (nullable = true)\n",
      " |    |-- kwop: boolean (nullable = true)\n",
      " |    |-- m: boolean (nullable = true)\n",
      " |    |-- s5: integer (nullable = true)\n",
      " |    |-- sr: integer (nullable = true)\n",
      " |-- gid: long (nullable = true)\n",
      " |-- pos_in_list: integer (nullable = true)\n",
      " |-- job: long (nullable = true)\n",
      " |-- rel: long (nullable = true)\n",
      "\n"
     ]
    }
   ],
   "source": [
    "train_click_exploded.printSchema()"
   ]
  },
  {
   "cell_type": "code",
   "execution_count": 22,
   "metadata": {},
   "outputs": [
    {
     "name": "stdout",
     "output_type": "stream",
     "text": [
      "-RECORD 0---------\n",
      " keyword  | 屈臣氏   \n",
      " sctp     | 0     \n",
      " mode     | 1     \n",
      " wktm     | 0     \n",
      " area     | []    \n",
      " dep      | []    \n",
      " edu      | []    \n",
      " expcat   | []    \n",
      " incat    | []    \n",
      " isnew    | []    \n",
      " jobcat   | []    \n",
      " cat      | []    \n",
      " jobexp   | []    \n",
      " ro       | [1]   \n",
      " rostatus | []    \n",
      " s9       | []    \n",
      " wf       | []    \n",
      " wt       | []    \n",
      " zone     | []    \n",
      " order    | 1     \n",
      " asc      | 0     \n",
      " scmax    | -1    \n",
      " scmin    | -1    \n",
      " kwop     | false \n",
      " m        | false \n",
      " s5       | null  \n",
      " sr       | null  \n",
      "only showing top 1 row\n",
      "\n"
     ]
    }
   ],
   "source": [
    "train_click_exploded.select('query_params.*').show(n=1, vertical=True)"
   ]
  },
  {
   "cell_type": "markdown",
   "metadata": {},
   "source": [
    "### CTR"
   ]
  },
  {
   "cell_type": "code",
   "execution_count": 28,
   "metadata": {},
   "outputs": [
    {
     "ename": "AnalysisException",
     "evalue": "\"cannot resolve '`action`' given input columns: [rel, job, date, pos_in_list, click, datetime, source, gid, query_params];;\\n'Aggregate [date#5911, source#5910, 'action, query_params#5913.keyword, 'job_in_list], [date#5911, source#5910, 'action, query_params#5913.keyword AS keyword#5950, 'job_in_list, count(1) AS impr#5946L, sum(click#5926L) AS click#5948L]\\n+- AnalysisBarrier\\n      +- Project [source#5910, date#5911, datetime#5912, query_params#5913, gid#5914L, pos_in_list#5915, job#5916L, rel#5917L, rel#5917L AS click#5926L]\\n         +- Relation[source#5910,date#5911,datetime#5912,query_params#5913,gid#5914L,pos_in_list#5915,job#5916L,rel#5917L] parquet\\n\"",
     "output_type": "error",
     "traceback": [
      "\u001b[0;31m---------------------------------------------------------------------------\u001b[0m",
      "\u001b[0;31mPy4JJavaError\u001b[0m                             Traceback (most recent call last)",
      "\u001b[0;32m~/miniconda3/envs/spark/lib/python3.7/site-packages/pyspark/sql/utils.py\u001b[0m in \u001b[0;36mdeco\u001b[0;34m(*a, **kw)\u001b[0m\n\u001b[1;32m     62\u001b[0m         \u001b[0;32mtry\u001b[0m\u001b[0;34m:\u001b[0m\u001b[0;34m\u001b[0m\u001b[0m\n\u001b[0;32m---> 63\u001b[0;31m             \u001b[0;32mreturn\u001b[0m \u001b[0mf\u001b[0m\u001b[0;34m(\u001b[0m\u001b[0;34m*\u001b[0m\u001b[0ma\u001b[0m\u001b[0;34m,\u001b[0m \u001b[0;34m**\u001b[0m\u001b[0mkw\u001b[0m\u001b[0;34m)\u001b[0m\u001b[0;34m\u001b[0m\u001b[0m\n\u001b[0m\u001b[1;32m     64\u001b[0m         \u001b[0;32mexcept\u001b[0m \u001b[0mpy4j\u001b[0m\u001b[0;34m.\u001b[0m\u001b[0mprotocol\u001b[0m\u001b[0;34m.\u001b[0m\u001b[0mPy4JJavaError\u001b[0m \u001b[0;32mas\u001b[0m \u001b[0me\u001b[0m\u001b[0;34m:\u001b[0m\u001b[0;34m\u001b[0m\u001b[0m\n",
      "\u001b[0;32m~/miniconda3/envs/spark/lib/python3.7/site-packages/py4j/protocol.py\u001b[0m in \u001b[0;36mget_return_value\u001b[0;34m(answer, gateway_client, target_id, name)\u001b[0m\n\u001b[1;32m    327\u001b[0m                     \u001b[0;34m\"An error occurred while calling {0}{1}{2}.\\n\"\u001b[0m\u001b[0;34m.\u001b[0m\u001b[0;34m\u001b[0m\u001b[0m\n\u001b[0;32m--> 328\u001b[0;31m                     format(target_id, \".\", name), value)\n\u001b[0m\u001b[1;32m    329\u001b[0m             \u001b[0;32melse\u001b[0m\u001b[0;34m:\u001b[0m\u001b[0;34m\u001b[0m\u001b[0m\n",
      "\u001b[0;31mPy4JJavaError\u001b[0m: An error occurred while calling o535.agg.\n: org.apache.spark.sql.AnalysisException: cannot resolve '`action`' given input columns: [rel, job, date, pos_in_list, click, datetime, source, gid, query_params];;\n'Aggregate [date#5911, source#5910, 'action, query_params#5913.keyword, 'job_in_list], [date#5911, source#5910, 'action, query_params#5913.keyword AS keyword#5950, 'job_in_list, count(1) AS impr#5946L, sum(click#5926L) AS click#5948L]\n+- AnalysisBarrier\n      +- Project [source#5910, date#5911, datetime#5912, query_params#5913, gid#5914L, pos_in_list#5915, job#5916L, rel#5917L, rel#5917L AS click#5926L]\n         +- Relation[source#5910,date#5911,datetime#5912,query_params#5913,gid#5914L,pos_in_list#5915,job#5916L,rel#5917L] parquet\n\n\tat org.apache.spark.sql.catalyst.analysis.package$AnalysisErrorAt.failAnalysis(package.scala:42)\n\tat org.apache.spark.sql.catalyst.analysis.CheckAnalysis$$anonfun$checkAnalysis$1$$anonfun$apply$2.applyOrElse(CheckAnalysis.scala:88)\n\tat org.apache.spark.sql.catalyst.analysis.CheckAnalysis$$anonfun$checkAnalysis$1$$anonfun$apply$2.applyOrElse(CheckAnalysis.scala:85)\n\tat org.apache.spark.sql.catalyst.trees.TreeNode$$anonfun$transformUp$1.apply(TreeNode.scala:289)\n\tat org.apache.spark.sql.catalyst.trees.TreeNode$$anonfun$transformUp$1.apply(TreeNode.scala:289)\n\tat org.apache.spark.sql.catalyst.trees.CurrentOrigin$.withOrigin(TreeNode.scala:70)\n\tat org.apache.spark.sql.catalyst.trees.TreeNode.transformUp(TreeNode.scala:288)\n\tat org.apache.spark.sql.catalyst.plans.QueryPlan$$anonfun$transformExpressionsUp$1.apply(QueryPlan.scala:95)\n\tat org.apache.spark.sql.catalyst.plans.QueryPlan$$anonfun$transformExpressionsUp$1.apply(QueryPlan.scala:95)\n\tat org.apache.spark.sql.catalyst.plans.QueryPlan$$anonfun$1.apply(QueryPlan.scala:107)\n\tat org.apache.spark.sql.catalyst.plans.QueryPlan$$anonfun$1.apply(QueryPlan.scala:107)\n\tat org.apache.spark.sql.catalyst.trees.CurrentOrigin$.withOrigin(TreeNode.scala:70)\n\tat org.apache.spark.sql.catalyst.plans.QueryPlan.transformExpression$1(QueryPlan.scala:106)\n\tat org.apache.spark.sql.catalyst.plans.QueryPlan.org$apache$spark$sql$catalyst$plans$QueryPlan$$recursiveTransform$1(QueryPlan.scala:118)\n\tat org.apache.spark.sql.catalyst.plans.QueryPlan$$anonfun$org$apache$spark$sql$catalyst$plans$QueryPlan$$recursiveTransform$1$1.apply(QueryPlan.scala:122)\n\tat scala.collection.TraversableLike$$anonfun$map$1.apply(TraversableLike.scala:234)\n\tat scala.collection.TraversableLike$$anonfun$map$1.apply(TraversableLike.scala:234)\n\tat scala.collection.mutable.ResizableArray$class.foreach(ResizableArray.scala:59)\n\tat scala.collection.mutable.ArrayBuffer.foreach(ArrayBuffer.scala:48)\n\tat scala.collection.TraversableLike$class.map(TraversableLike.scala:234)\n\tat scala.collection.AbstractTraversable.map(Traversable.scala:104)\n\tat org.apache.spark.sql.catalyst.plans.QueryPlan.org$apache$spark$sql$catalyst$plans$QueryPlan$$recursiveTransform$1(QueryPlan.scala:122)\n\tat org.apache.spark.sql.catalyst.plans.QueryPlan$$anonfun$2.apply(QueryPlan.scala:127)\n\tat org.apache.spark.sql.catalyst.trees.TreeNode.mapProductIterator(TreeNode.scala:187)\n\tat org.apache.spark.sql.catalyst.plans.QueryPlan.mapExpressions(QueryPlan.scala:127)\n\tat org.apache.spark.sql.catalyst.plans.QueryPlan.transformExpressionsUp(QueryPlan.scala:95)\n\tat org.apache.spark.sql.catalyst.analysis.CheckAnalysis$$anonfun$checkAnalysis$1.apply(CheckAnalysis.scala:85)\n\tat org.apache.spark.sql.catalyst.analysis.CheckAnalysis$$anonfun$checkAnalysis$1.apply(CheckAnalysis.scala:80)\n\tat org.apache.spark.sql.catalyst.trees.TreeNode.foreachUp(TreeNode.scala:127)\n\tat org.apache.spark.sql.catalyst.analysis.CheckAnalysis$class.checkAnalysis(CheckAnalysis.scala:80)\n\tat org.apache.spark.sql.catalyst.analysis.Analyzer.checkAnalysis(Analyzer.scala:92)\n\tat org.apache.spark.sql.catalyst.analysis.Analyzer.executeAndCheck(Analyzer.scala:105)\n\tat org.apache.spark.sql.execution.QueryExecution.analyzed$lzycompute(QueryExecution.scala:57)\n\tat org.apache.spark.sql.execution.QueryExecution.analyzed(QueryExecution.scala:55)\n\tat org.apache.spark.sql.execution.QueryExecution.assertAnalyzed(QueryExecution.scala:47)\n\tat org.apache.spark.sql.Dataset$.ofRows(Dataset.scala:74)\n\tat org.apache.spark.sql.RelationalGroupedDataset.toDF(RelationalGroupedDataset.scala:66)\n\tat org.apache.spark.sql.RelationalGroupedDataset.agg(RelationalGroupedDataset.scala:226)\n\tat sun.reflect.NativeMethodAccessorImpl.invoke0(Native Method)\n\tat sun.reflect.NativeMethodAccessorImpl.invoke(NativeMethodAccessorImpl.java:62)\n\tat sun.reflect.DelegatingMethodAccessorImpl.invoke(DelegatingMethodAccessorImpl.java:43)\n\tat java.lang.reflect.Method.invoke(Method.java:498)\n\tat py4j.reflection.MethodInvoker.invoke(MethodInvoker.java:244)\n\tat py4j.reflection.ReflectionEngine.invoke(ReflectionEngine.java:357)\n\tat py4j.Gateway.invoke(Gateway.java:282)\n\tat py4j.commands.AbstractCommand.invokeMethod(AbstractCommand.java:132)\n\tat py4j.commands.CallCommand.execute(CallCommand.java:79)\n\tat py4j.GatewayConnection.run(GatewayConnection.java:238)\n\tat java.lang.Thread.run(Thread.java:748)\n",
      "\nDuring handling of the above exception, another exception occurred:\n",
      "\u001b[0;31mAnalysisException\u001b[0m                         Traceback (most recent call last)",
      "\u001b[0;32m<timed eval>\u001b[0m in \u001b[0;36m<module>\u001b[0;34m()\u001b[0m\n",
      "\u001b[0;32m~/projects/hack104-rec/hack104_rec/core.py\u001b[0m in \u001b[0;36mwrapper\u001b[0;34m(*args, **kwargs)\u001b[0m\n\u001b[1;32m     50\u001b[0m                 .getOrCreate())\n\u001b[1;32m     51\u001b[0m \u001b[0;34m\u001b[0m\u001b[0m\n\u001b[0;32m---> 52\u001b[0;31m             \u001b[0mret\u001b[0m \u001b[0;34m=\u001b[0m \u001b[0mwrapper\u001b[0m\u001b[0;34m.\u001b[0m\u001b[0mfunc\u001b[0m\u001b[0;34m(\u001b[0m\u001b[0;34m*\u001b[0m\u001b[0margs\u001b[0m\u001b[0;34m,\u001b[0m \u001b[0mspark\u001b[0m\u001b[0;34m=\u001b[0m\u001b[0mspark\u001b[0m\u001b[0;34m,\u001b[0m \u001b[0;34m**\u001b[0m\u001b[0mkwargs\u001b[0m\u001b[0;34m)\u001b[0m\u001b[0;34m\u001b[0m\u001b[0m\n\u001b[0m\u001b[1;32m     53\u001b[0m \u001b[0;34m\u001b[0m\u001b[0m\n\u001b[1;32m     54\u001b[0m         \u001b[0;32melse\u001b[0m\u001b[0;34m:\u001b[0m\u001b[0;34m\u001b[0m\u001b[0m\n",
      "\u001b[0;32m~/projects/hack104-rec/hack104_rec/train_click.py\u001b[0m in \u001b[0;36mpopulate\u001b[0;34m(cls, spark)\u001b[0m\n\u001b[1;32m    138\u001b[0m                      'query_params.keyword', 'job_in_list')\n\u001b[1;32m    139\u001b[0m             .agg(f.count(f.lit(1)).alias('impr'),\n\u001b[0;32m--> 140\u001b[0;31m                  f.sum('click').alias('click'))\n\u001b[0m\u001b[1;32m    141\u001b[0m             \u001b[0;34m.\u001b[0m\u001b[0mwithColumn\u001b[0m\u001b[0;34m(\u001b[0m\u001b[0;34m'CTR'\u001b[0m\u001b[0;34m,\u001b[0m \u001b[0mf\u001b[0m\u001b[0;34m.\u001b[0m\u001b[0mcol\u001b[0m\u001b[0;34m(\u001b[0m\u001b[0;34m'click'\u001b[0m\u001b[0;34m)\u001b[0m \u001b[0;34m/\u001b[0m \u001b[0mf\u001b[0m\u001b[0;34m.\u001b[0m\u001b[0mcol\u001b[0m\u001b[0;34m(\u001b[0m\u001b[0;34m'impr'\u001b[0m\u001b[0;34m)\u001b[0m\u001b[0;34m)\u001b[0m\u001b[0;34m\u001b[0m\u001b[0m\n\u001b[1;32m    142\u001b[0m             \u001b[0;34m.\u001b[0m\u001b[0msort\u001b[0m\u001b[0;34m(\u001b[0m\u001b[0;34m'action'\u001b[0m\u001b[0;34m,\u001b[0m \u001b[0;34m'impr'\u001b[0m\u001b[0;34m,\u001b[0m \u001b[0;34m'CTR'\u001b[0m\u001b[0;34m,\u001b[0m \u001b[0mascending\u001b[0m\u001b[0;34m=\u001b[0m\u001b[0;34m[\u001b[0m\u001b[0;32mFalse\u001b[0m\u001b[0;34m,\u001b[0m \u001b[0;32mFalse\u001b[0m\u001b[0;34m,\u001b[0m \u001b[0;32mFalse\u001b[0m\u001b[0;34m]\u001b[0m\u001b[0;34m)\u001b[0m\u001b[0;34m\u001b[0m\u001b[0m\n",
      "\u001b[0;32m~/miniconda3/envs/spark/lib/python3.7/site-packages/pyspark/sql/group.py\u001b[0m in \u001b[0;36magg\u001b[0;34m(self, *exprs)\u001b[0m\n\u001b[1;32m     91\u001b[0m             \u001b[0;32massert\u001b[0m \u001b[0mall\u001b[0m\u001b[0;34m(\u001b[0m\u001b[0misinstance\u001b[0m\u001b[0;34m(\u001b[0m\u001b[0mc\u001b[0m\u001b[0;34m,\u001b[0m \u001b[0mColumn\u001b[0m\u001b[0;34m)\u001b[0m \u001b[0;32mfor\u001b[0m \u001b[0mc\u001b[0m \u001b[0;32min\u001b[0m \u001b[0mexprs\u001b[0m\u001b[0;34m)\u001b[0m\u001b[0;34m,\u001b[0m \u001b[0;34m\"all exprs should be Column\"\u001b[0m\u001b[0;34m\u001b[0m\u001b[0m\n\u001b[1;32m     92\u001b[0m             jdf = self._jgd.agg(exprs[0]._jc,\n\u001b[0;32m---> 93\u001b[0;31m                                 _to_seq(self.sql_ctx._sc, [c._jc for c in exprs[1:]]))\n\u001b[0m\u001b[1;32m     94\u001b[0m         \u001b[0;32mreturn\u001b[0m \u001b[0mDataFrame\u001b[0m\u001b[0;34m(\u001b[0m\u001b[0mjdf\u001b[0m\u001b[0;34m,\u001b[0m \u001b[0mself\u001b[0m\u001b[0;34m.\u001b[0m\u001b[0msql_ctx\u001b[0m\u001b[0;34m)\u001b[0m\u001b[0;34m\u001b[0m\u001b[0m\n\u001b[1;32m     95\u001b[0m \u001b[0;34m\u001b[0m\u001b[0m\n",
      "\u001b[0;32m~/miniconda3/envs/spark/lib/python3.7/site-packages/py4j/java_gateway.py\u001b[0m in \u001b[0;36m__call__\u001b[0;34m(self, *args)\u001b[0m\n\u001b[1;32m   1255\u001b[0m         \u001b[0manswer\u001b[0m \u001b[0;34m=\u001b[0m \u001b[0mself\u001b[0m\u001b[0;34m.\u001b[0m\u001b[0mgateway_client\u001b[0m\u001b[0;34m.\u001b[0m\u001b[0msend_command\u001b[0m\u001b[0;34m(\u001b[0m\u001b[0mcommand\u001b[0m\u001b[0;34m)\u001b[0m\u001b[0;34m\u001b[0m\u001b[0m\n\u001b[1;32m   1256\u001b[0m         return_value = get_return_value(\n\u001b[0;32m-> 1257\u001b[0;31m             answer, self.gateway_client, self.target_id, self.name)\n\u001b[0m\u001b[1;32m   1258\u001b[0m \u001b[0;34m\u001b[0m\u001b[0m\n\u001b[1;32m   1259\u001b[0m         \u001b[0;32mfor\u001b[0m \u001b[0mtemp_arg\u001b[0m \u001b[0;32min\u001b[0m \u001b[0mtemp_args\u001b[0m\u001b[0;34m:\u001b[0m\u001b[0;34m\u001b[0m\u001b[0m\n",
      "\u001b[0;32m~/miniconda3/envs/spark/lib/python3.7/site-packages/pyspark/sql/utils.py\u001b[0m in \u001b[0;36mdeco\u001b[0;34m(*a, **kw)\u001b[0m\n\u001b[1;32m     67\u001b[0m                                              e.java_exception.getStackTrace()))\n\u001b[1;32m     68\u001b[0m             \u001b[0;32mif\u001b[0m \u001b[0ms\u001b[0m\u001b[0;34m.\u001b[0m\u001b[0mstartswith\u001b[0m\u001b[0;34m(\u001b[0m\u001b[0;34m'org.apache.spark.sql.AnalysisException: '\u001b[0m\u001b[0;34m)\u001b[0m\u001b[0;34m:\u001b[0m\u001b[0;34m\u001b[0m\u001b[0m\n\u001b[0;32m---> 69\u001b[0;31m                 \u001b[0;32mraise\u001b[0m \u001b[0mAnalysisException\u001b[0m\u001b[0;34m(\u001b[0m\u001b[0ms\u001b[0m\u001b[0;34m.\u001b[0m\u001b[0msplit\u001b[0m\u001b[0;34m(\u001b[0m\u001b[0;34m': '\u001b[0m\u001b[0;34m,\u001b[0m \u001b[0;36m1\u001b[0m\u001b[0;34m)\u001b[0m\u001b[0;34m[\u001b[0m\u001b[0;36m1\u001b[0m\u001b[0;34m]\u001b[0m\u001b[0;34m,\u001b[0m \u001b[0mstackTrace\u001b[0m\u001b[0;34m)\u001b[0m\u001b[0;34m\u001b[0m\u001b[0m\n\u001b[0m\u001b[1;32m     70\u001b[0m             \u001b[0;32mif\u001b[0m \u001b[0ms\u001b[0m\u001b[0;34m.\u001b[0m\u001b[0mstartswith\u001b[0m\u001b[0;34m(\u001b[0m\u001b[0;34m'org.apache.spark.sql.catalyst.analysis'\u001b[0m\u001b[0;34m)\u001b[0m\u001b[0;34m:\u001b[0m\u001b[0;34m\u001b[0m\u001b[0m\n\u001b[1;32m     71\u001b[0m                 \u001b[0;32mraise\u001b[0m \u001b[0mAnalysisException\u001b[0m\u001b[0;34m(\u001b[0m\u001b[0ms\u001b[0m\u001b[0;34m.\u001b[0m\u001b[0msplit\u001b[0m\u001b[0;34m(\u001b[0m\u001b[0;34m': '\u001b[0m\u001b[0;34m,\u001b[0m \u001b[0;36m1\u001b[0m\u001b[0;34m)\u001b[0m\u001b[0;34m[\u001b[0m\u001b[0;36m1\u001b[0m\u001b[0;34m]\u001b[0m\u001b[0;34m,\u001b[0m \u001b[0mstackTrace\u001b[0m\u001b[0;34m)\u001b[0m\u001b[0;34m\u001b[0m\u001b[0m\n",
      "\u001b[0;31mAnalysisException\u001b[0m: \"cannot resolve '`action`' given input columns: [rel, job, date, pos_in_list, click, datetime, source, gid, query_params];;\\n'Aggregate [date#5911, source#5910, 'action, query_params#5913.keyword, 'job_in_list], [date#5911, source#5910, 'action, query_params#5913.keyword AS keyword#5950, 'job_in_list, count(1) AS impr#5946L, sum(click#5926L) AS click#5948L]\\n+- AnalysisBarrier\\n      +- Project [source#5910, date#5911, datetime#5912, query_params#5913, gid#5914L, pos_in_list#5915, job#5916L, rel#5917L, rel#5917L AS click#5926L]\\n         +- Relation[source#5910,date#5911,datetime#5912,query_params#5913,gid#5914L,pos_in_list#5915,job#5916L,rel#5917L] parquet\\n\""
     ]
    }
   ],
   "source": [
    "%%time\n",
    "\n",
    "TrainClickCTR.populate()"
   ]
  },
  {
   "cell_type": "code",
   "execution_count": null,
   "metadata": {},
   "outputs": [],
   "source": []
  }
 ],
 "metadata": {
  "kernelspec": {
   "display_name": "spark-py3",
   "language": "python",
   "name": "spark-py3"
  },
  "language_info": {
   "codemirror_mode": {
    "name": "ipython",
    "version": 3
   },
   "file_extension": ".py",
   "mimetype": "text/x-python",
   "name": "python",
   "nbconvert_exporter": "python",
   "pygments_lexer": "ipython3",
   "version": "3.7.0"
  }
 },
 "nbformat": 4,
 "nbformat_minor": 2
}
