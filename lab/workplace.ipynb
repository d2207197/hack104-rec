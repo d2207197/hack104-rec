{
 "cells": [
  {
   "cell_type": "code",
   "execution_count": 1,
   "metadata": {},
   "outputs": [
    {
     "name": "stdout",
     "output_type": "stream",
     "text": [
      "/home/joe/hack104-rec\n"
     ]
    }
   ],
   "source": [
    "%cd /home/joe/hack104-rec\n",
    "import xgboost as xgb\n",
    "from carriage import Stream, StreamTable, Row, X\n",
    "from sklearn.datasets import load_svmlight_file\n",
    "from pathlib import Path\n",
    "import numpy as np"
   ]
  },
  {
   "cell_type": "code",
   "execution_count": 3,
   "metadata": {},
   "outputs": [
    {
     "name": "stdout",
     "output_type": "stream",
     "text": [
      "data\n",
      "├── category\n",
      "│   ├── department.csv\n",
      "│   ├── district.csv\n",
      "│   ├── industry.csv\n",
      "│   └── job_category.csv\n",
      "├── company.json\n",
      "├── job.json\n",
      "├── testset-click.json\n",
      "├── train-action.json\n",
      "├── train-click.json\n",
      "└── train-click.json.s\n",
      "\n",
      "1 directory, 10 files\n"
     ]
    }
   ],
   "source": [
    "!tree data"
   ]
  },
  {
   "cell_type": "markdown",
   "metadata": {},
   "source": [
    "# xgboost test"
   ]
  },
  {
   "cell_type": "code",
   "execution_count": 3,
   "metadata": {},
   "outputs": [
    {
     "name": "stdout",
     "output_type": "stream",
     "text": [
      "# General Parameters, see comment for each definition\n",
      "\n",
      "# specify objective\n",
      "objective=\"rank:pairwise\"\n",
      "\n",
      "# Tree Booster Parameters\n",
      "# step size shrinkage\n",
      "eta = 0.1 \n",
      "# minimum loss reduction required to make a further partition\n",
      "gamma = 1.0 \n",
      "# minimum sum of instance weight(hessian) needed in a child\n",
      "min_child_weight = 0.1\n",
      "# maximum depth of a tree\n",
      "max_depth = 6\n",
      "\n",
      "# Task parameters\n",
      "# the number of round to do boosting\n",
      "num_round = 4\n",
      "# 0 means do not save any model except the final round model\n",
      "save_period = 0 \n",
      "# The path of training data\n",
      "data = \"mq2008.train\" \n",
      "# The path of validation data, used to monitor training process, here [test] sets name of the validation set\n",
      "eval[test] = \"mq2008.vali\" \n",
      "# The path of test data \n",
      "test:data = \"mq2008.test\"      \n",
      "\n",
      "\n"
     ]
    }
   ],
   "source": [
    "%cat /home/joe/xgboost/demo/rank/mq2008.conf"
   ]
  },
  {
   "cell_type": "code",
   "execution_count": 26,
   "metadata": {},
   "outputs": [
    {
     "name": "stdout",
     "output_type": "stream",
     "text": [
      "0 1:0.007477 3:1.000000 5:0.007470 11:0.471076 13:1.000000 15:0.477541 16:0.005120 18:0.571429 20:0.004806 21:0.768561 22:0.727734 23:0.716277 24:0.582061 29:0.780495 30:0.962382 31:0.999274 32:0.961524 37:0.797056 38:0.697327 39:0.721953 40:0.582568 46:0.007042\n",
      "0 1:0.603738 3:1.000000 5:0.603175 13:0.122130 16:0.998377 17:0.375000 18:1.000000 20:0.998128 23:0.154578 24:0.555676 29:0.071711 39:0.117399 40:0.560607 42:0.280000 44:0.003708 45:0.333333 46:1.000000\n",
      "0 1:0.214953 5:0.213819 11:0.401330 15:0.402388 16:0.140868 17:1.000000 18:0.285714 19:0.333333 20:0.141484 21:0.561349 22:0.771015 23:0.753872 24:1.000000 37:0.566409 38:0.760916 39:0.746370 40:1.000000 44:1.000000 45:1.000000 46:0.021127\n",
      "0 3:1.000000 11:0.458053 13:0.495975 15:0.461687 18:0.571429 19:0.833333 21:0.273864 22:0.148498 29:0.387106 30:0.434598 31:0.165701 32:0.421555 37:0.320586 38:0.133604 41:0.250000 42:1.000000\n",
      "0 1:1.000000 2:1.000000 5:1.000000 11:0.347234 12:0.583054 15:0.344586 16:1.000000 17:0.375000 18:0.714286 19:1.000000 20:1.000000 21:0.337932 22:0.292332 23:0.407274 24:0.725189 25:0.557245 37:0.341228 38:0.292567 39:0.385569 40:0.730347 41:1.000000 42:0.840000 44:0.184564 45:0.666667\n",
      "0 1:0.008411 5:0.007470 11:0.479894 15:0.481716 16:0.010240 17:0.125000 19:0.333333 20:0.009923 21:1.000000 22:0.894565 23:1.000000 24:0.854528 37:1.000000 38:0.882937 39:1.000000 40:0.845827 42:0.320000 44:0.330672 45:0.666667 46:0.021127\n",
      "0 1:0.005607 2:0.500000 3:1.000000 5:0.006536 11:0.463908 12:0.802660 13:1.000000 15:0.475031 16:0.003559 17:0.250000 18:0.285714 19:0.500000 20:0.003557 21:0.845058 22:1.000000 23:0.725319 24:0.925405 25:1.000000 26:0.784655 27:0.994642 28:0.369513 29:1.000000 30:1.000000 31:1.000000 32:1.000000 37:0.953956 38:1.000000 39:0.779770 40:0.929435 41:0.250000 42:0.600000 44:0.922305 45:0.333333 46:0.007042\n",
      "0 1:0.259813 2:1.000000 5:0.260504 11:1.000000 12:1.000000 15:1.000000 16:0.409179 17:0.375000 18:0.285714 19:0.500000 20:0.409099 21:0.863798 22:0.398824 23:0.530183 24:0.657222 25:0.955733 26:1.000000 27:1.000000 28:1.000000 37:0.871348 38:0.393577 39:0.509718 40:0.660071 42:1.000000 44:0.095958 45:0.333333 46:0.035211\n",
      "0 1:0.021201 3:1.000000 5:0.031802 11:0.028148 13:1.000000 15:0.042285 16:0.006875 17:0.461538 18:0.370370 19:0.600000 20:0.007235 21:0.813884 22:0.225533 23:0.246500 24:0.225217 29:0.634608 30:0.760340 31:1.000000 32:0.747785 37:0.871945 38:0.408895 39:0.226590 40:0.422180 41:0.500000 42:0.468750 44:1.000000 45:1.000000 46:0.153846\n",
      "0 16:0.004177 17:0.230769 18:0.185185 19:0.400000 20:0.004242 41:0.500000 42:0.250000 44:0.013136 45:0.250000 46:0.461538\n"
     ]
    }
   ],
   "source": [
    "!head /home/joe/xgboost/demo/rank/mq2008.fold1.train"
   ]
  },
  {
   "cell_type": "code",
   "execution_count": 45,
   "metadata": {},
   "outputs": [],
   "source": [
    "\n",
    "\n",
    "X_train, y_train = load_svmlight_file('/home/joe/xgboost/demo/rank/mq2008.fold1.train')\n",
    "X_train_group = Stream.read_txt('/home/joe/xgboost/demo/rank/mq2008.fold1.train.group').map(int).to_list()\n",
    "\n",
    "X_test, y_test = load_svmlight_file('/home/joe/xgboost/demo/rank/mq2008.fold1.test')\n",
    "X_test_group = Stream.read_txt('/home/joe/xgboost/demo/rank/mq2008.fold1.test.group').map(int).to_list()\n",
    "y_test_random = np.random.randint(0, 3, y_test.shape)\n",
    "\n",
    "dm_train = xgb.DMatrix(X_train, label=y_train)\n",
    "dm_train.set_group(X_train_group)\n",
    "\n",
    "dm_test = xgb.DMatrix(X_test, label=y_test)\n",
    "dm_test_random_y = xgb.DMatrix(X_test, label=y_test_random)\n",
    "dm_test.set_group(X_test_group)"
   ]
  },
  {
   "cell_type": "code",
   "execution_count": 46,
   "metadata": {},
   "outputs": [
    {
     "data": {
      "text/plain": [
       "(array([0., 1., 2.]), array([2319,  378,  177]))"
      ]
     },
     "metadata": {},
     "output_type": "display_data"
    },
    {
     "data": {
      "text/plain": [
       "(array([0, 1, 2]), array([989, 901, 984]))"
      ]
     },
     "metadata": {},
     "output_type": "display_data"
    }
   ],
   "source": [
    "display(np.unique(y_test, return_counts=True))\n",
    "display(np.unique(y_test_random, return_counts=True))\n"
   ]
  },
  {
   "cell_type": "code",
   "execution_count": 21,
   "metadata": {},
   "outputs": [],
   "source": [
    "xgb_param = Row(\n",
    "    objective='rank:pairwise', \n",
    "    eta=0.1,\n",
    "    gamma = 1.0 ,\n",
    "    min_child_weight = 0.1,\n",
    "    max_depth=6,\n",
    "#    num_round = 4,\n",
    "    save_period = 0\n",
    ")"
   ]
  },
  {
   "cell_type": "code",
   "execution_count": 57,
   "metadata": {},
   "outputs": [],
   "source": [
    "%matplotlib inline"
   ]
  },
  {
   "cell_type": "code",
   "execution_count": 58,
   "metadata": {},
   "outputs": [
    {
     "name": "stdout",
     "output_type": "stream",
     "text": [
      "[0]\ttest-map:0.746203\ttest_random-map:0.649442\n",
      "[1]\ttest-map:0.767757\ttest_random-map:0.651721\n",
      "[2]\ttest-map:0.750287\ttest_random-map:0.649885\n",
      "[3]\ttest-map:0.764587\ttest_random-map:0.651295\n",
      "[4]\ttest-map:0.761766\ttest_random-map:0.650757\n",
      "[5]\ttest-map:0.773022\ttest_random-map:0.647451\n",
      "[6]\ttest-map:0.766835\ttest_random-map:0.64763\n",
      "[7]\ttest-map:0.768112\ttest_random-map:0.648702\n",
      "[8]\ttest-map:0.76643\ttest_random-map:0.650714\n",
      "[9]\ttest-map:0.769091\ttest_random-map:0.651413\n",
      "[10]\ttest-map:0.763669\ttest_random-map:0.651943\n",
      "[11]\ttest-map:0.761221\ttest_random-map:0.652654\n",
      "[12]\ttest-map:0.766286\ttest_random-map:0.651939\n",
      "[13]\ttest-map:0.764585\ttest_random-map:0.651918\n",
      "[14]\ttest-map:0.758228\ttest_random-map:0.652413\n",
      "[15]\ttest-map:0.756372\ttest_random-map:0.653205\n",
      "[16]\ttest-map:0.755288\ttest_random-map:0.652642\n",
      "[17]\ttest-map:0.75924\ttest_random-map:0.652969\n",
      "[18]\ttest-map:0.762127\ttest_random-map:0.653526\n",
      "[19]\ttest-map:0.760431\ttest_random-map:0.653674\n"
     ]
    },
    {
     "data": {
      "text/plain": [
       "<matplotlib.axes._subplots.AxesSubplot at 0x7fe8980faf98>"
      ]
     },
     "execution_count": 58,
     "metadata": {},
     "output_type": "execute_result"
    },
    {
     "data": {
      "image/png": "[encoded data removed]",
      "text/plain": [
       "<Figure size 432x288 with 1 Axes>"
      ]
     },
     "metadata": {},
     "output_type": "display_data"
    }
   ],
   "source": [
    "booster = xgb.train(\n",
    "    params=xgb_param.to_dict(), \n",
    "    dtrain=dm_train, \n",
    "    num_boost_round=20,\n",
    "    evals=[Row(dm=dm_test, name='test'), \n",
    "           Row(dm=dm_test_random_y, name='test_random')])\n",
    "\n",
    "xgb.plot_importance(booster)"
   ]
  },
  {
   "cell_type": "code",
   "execution_count": 49,
   "metadata": {},
   "outputs": [
    {
     "name": "stdout",
     "output_type": "stream",
     "text": [
      "[0]\ttest-map:0.769091\ttest_random-map:0.651413\n"
     ]
    }
   ],
   "source": [
    "print(booster.eval_set([Row(dm=dm_test, name='test'), Row(dm=dm_test_random_y, name='test_random')]))"
   ]
  },
  {
   "cell_type": "markdown",
   "metadata": {},
   "source": [
    "# 104hack-rec"
   ]
  },
  {
   "cell_type": "code",
   "execution_count": 2,
   "metadata": {},
   "outputs": [
    {
     "data": {
      "text/plain": [
       "'Row(a=Row(0=0, 1=1, 2=2, 3=3, 4=4, 5=5, 6=6, 7=7, 8=8,... 93=93, 94=94, 95=95, 96=96, 97=97, 98=98, 99=99))'"
      ]
     },
     "execution_count": 2,
     "metadata": {},
     "output_type": "execute_result"
    }
   ],
   "source": [
    "import carriage.repr\n",
    "carriage.repr.short_repr.maxstring= 1000\n",
    "carriage.repr.short_repr.maxother= 100\n",
    "carriage.repr.short_repr.maxlist= 200\n",
    "carriage.repr.short_repr.maxlong= 200\n",
    "\n",
    "repr(Row(a=Row(**{str(i):i for i in range(100)})))"
   ]
  },
  {
   "cell_type": "code",
   "execution_count": 3,
   "metadata": {},
   "outputs": [
    {
     "data": {
      "text/html": [
       "<table>\n",
       "<thead>\n",
       "<tr><th style=\"text-align: right;\">   jobno</th><th style=\"text-align: right;\">         date</th><th>action  </th><th>source  </th><th>joblist                                                                                                                                                                                                                             </th><th>querystring                                                                                                                                                                                                           </th></tr>\n",
       "</thead>\n",
       "<tbody>\n",
       "<tr><td style=\"text-align: right;\"> 5314432</td><td style=\"text-align: right;\">1527330445000</td><td>clickJob</td><td>web     </td><td>['5314432', '3494303', '3859882', '4439691', '7416542', '7484247', '9063545', '8318922', '9431734', '9127494', '9904656', '9926223', '9950320', '10079727', '10378122', '6830159', '6856925', '10343328', '9730978', '8510715']     </td><td>ro=0&jobcat=2005003003%2C2005003002%2C2005003005&kwop=7&keyword=%E6%97%A5%E6%96%87&area=6001001000%2C6001005000&order=1&asc=0&mode=s&jobsource=n104bank1                                                              </td></tr>\n",
       "<tr><td style=\"text-align: right;\"> 9752404</td><td style=\"text-align: right;\">1526025665000</td><td>clickJob</td><td>web     </td><td>['9661707', '10206086', '9752402', '9752404', '6572519', '6616990', '6884082', '8210542', '8210560', '9285450', '6547843', '9056121', '10351973', '8996291', '10256515', '10179441', '9830381', '7526521', '10027791', '8284471']   </td><td>ro=0&keyword=IOS&area=6001016000&order=1&asc=0&kwop=7&mode=s&jobsource=n104bank1                                                                                                                                      </td></tr>\n",
       "<tr><td style=\"text-align: right;\">10390361</td><td style=\"text-align: right;\">1526879339000</td><td>clickJob</td><td>web     </td><td>['9191097', '10390361', '5266077', '5266131', '10390453', '10358519', '10192704', '10357873', '10269272', '10060504', '9863087', '9908644', '9144675', '9907457', '9907469', '9912957', '9913258', '9914885', '9917002', '10108336']</td><td>ro=0&isnew=0&keyword=%E4%BD%9C%E6%A5%AD%E5%93%A1%20&area=6001002021&order=1&asc=0&kwop=7&mode=s&jobsource=n104bank1                                                                                                   </td></tr>\n",
       "<tr><td style=\"text-align: right;\"> 9992847</td><td style=\"text-align: right;\">1527057117000</td><td>clickJob</td><td>web     </td><td>['7965727', '9422549', '9992847', '6156210', '9577080', '5897368', '6182347', '6933301', '9421061', '7917971', '5198910', '8192435', '6927113', '9223446', '9223447', '7687567', '10162963', '6673462', '6156221', '6156201']       </td><td>ro=0&keyword=BMW%20%E9%87%8D%E6%A9%9F&order=1&asc=0&kwop=7&mode=s&jobsource=n104bank1                                                                                                                                 </td></tr>\n",
       "<tr><td style=\"text-align: right;\">10361154</td><td style=\"text-align: right;\">1526353041000</td><td>clickJob</td><td>web     </td><td>['10361190', '7690768', '7363215', '10168154', '10361154', '10005498', '10207429', '8277824', '6850363', '8097885', '8662063', '10360736', '7893205', '7017885', '6721751', '7333071', '8061233', '8560730', '10154082', '10246962']</td><td>ro=1&isnew=7&keyword=%E6%94%BF%E5%BA%9C&area=6001001000%2C6001002000&order=2&asc=0&kwop=7&mode=s&jobsource=n104bank1                                                                                                  </td></tr>\n",
       "<tr><td style=\"text-align: right;\">10322390</td><td style=\"text-align: right;\">1525667305000</td><td>clickJob</td><td>web     </td><td>['7396086', '9998346', '9626448', '10046483', '10021842', '9524805', '6816238', '9051549', '7539385', '10168821', '9144156', '10257015', '7397397', '8923134', '10174836', '10322390', '10166774', '8939796', '8940114', '10055014']</td><td>ro=0&isnew=7&keyword=%E6%97%A5%E6%96%87&area=6001012000&order=1&asc=0&kwop=7&mode=s&jobsource=n104bank1                                                                                                               </td></tr>\n",
       "<tr><td style=\"text-align: right;\"> 9490099</td><td style=\"text-align: right;\">1527161401000</td><td>clickJob</td><td>web     </td><td>['7192202', '7135403', '10079134', '7221115', '10168788', '9088354', '10116380', '10404977', '9490099', '4245754', '9954849', '10245609', '9087438', '10348000', '8351655', '9122308', '8830743', '8849778', '10227940', '9330945'] </td><td>ro=0&keyword=%E5%9F%B7%E8%A1%8C%E8%A3%BD%E4%BD%9C&area=6001001000%2C6001002000&order=1&asc=0&mode=s&jobsource=n104bank1                                                                                               </td></tr>\n",
       "<tr><td style=\"text-align: right;\"> 8814799</td><td style=\"text-align: right;\">1525867264000</td><td>clickJob</td><td>web     </td><td>['7205987', '9566727', '9394777', '10041476', '7781552', '9752196', '9189491', '9712362', '8814799', '10147479', '8989710', '9703614', '8464836', '9951369', '8492509', '8269377', '10340847', '10124385', '9410636', '10031498']   </td><td>ro=1&jobcat=2007000000%2C2008000000%2C2018002001&keyword=SAP&area=6001002000%2C6001001000&order=2&asc=0&kwop=7&mode=s&jobsource=n104bank1                                                                             </td></tr>\n",
       "<tr><td style=\"text-align: right;\"> 9603745</td><td style=\"text-align: right;\">1526880193000</td><td>clickJob</td><td>web     </td><td>['8657143', '5736256', '5736276', '5736291', '5736292', '7172317', '7172339', '8274588', '10031662', '4801867', '9304814', '10114729', '10161594', '7515029', '9603745', '10212282', '10283527', '10283528', '10283529', '10283531']</td><td>ro=1&keyword=%E5%9B%BA%E5%AE%9A%E6%97%A5%E7%8F%AD&area=6001016000&order=1&asc=0&kwop=7&mode=s&jobsource=n104bank1                                                                                                     </td></tr>\n",
       "<tr><td style=\"text-align: right;\"> 5637237</td><td style=\"text-align: right;\">1527671458000</td><td>clickJob</td><td>web     </td><td>['10403672', '8996809', '5860598', '5829919', '10150005', '7015147', '7776454', '9645651', '10430834', '5637237', '6591773', '9732298', '4918850', '5654517', '10363414', '8382910', '10383181', '9564247', '5756397', '8831730']   </td><td>ro=0&jobcat=2002000000%2C2011000000%2C2005004000%2C2001000000&keyword=%E5%8A%A9%E7%90%86&area=6001016009%2C6001016011%2C6001016013%2C6001016012%2C6001016005&order=2&asc=0&s5=0&wktm=1&wf=1&mode=s&jobsource=n104bank1</td></tr>\n",
       "</tbody>\n",
       "</table>"
      ],
      "text/plain": [
       "StreamTable(Stream(<_io.TextIOWrapper name='data/train-click...Row.from_dict of <class 'carriage.row.Row'>>)>]>))"
      ]
     },
     "execution_count": 3,
     "metadata": {},
     "output_type": "execute_result"
    }
   ],
   "source": [
    "StreamTable.read_jsonl('data/train-click.json')"
   ]
  },
  {
   "cell_type": "code",
   "execution_count": 1,
   "metadata": {},
   "outputs": [
    {
     "ename": "NameError",
     "evalue": "name 'StreamTable' is not defined",
     "output_type": "error",
     "traceback": [
      "\u001b[0;31m---------------------------------------------------------------------------\u001b[0m",
      "\u001b[0;31mNameError\u001b[0m                                 Traceback (most recent call last)",
      "\u001b[0;32m<timed exec>\u001b[0m in \u001b[0;36m<module>\u001b[0;34m()\u001b[0m\n",
      "\u001b[0;31mNameError\u001b[0m: name 'StreamTable' is not defined"
     ]
    }
   ],
   "source": [
    "%%time\n",
    "import urllib\n",
    "\n",
    "(\n",
    "    StreamTable.read_jsonl('data/train-click.json')\n",
    "    .map_fields(\n",
    "        querystring=lambda row: Row.from_dict(dict(urllib.parse.parse_qsl(row.querystring)))\n",
    "    )\n",
    "    .explode('joblist')\n",
    "    .where(lambda row: 'keyword' in row.querystring.fields())\n",
    "    .select('joblist', \n",
    "            keyword=lambda row:\n",
    "                    row.querystring.get_opt('keyword').get_or(''))\n",
    "    .value_counts()\n",
    "    .to_stream()\n",
    "    .map(lambda row: Row(\n",
    "        keyword=row.key.keyword,\n",
    "        jobno=row.key.joblist, \n",
    "        impression=row.value\n",
    "    ))\n",
    "    .to_streamtable()\n",
    "    .write_jsonl('data/train-impression.jsonl')\n",
    ")"
   ]
  },
  {
   "cell_type": "code",
   "execution_count": 63,
   "metadata": {},
   "outputs": [
    {
     "name": "stdout",
     "output_type": "stream",
     "text": [
      "3704755 data/train-impression.jsonl\n"
     ]
    }
   ],
   "source": [
    "!wc -l data/train-impression.jsonl"
   ]
  },
  {
   "cell_type": "code",
   "execution_count": 64,
   "metadata": {},
   "outputs": [
    {
     "name": "stdout",
     "output_type": "stream",
     "text": [
      "255M\tdata/train-impression.jsonl\n"
     ]
    }
   ],
   "source": [
    "!du -h data/train-impression.jsonl"
   ]
  },
  {
   "cell_type": "code",
   "execution_count": 47,
   "metadata": {},
   "outputs": [],
   "source": [
    "stb = (\n",
    "    StreamTable.read_jsonl('data/train-click.json')\n",
    "    .map_fields(\n",
    "        querystring=lambda row: Row.from_dict(dict(urllib.parse.parse_qsl(row.querystring)))\n",
    "    )\n",
    "    .where(lambda row: 'keyword' not in row.querystring.fields())\n",
    "    .take(10)\n",
    "    .cache()\n",
    ")"
   ]
  },
  {
   "cell_type": "code",
   "execution_count": 50,
   "metadata": {},
   "outputs": [
    {
     "data": {
      "text/html": [
       "<table>\n",
       "<thead>\n",
       "<tr><th style=\"text-align: right;\">   jobno</th><th style=\"text-align: right;\">         date</th><th>action  </th><th>source  </th><th>joblist                                                                                                                                                                                                                                     </th><th>querystring                                                                                                                                                                                                                                                                                                                                                    </th></tr>\n",
       "</thead>\n",
       "<tbody>\n",
       "<tr><td style=\"text-align: right;\">10399843</td><td style=\"text-align: right;\">1527003572000</td><td>clickJob</td><td>web     </td><td>['10399943', '8545079', '10346189', '10399843', '10399768', '9080221', '10399739', '10399735', '10399732', '5742184', '5742188', '10399728', '10399720', '10399718', '10399713', '10399712', '10399711', '10334545', '10306889', '10307040']</td><td>Row(area='6001005000', jobsource='n104bank1', ro='0', utm_expid='.vCo_medgQLiOEryyaNMYbw.0', utm_referrer='https://www.104.com.tw/jobs/search/?ro=1&isnew=0&keyword=%E4%BA%BA%E8%B3%87&area=6001005000&order=1&asc=0&kwop=7&page=1&wf=1&mode=s&jobsource=104_bank1')                                                                                           </td></tr>\n",
       "<tr><td style=\"text-align: right;\">10322427</td><td style=\"text-align: right;\">1525418136000</td><td>clickJob</td><td>web     </td><td>['10322428', '7484975', '10322427', '10322424', '9011530', '10178386', '10228314', '10027192', '9965605', '5067855', '10130179', '10078371', '10283888', '9714570', '10261983', '6583036', '9184149', '6562771', '7133312', '10322420']     </td><td>Row(jobsource='n104bank1', ro='0', area='6001001000,6001002020', order='2', asc='0', wktm='週休二日', utm_expid='.It_n6NbFSneqd1b98TC4ow.0', utm_referrer='https://www.104.com.tw/jobbank/joblist/joblist.cfm?jobsource=n104bank1&ro=0&keyword=%E9%81%8A%E6%88%B2&area=6001001000%2C6001002020&order=2&asc=0&wktm=%E9%80%B1%E4%BC%91%E4%BA%8C%E6%97%A5&page=1')</td></tr>\n",
       "</tbody>\n",
       "</table>"
      ],
      "text/plain": [
       "StreamTable([Row(jobno='10399843', date='1527003572000', acti...&kwop=7&page=1&wf=1&mode=s&jobsource=104_bank1')), Row(jobno='10322427', date='1525418136000', acti...tm=%E9%80%B1%E4%BC%91%E4%BA%8C%E6%97%A5&page=1'))])"
      ]
     },
     "execution_count": 50,
     "metadata": {},
     "output_type": "execute_result"
    }
   ],
   "source": [
    "stb"
   ]
  },
  {
   "cell_type": "code",
   "execution_count": 42,
   "metadata": {},
   "outputs": [],
   "source": [
    "class lazy(object): \n",
    "    def __init__(self, func): \n",
    "        self.func = func \n",
    "    \n",
    "    def __get__(self, instance, cls): \n",
    "        val = self.func(instance) \n",
    "        setattr(instance, self.func.__name__, val) \n",
    "        return val \n",
    "    "
   ]
  },
  {
   "cell_type": "code",
   "execution_count": 43,
   "metadata": {},
   "outputs": [],
   "source": [
    "a = lazy(lambda: 3)"
   ]
  },
  {
   "cell_type": "code",
   "execution_count": 44,
   "metadata": {},
   "outputs": [
    {
     "data": {
      "text/plain": [
       "<__main__.lazy at 0x7feb7a3b7a58>"
      ]
     },
     "execution_count": 44,
     "metadata": {},
     "output_type": "execute_result"
    }
   ],
   "source": [
    "a"
   ]
  },
  {
   "cell_type": "code",
   "execution_count": null,
   "metadata": {},
   "outputs": [],
   "source": []
  }
 ],
 "metadata": {
  "kernelspec": {
   "display_name": "hack104-rec",
   "language": "python",
   "name": "hack104-rec"
  },
  "language_info": {
   "codemirror_mode": {
    "name": "ipython",
    "version": 3
   },
   "file_extension": ".py",
   "mimetype": "text/x-python",
   "name": "python",
   "nbconvert_exporter": "python",
   "pygments_lexer": "ipython3",
   "version": "3.6.5"
  }
 },
 "nbformat": 4,
 "nbformat_minor": 2
}
