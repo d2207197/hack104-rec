{
 "cells": [
  {
   "cell_type": "code",
   "execution_count": 1,
   "metadata": {},
   "outputs": [
    {
     "name": "stdout",
     "output_type": "stream",
     "text": [
      "/home/joe/hack104-rec\n"
     ]
    },
    {
     "data": {
      "text/plain": [
       "dict_items([('spark.driver.memory', '10g'), ('spark.executor.memory', '10g'), ('spark.driver.maxResultSize', '10g')])"
      ]
     },
     "metadata": {},
     "output_type": "display_data"
    }
   ],
   "source": [
    "%cd /home/joe/hack104-rec\n",
    "\n",
    "from hack104_rec import TrainClick, TrainClickProcessed, score_relevance, ndcg_at_k, TrainClickExploded, TrainClickCTR\n",
    "from hack104_rec import TrainActionProcessed, TrainActionCount, TrainActionUnstacked, JobDateRange, TrainClickGrouped\n",
    "from hack104_rec import udfy\n",
    "import datetime as dt\n",
    "from pyspark.sql.types import ArrayType, ShortType, StructType, StructField, LongType, ShortType\n",
    "import xgboost as xgb\n",
    "from hack104_rec.model import series_cv, query_dataset, get_y_X\n",
    "import pyspark\n",
    "from hack104_rec import ndcg_score_of_prediction, ndcg_score_of_truth\n",
    "from pyspark.sql import functions as f\n",
    "from carriage import Stream, X\n",
    "\n",
    "import pendulum as pdm\n",
    "\n",
    "spark_conf = pyspark.SparkConf()\n",
    "spark_conf.setAll([\n",
    "    ('spark.driver.memory', '10g'),\n",
    "    ('spark.executor.memory', '10g'),\n",
    "    ('spark.driver.maxResultSize', '10g')\n",
    "])\n",
    "display(spark_conf.getAll())\n",
    "spark = pyspark.sql.SparkSession.builder.config(conf=spark_conf).master('local[16]').getOrCreate()\n"
   ]
  },
  {
   "cell_type": "markdown",
   "metadata": {},
   "source": [
    "# Trainset"
   ]
  },
  {
   "cell_type": "code",
   "execution_count": 2,
   "metadata": {},
   "outputs": [
    {
     "data": {
      "text/plain": [
       "[CVFold(train_start=0, train_stop=20, test_start=21, test_stop=22),\n",
       " CVFold(train_start=4, train_stop=24, test_start=25, test_stop=26),\n",
       " CVFold(train_start=8, train_stop=28, test_start=29, test_stop=30)]"
      ]
     },
     "metadata": {},
     "output_type": "display_data"
    },
    {
     "data": {
      "text/plain": [
       "CVFold(train_start=0, train_stop=20, test_start=21, test_stop=22)"
      ]
     },
     "metadata": {},
     "output_type": "display_data"
    }
   ],
   "source": [
    "cv_folds = list(series_cv(31, train_ratio=0.9))\n",
    "display(cv_folds)\n",
    "\n",
    "cv_fold = cv_folds[0]\n",
    "display(cv_fold)\n",
    "\n",
    "base_date = pdm.date(2018, 5, 1)"
   ]
  },
  {
   "cell_type": "code",
   "execution_count": 3,
   "metadata": {},
   "outputs": [
    {
     "name": "stdout",
     "output_type": "stream",
     "text": [
      "CPU times: user 19.2 s, sys: 748 ms, total: 20 s\n",
      "Wall time: 55.7 s\n"
     ]
    }
   ],
   "source": [
    "%%time\n",
    "testset_df, testset_group_lens_df = query_dataset(\n",
    "    start_date=base_date.add(days=cv_fold.test_start), \n",
    "    stop_date=base_date.add(days=cv_fold.test_stop),\n",
    "    features_start_date=base_date.add(cv_fold.train_start),\n",
    "    features_stop_date=base_date.add(cv_fold.train_stop),\n",
    "    spark=spark)\n",
    "\n",
    "test_y, test_X = get_y_X(testset_df)\n",
    "test_dm = xgb.DMatrix(test_X, label=test_y)\n",
    "test_dm.set_group(testset_group_lens_df['count'])\n"
   ]
  },
  {
   "cell_type": "code",
   "execution_count": 4,
   "metadata": {},
   "outputs": [
    {
     "name": "stdout",
     "output_type": "stream",
     "text": [
      "CPU times: user 3min 43s, sys: 15.2 s, total: 3min 58s\n",
      "Wall time: 4min 55s\n"
     ]
    }
   ],
   "source": [
    "%%time \n",
    "trainset_df, trainset_group_lens_df = query_dataset(\n",
    "    start_date=base_date.add(days=cv_fold.train_start), \n",
    "    stop_date=base_date.add(days=cv_fold.train_stop),\n",
    "    features_start_date=base_date.add(cv_fold.train_start),\n",
    "    features_stop_date=base_date.add(cv_fold.train_stop),\n",
    "    spark=spark)\n",
    "\n",
    "train_y, train_X = get_y_X(trainset_df)\n",
    "train_dm = xgb.DMatrix(train_X, label=train_y)\n",
    "train_dm.set_group(trainset_group_lens_df['count'])"
   ]
  },
  {
   "cell_type": "markdown",
   "metadata": {},
   "source": [
    "## Original nDCG"
   ]
  },
  {
   "cell_type": "code",
   "execution_count": 7,
   "metadata": {},
   "outputs": [
    {
     "data": {
      "text/plain": [
       "0.3527401043952894"
      ]
     },
     "execution_count": 7,
     "metadata": {},
     "output_type": "execute_result"
    }
   ],
   "source": [
    "ndcg_score_of_truth(test_y)"
   ]
  },
  {
   "cell_type": "markdown",
   "metadata": {},
   "source": [
    "# Train"
   ]
  },
  {
   "cell_type": "code",
   "execution_count": 5,
   "metadata": {},
   "outputs": [
    {
     "data": {
      "text/plain": [
       "Index(['sctp', 'mode', 'wktm', 'order', 'asc', 'scmax', 'scmin', 'kwop', 'm',\n",
       "       's5', 'sr', 'web_total', 'web_viewJob', 'web_saveJob', 'web_applyJob',\n",
       "       'mobileWeb_total', 'mobileWeb_viewJob', 'mobileWeb_saveJob',\n",
       "       'mobileWeb_applyJob', 'app_total', 'app_viewJob', 'app_saveJob',\n",
       "       'app_applyJob', 'viewJob_total', 'saveJob_total', 'applyJob_total',\n",
       "       'total_total', 'open_days', 'web_total_per_day', 'web_viewJob_per_day',\n",
       "       'web_saveJob_per_day', 'web_applyJob_per_day',\n",
       "       'mobileWeb_total_per_day', 'mobileWeb_viewJob_per_day',\n",
       "       'mobileWeb_saveJob_per_day', 'mobileWeb_applyJob_per_day',\n",
       "       'app_total_per_day', 'app_viewJob_per_day', 'app_saveJob_per_day',\n",
       "       'app_applyJob_per_day', 'viewJob_total_per_day',\n",
       "       'saveJob_total_per_day', 'applyJob_total_per_day',\n",
       "       'total_total_per_day', 'saveJob_per_viewJob', 'applyJob_per_viewJob'],\n",
       "      dtype='object')"
      ]
     },
     "execution_count": 5,
     "metadata": {},
     "output_type": "execute_result"
    }
   ],
   "source": [
    "train_X.columns"
   ]
  },
  {
   "cell_type": "code",
   "execution_count": 8,
   "metadata": {},
   "outputs": [
    {
     "name": "stdout",
     "output_type": "stream",
     "text": [
      "[0]\ttrain-ndcg:0.410958\ttrain-map:0.248235\ttrain-ndcg@20-:0.410958\ttrain-ndcg@20:0.410958\ttest-ndcg:0.411899\ttest-map:0.249879\ttest-ndcg@20-:0.411899\ttest-ndcg@20:0.411899\n",
      "[1]\ttrain-ndcg:0.412146\ttrain-map:0.249577\ttrain-ndcg@20-:0.412146\ttrain-ndcg@20:0.412146\ttest-ndcg:0.413513\ttest-map:0.251469\ttest-ndcg@20-:0.413513\ttest-ndcg@20:0.413513\n",
      "[2]\ttrain-ndcg:0.412815\ttrain-map:0.250486\ttrain-ndcg@20-:0.412815\ttrain-ndcg@20:0.412815\ttest-ndcg:0.413721\ttest-map:0.252008\ttest-ndcg@20-:0.413721\ttest-ndcg@20:0.413721\n",
      "[3]\ttrain-ndcg:0.412869\ttrain-map:0.250555\ttrain-ndcg@20-:0.412869\ttrain-ndcg@20:0.412869\ttest-ndcg:0.413944\ttest-map:0.252388\ttest-ndcg@20-:0.413944\ttest-ndcg@20:0.413944\n",
      "[4]\ttrain-ndcg:0.413319\ttrain-map:0.251003\ttrain-ndcg@20-:0.413319\ttrain-ndcg@20:0.413319\ttest-ndcg:0.414251\ttest-map:0.25274\ttest-ndcg@20-:0.414251\ttest-ndcg@20:0.414251\n"
     ]
    }
   ],
   "source": [
    "\n",
    "xgb_param = dict(\n",
    "    objective='rank:pairwise', \n",
    "    eta=0.1,\n",
    "    gamma = 1.0 ,\n",
    "    min_child_weight = 0.1,\n",
    "    max_depth=6,\n",
    "#    num_round = 4,\n",
    "    save_period = 0,\n",
    "    eval_metric = ['ndcg', 'map', 'ndcg@20-', 'ndcg@20']\n",
    ")\n",
    "\n",
    "booster = xgb.train(\n",
    "    params=xgb_param,\n",
    "    dtrain=train_dm, \n",
    "    num_boost_round=5,\n",
    "     evals=[(train_dm, 'train'), (test_dm, 'test')]\n",
    "#            Row(dm=dm_test_random_y, name='test_random')]\n",
    ")\n",
    "\n",
    "# xgb.plot_importance(booster)"
   ]
  },
  {
   "cell_type": "markdown",
   "metadata": {},
   "source": [
    "## Prediction nDCG"
   ]
  },
  {
   "cell_type": "code",
   "execution_count": 10,
   "metadata": {},
   "outputs": [
    {
     "data": {
      "text/plain": [
       "0.4216748954315162"
      ]
     },
     "execution_count": 10,
     "metadata": {},
     "output_type": "execute_result"
    }
   ],
   "source": [
    "pred_y = booster.predict(test_dm)\n",
    "ndcg_score_of_prediction(test_y, pred_y)"
   ]
  },
  {
   "cell_type": "markdown",
   "metadata": {},
   "source": [
    "# Train Click"
   ]
  },
  {
   "cell_type": "code",
   "execution_count": 2,
   "metadata": {},
   "outputs": [
    {
     "name": "stdout",
     "output_type": "stream",
     "text": [
      "CPU times: user 52.8 ms, sys: 12.4 ms, total: 65.2 ms\n",
      "Wall time: 20.3 s\n"
     ]
    }
   ],
   "source": [
    "%%time\n",
    "TrainClickProcessed.populate(spark)"
   ]
  },
  {
   "cell_type": "code",
   "execution_count": 3,
   "metadata": {},
   "outputs": [
    {
     "data": {
      "text/plain": [
       "0.35201341909614575"
      ]
     },
     "execution_count": 3,
     "metadata": {},
     "output_type": "execute_result"
    }
   ],
   "source": [
    "TrainClickProcessed.calc_ndcg()"
   ]
  },
  {
   "cell_type": "code",
   "execution_count": 6,
   "metadata": {},
   "outputs": [
    {
     "name": "stdout",
     "output_type": "stream",
     "text": [
      "CPU times: user 41.3 ms, sys: 12.6 ms, total: 53.8 ms\n",
      "Wall time: 17.2 s\n"
     ]
    }
   ],
   "source": [
    "%%time\n",
    "TrainClickGrouped.populate()\n"
   ]
  },
  {
   "cell_type": "code",
   "execution_count": 7,
   "metadata": {},
   "outputs": [
    {
     "data": {
      "text/plain": [
       "0.3520389673729538"
      ]
     },
     "execution_count": 7,
     "metadata": {},
     "output_type": "execute_result"
    }
   ],
   "source": [
    "TrainClickGrouped.calc_ndcg()"
   ]
  },
  {
   "cell_type": "code",
   "execution_count": 7,
   "metadata": {},
   "outputs": [
    {
     "name": "stdout",
     "output_type": "stream",
     "text": [
      "CPU times: user 14.9 ms, sys: 0 ns, total: 14.9 ms\n",
      "Wall time: 11.6 s\n"
     ]
    }
   ],
   "source": [
    "%%time\n",
    "TrainClickExploded.populate()"
   ]
  },
  {
   "cell_type": "code",
   "execution_count": 14,
   "metadata": {},
   "outputs": [
    {
     "name": "stdout",
     "output_type": "stream",
     "text": [
      "+------+----------+-------------------+--------------------+-------------+-----------+--------+---+\n",
      "|source|      date|           datetime|        query_params|          gid|pos_in_list|     job|rel|\n",
      "+------+----------+-------------------+--------------------+-------------+-----------+--------+---+\n",
      "|   web|2018-05-01|2018-05-01 01:03:10|[,, 1,, [17060337...|1520418422784|          0|10186727|  0|\n",
      "|   web|2018-05-01|2018-05-01 01:03:10|[,, 1,, [17060337...|1520418422784|          1|10220146|  0|\n",
      "|   web|2018-05-01|2018-05-01 01:03:10|[,, 1,, [17060337...|1520418422784|          2|10270447|  0|\n",
      "|   web|2018-05-01|2018-05-01 01:03:10|[,, 1,, [17060337...|1520418422784|          3| 7794353|  1|\n",
      "|   web|2018-05-01|2018-05-01 01:03:10|[,, 1,, [17060337...|1520418422784|          4|10290761|  0|\n",
      "|   web|2018-05-01|2018-05-01 01:03:10|[,, 1,, [17060337...|1520418422784|          5|10295706|  0|\n",
      "|   web|2018-05-01|2018-05-01 01:03:10|[,, 1,, [17060337...|1520418422784|          6|10286548|  0|\n",
      "|   web|2018-05-01|2018-05-01 01:03:10|[,, 1,, [17060337...|1520418422784|          7| 8056355|  0|\n",
      "|   web|2018-05-01|2018-05-01 01:03:10|[,, 1,, [17060337...|1520418422784|          8| 9405593|  0|\n",
      "|   web|2018-05-01|2018-05-01 01:03:10|[,, 1,, [17060337...|1520418422784|          9| 9561765|  0|\n",
      "|   web|2018-05-01|2018-05-01 01:03:10|[,, 1,, [17060337...|1520418422784|         10| 9896933|  0|\n",
      "|   web|2018-05-01|2018-05-01 01:03:10|[,, 1,, [17060337...|1520418422784|         11| 9973839|  0|\n",
      "|   web|2018-05-01|2018-05-01 01:03:10|[,, 1,, [17060337...|1520418422784|         12|10204871|  0|\n",
      "|   web|2018-05-01|2018-05-01 01:03:10|[,, 1,, [17060337...|1520418422784|         13| 9732825|  0|\n",
      "|   web|2018-05-01|2018-05-01 01:03:10|[,, 1,, [17060337...|1520418422784|         14|10274843|  0|\n",
      "|   web|2018-05-01|2018-05-01 01:03:10|[,, 1,, [17060337...|1520418422784|         15| 4505113|  0|\n",
      "|   web|2018-05-01|2018-05-01 01:03:10|[,, 1,, [17060337...|1520418422784|         16| 8254649|  0|\n",
      "|   web|2018-05-01|2018-05-01 01:03:10|[,, 1,, [17060337...|1520418422784|         17| 9736751|  0|\n",
      "|   web|2018-05-01|2018-05-01 01:03:10|[,, 1,, [17060337...|1520418422784|         18| 9900550|  0|\n",
      "|   web|2018-05-01|2018-05-01 01:03:10|[,, 1,, [17060337...|1520418422784|         19|10121669|  0|\n",
      "+------+----------+-------------------+--------------------+-------------+-----------+--------+---+\n",
      "only showing top 20 rows\n",
      "\n"
     ]
    }
   ],
   "source": [
    "TrainClickExploded.query().show()"
   ]
  },
  {
   "cell_type": "code",
   "execution_count": 2,
   "metadata": {},
   "outputs": [
    {
     "ename": "AnalysisException",
     "evalue": "\"cannot resolve '`action`' given input columns: [source, query_params, click, pos_in_list, job, gid, date, rel, datetime];;\\n'Aggregate [date#1, source#0, 'action, query_params#3.keyword, 'job_in_list], [date#1, source#0, 'action, query_params#3.keyword AS keyword#40, 'job_in_list, count(1) AS impr#36L, sum(click#16L) AS click#38L]\\n+- AnalysisBarrier\\n      +- Project [source#0, date#1, datetime#2, query_params#3, gid#4L, pos_in_list#5, job#6L, rel#7L, rel#7L AS click#16L]\\n         +- Relation[source#0,date#1,datetime#2,query_params#3,gid#4L,pos_in_list#5,job#6L,rel#7L] parquet\\n\"",
     "output_type": "error",
     "traceback": [
      "\u001b[0;31m---------------------------------------------------------------------------\u001b[0m",
      "\u001b[0;31mPy4JJavaError\u001b[0m                             Traceback (most recent call last)",
      "\u001b[0;32m~/hack104-rec/.venv/lib/python3.6/site-packages/pyspark/sql/utils.py\u001b[0m in \u001b[0;36mdeco\u001b[0;34m(*a, **kw)\u001b[0m\n\u001b[1;32m     62\u001b[0m         \u001b[0;32mtry\u001b[0m\u001b[0;34m:\u001b[0m\u001b[0;34m\u001b[0m\u001b[0m\n\u001b[0;32m---> 63\u001b[0;31m             \u001b[0;32mreturn\u001b[0m \u001b[0mf\u001b[0m\u001b[0;34m(\u001b[0m\u001b[0;34m*\u001b[0m\u001b[0ma\u001b[0m\u001b[0;34m,\u001b[0m \u001b[0;34m**\u001b[0m\u001b[0mkw\u001b[0m\u001b[0;34m)\u001b[0m\u001b[0;34m\u001b[0m\u001b[0m\n\u001b[0m\u001b[1;32m     64\u001b[0m         \u001b[0;32mexcept\u001b[0m \u001b[0mpy4j\u001b[0m\u001b[0;34m.\u001b[0m\u001b[0mprotocol\u001b[0m\u001b[0;34m.\u001b[0m\u001b[0mPy4JJavaError\u001b[0m \u001b[0;32mas\u001b[0m \u001b[0me\u001b[0m\u001b[0;34m:\u001b[0m\u001b[0;34m\u001b[0m\u001b[0m\n",
      "\u001b[0;32m~/hack104-rec/.venv/lib/python3.6/site-packages/py4j/protocol.py\u001b[0m in \u001b[0;36mget_return_value\u001b[0;34m(answer, gateway_client, target_id, name)\u001b[0m\n\u001b[1;32m    327\u001b[0m                     \u001b[0;34m\"An error occurred while calling {0}{1}{2}.\\n\"\u001b[0m\u001b[0;34m.\u001b[0m\u001b[0;34m\u001b[0m\u001b[0m\n\u001b[0;32m--> 328\u001b[0;31m                     format(target_id, \".\", name), value)\n\u001b[0m\u001b[1;32m    329\u001b[0m             \u001b[0;32melse\u001b[0m\u001b[0;34m:\u001b[0m\u001b[0;34m\u001b[0m\u001b[0m\n",
      "\u001b[0;31mPy4JJavaError\u001b[0m: An error occurred while calling o87.agg.\n: org.apache.spark.sql.AnalysisException: cannot resolve '`action`' given input columns: [source, query_params, click, pos_in_list, job, gid, date, rel, datetime];;\n'Aggregate [date#1, source#0, 'action, query_params#3.keyword, 'job_in_list], [date#1, source#0, 'action, query_params#3.keyword AS keyword#40, 'job_in_list, count(1) AS impr#36L, sum(click#16L) AS click#38L]\n+- AnalysisBarrier\n      +- Project [source#0, date#1, datetime#2, query_params#3, gid#4L, pos_in_list#5, job#6L, rel#7L, rel#7L AS click#16L]\n         +- Relation[source#0,date#1,datetime#2,query_params#3,gid#4L,pos_in_list#5,job#6L,rel#7L] parquet\n\n\tat org.apache.spark.sql.catalyst.analysis.package$AnalysisErrorAt.failAnalysis(package.scala:42)\n\tat org.apache.spark.sql.catalyst.analysis.CheckAnalysis$$anonfun$checkAnalysis$1$$anonfun$apply$2.applyOrElse(CheckAnalysis.scala:88)\n\tat org.apache.spark.sql.catalyst.analysis.CheckAnalysis$$anonfun$checkAnalysis$1$$anonfun$apply$2.applyOrElse(CheckAnalysis.scala:85)\n\tat org.apache.spark.sql.catalyst.trees.TreeNode$$anonfun$transformUp$1.apply(TreeNode.scala:289)\n\tat org.apache.spark.sql.catalyst.trees.TreeNode$$anonfun$transformUp$1.apply(TreeNode.scala:289)\n\tat org.apache.spark.sql.catalyst.trees.CurrentOrigin$.withOrigin(TreeNode.scala:70)\n\tat org.apache.spark.sql.catalyst.trees.TreeNode.transformUp(TreeNode.scala:288)\n\tat org.apache.spark.sql.catalyst.plans.QueryPlan$$anonfun$transformExpressionsUp$1.apply(QueryPlan.scala:95)\n\tat org.apache.spark.sql.catalyst.plans.QueryPlan$$anonfun$transformExpressionsUp$1.apply(QueryPlan.scala:95)\n\tat org.apache.spark.sql.catalyst.plans.QueryPlan$$anonfun$1.apply(QueryPlan.scala:107)\n\tat org.apache.spark.sql.catalyst.plans.QueryPlan$$anonfun$1.apply(QueryPlan.scala:107)\n\tat org.apache.spark.sql.catalyst.trees.CurrentOrigin$.withOrigin(TreeNode.scala:70)\n\tat org.apache.spark.sql.catalyst.plans.QueryPlan.transformExpression$1(QueryPlan.scala:106)\n\tat org.apache.spark.sql.catalyst.plans.QueryPlan.org$apache$spark$sql$catalyst$plans$QueryPlan$$recursiveTransform$1(QueryPlan.scala:118)\n\tat org.apache.spark.sql.catalyst.plans.QueryPlan$$anonfun$org$apache$spark$sql$catalyst$plans$QueryPlan$$recursiveTransform$1$1.apply(QueryPlan.scala:122)\n\tat scala.collection.TraversableLike$$anonfun$map$1.apply(TraversableLike.scala:234)\n\tat scala.collection.TraversableLike$$anonfun$map$1.apply(TraversableLike.scala:234)\n\tat scala.collection.mutable.ResizableArray$class.foreach(ResizableArray.scala:59)\n\tat scala.collection.mutable.ArrayBuffer.foreach(ArrayBuffer.scala:48)\n\tat scala.collection.TraversableLike$class.map(TraversableLike.scala:234)\n\tat scala.collection.AbstractTraversable.map(Traversable.scala:104)\n\tat org.apache.spark.sql.catalyst.plans.QueryPlan.org$apache$spark$sql$catalyst$plans$QueryPlan$$recursiveTransform$1(QueryPlan.scala:122)\n\tat org.apache.spark.sql.catalyst.plans.QueryPlan$$anonfun$2.apply(QueryPlan.scala:127)\n\tat org.apache.spark.sql.catalyst.trees.TreeNode.mapProductIterator(TreeNode.scala:187)\n\tat org.apache.spark.sql.catalyst.plans.QueryPlan.mapExpressions(QueryPlan.scala:127)\n\tat org.apache.spark.sql.catalyst.plans.QueryPlan.transformExpressionsUp(QueryPlan.scala:95)\n\tat org.apache.spark.sql.catalyst.analysis.CheckAnalysis$$anonfun$checkAnalysis$1.apply(CheckAnalysis.scala:85)\n\tat org.apache.spark.sql.catalyst.analysis.CheckAnalysis$$anonfun$checkAnalysis$1.apply(CheckAnalysis.scala:80)\n\tat org.apache.spark.sql.catalyst.trees.TreeNode.foreachUp(TreeNode.scala:127)\n\tat org.apache.spark.sql.catalyst.analysis.CheckAnalysis$class.checkAnalysis(CheckAnalysis.scala:80)\n\tat org.apache.spark.sql.catalyst.analysis.Analyzer.checkAnalysis(Analyzer.scala:92)\n\tat org.apache.spark.sql.catalyst.analysis.Analyzer.executeAndCheck(Analyzer.scala:105)\n\tat org.apache.spark.sql.execution.QueryExecution.analyzed$lzycompute(QueryExecution.scala:57)\n\tat org.apache.spark.sql.execution.QueryExecution.analyzed(QueryExecution.scala:55)\n\tat org.apache.spark.sql.execution.QueryExecution.assertAnalyzed(QueryExecution.scala:47)\n\tat org.apache.spark.sql.Dataset$.ofRows(Dataset.scala:74)\n\tat org.apache.spark.sql.RelationalGroupedDataset.toDF(RelationalGroupedDataset.scala:66)\n\tat org.apache.spark.sql.RelationalGroupedDataset.agg(RelationalGroupedDataset.scala:226)\n\tat sun.reflect.NativeMethodAccessorImpl.invoke0(Native Method)\n\tat sun.reflect.NativeMethodAccessorImpl.invoke(NativeMethodAccessorImpl.java:62)\n\tat sun.reflect.DelegatingMethodAccessorImpl.invoke(DelegatingMethodAccessorImpl.java:43)\n\tat java.lang.reflect.Method.invoke(Method.java:498)\n\tat py4j.reflection.MethodInvoker.invoke(MethodInvoker.java:244)\n\tat py4j.reflection.ReflectionEngine.invoke(ReflectionEngine.java:357)\n\tat py4j.Gateway.invoke(Gateway.java:282)\n\tat py4j.commands.AbstractCommand.invokeMethod(AbstractCommand.java:132)\n\tat py4j.commands.CallCommand.execute(CallCommand.java:79)\n\tat py4j.GatewayConnection.run(GatewayConnection.java:238)\n\tat java.lang.Thread.run(Thread.java:748)\n",
      "\nDuring handling of the above exception, another exception occurred:\n",
      "\u001b[0;31mAnalysisException\u001b[0m                         Traceback (most recent call last)",
      "\u001b[0;32m<timed eval>\u001b[0m in \u001b[0;36m<module>\u001b[0;34m()\u001b[0m\n",
      "\u001b[0;32m~/hack104-rec/hack104_rec/core.py\u001b[0m in \u001b[0;36mwrapper\u001b[0;34m(*args, **kwargs)\u001b[0m\n\u001b[1;32m     50\u001b[0m                 .getOrCreate())\n\u001b[1;32m     51\u001b[0m \u001b[0;34m\u001b[0m\u001b[0m\n\u001b[0;32m---> 52\u001b[0;31m             \u001b[0mret\u001b[0m \u001b[0;34m=\u001b[0m \u001b[0mwrapper\u001b[0m\u001b[0;34m.\u001b[0m\u001b[0mfunc\u001b[0m\u001b[0;34m(\u001b[0m\u001b[0;34m*\u001b[0m\u001b[0margs\u001b[0m\u001b[0;34m,\u001b[0m \u001b[0mspark\u001b[0m\u001b[0;34m=\u001b[0m\u001b[0mspark\u001b[0m\u001b[0;34m,\u001b[0m \u001b[0;34m**\u001b[0m\u001b[0mkwargs\u001b[0m\u001b[0;34m)\u001b[0m\u001b[0;34m\u001b[0m\u001b[0m\n\u001b[0m\u001b[1;32m     53\u001b[0m \u001b[0;34m\u001b[0m\u001b[0m\n\u001b[1;32m     54\u001b[0m         \u001b[0;32melse\u001b[0m\u001b[0;34m:\u001b[0m\u001b[0;34m\u001b[0m\u001b[0m\n",
      "\u001b[0;32m~/hack104-rec/hack104_rec/train_click.py\u001b[0m in \u001b[0;36mpopulate\u001b[0;34m(cls, spark)\u001b[0m\n\u001b[1;32m    138\u001b[0m                      'query_params.keyword', 'job_in_list')\n\u001b[1;32m    139\u001b[0m             .agg(f.count(f.lit(1)).alias('impr'),\n\u001b[0;32m--> 140\u001b[0;31m                  f.sum('click').alias('click'))\n\u001b[0m\u001b[1;32m    141\u001b[0m             \u001b[0;34m.\u001b[0m\u001b[0mwithColumn\u001b[0m\u001b[0;34m(\u001b[0m\u001b[0;34m'CTR'\u001b[0m\u001b[0;34m,\u001b[0m \u001b[0mf\u001b[0m\u001b[0;34m.\u001b[0m\u001b[0mcol\u001b[0m\u001b[0;34m(\u001b[0m\u001b[0;34m'click'\u001b[0m\u001b[0;34m)\u001b[0m \u001b[0;34m/\u001b[0m \u001b[0mf\u001b[0m\u001b[0;34m.\u001b[0m\u001b[0mcol\u001b[0m\u001b[0;34m(\u001b[0m\u001b[0;34m'impr'\u001b[0m\u001b[0;34m)\u001b[0m\u001b[0;34m)\u001b[0m\u001b[0;34m\u001b[0m\u001b[0m\n\u001b[1;32m    142\u001b[0m             \u001b[0;34m.\u001b[0m\u001b[0msort\u001b[0m\u001b[0;34m(\u001b[0m\u001b[0;34m'action'\u001b[0m\u001b[0;34m,\u001b[0m \u001b[0;34m'impr'\u001b[0m\u001b[0;34m,\u001b[0m \u001b[0;34m'CTR'\u001b[0m\u001b[0;34m,\u001b[0m \u001b[0mascending\u001b[0m\u001b[0;34m=\u001b[0m\u001b[0;34m[\u001b[0m\u001b[0;32mFalse\u001b[0m\u001b[0;34m,\u001b[0m \u001b[0;32mFalse\u001b[0m\u001b[0;34m,\u001b[0m \u001b[0;32mFalse\u001b[0m\u001b[0;34m]\u001b[0m\u001b[0;34m)\u001b[0m\u001b[0;34m\u001b[0m\u001b[0m\n",
      "\u001b[0;32m~/hack104-rec/.venv/lib/python3.6/site-packages/pyspark/sql/group.py\u001b[0m in \u001b[0;36magg\u001b[0;34m(self, *exprs)\u001b[0m\n\u001b[1;32m     91\u001b[0m             \u001b[0;32massert\u001b[0m \u001b[0mall\u001b[0m\u001b[0;34m(\u001b[0m\u001b[0misinstance\u001b[0m\u001b[0;34m(\u001b[0m\u001b[0mc\u001b[0m\u001b[0;34m,\u001b[0m \u001b[0mColumn\u001b[0m\u001b[0;34m)\u001b[0m \u001b[0;32mfor\u001b[0m \u001b[0mc\u001b[0m \u001b[0;32min\u001b[0m \u001b[0mexprs\u001b[0m\u001b[0;34m)\u001b[0m\u001b[0;34m,\u001b[0m \u001b[0;34m\"all exprs should be Column\"\u001b[0m\u001b[0;34m\u001b[0m\u001b[0m\n\u001b[1;32m     92\u001b[0m             jdf = self._jgd.agg(exprs[0]._jc,\n\u001b[0;32m---> 93\u001b[0;31m                                 _to_seq(self.sql_ctx._sc, [c._jc for c in exprs[1:]]))\n\u001b[0m\u001b[1;32m     94\u001b[0m         \u001b[0;32mreturn\u001b[0m \u001b[0mDataFrame\u001b[0m\u001b[0;34m(\u001b[0m\u001b[0mjdf\u001b[0m\u001b[0;34m,\u001b[0m \u001b[0mself\u001b[0m\u001b[0;34m.\u001b[0m\u001b[0msql_ctx\u001b[0m\u001b[0;34m)\u001b[0m\u001b[0;34m\u001b[0m\u001b[0m\n\u001b[1;32m     95\u001b[0m \u001b[0;34m\u001b[0m\u001b[0m\n",
      "\u001b[0;32m~/hack104-rec/.venv/lib/python3.6/site-packages/py4j/java_gateway.py\u001b[0m in \u001b[0;36m__call__\u001b[0;34m(self, *args)\u001b[0m\n\u001b[1;32m   1255\u001b[0m         \u001b[0manswer\u001b[0m \u001b[0;34m=\u001b[0m \u001b[0mself\u001b[0m\u001b[0;34m.\u001b[0m\u001b[0mgateway_client\u001b[0m\u001b[0;34m.\u001b[0m\u001b[0msend_command\u001b[0m\u001b[0;34m(\u001b[0m\u001b[0mcommand\u001b[0m\u001b[0;34m)\u001b[0m\u001b[0;34m\u001b[0m\u001b[0m\n\u001b[1;32m   1256\u001b[0m         return_value = get_return_value(\n\u001b[0;32m-> 1257\u001b[0;31m             answer, self.gateway_client, self.target_id, self.name)\n\u001b[0m\u001b[1;32m   1258\u001b[0m \u001b[0;34m\u001b[0m\u001b[0m\n\u001b[1;32m   1259\u001b[0m         \u001b[0;32mfor\u001b[0m \u001b[0mtemp_arg\u001b[0m \u001b[0;32min\u001b[0m \u001b[0mtemp_args\u001b[0m\u001b[0;34m:\u001b[0m\u001b[0;34m\u001b[0m\u001b[0m\n",
      "\u001b[0;32m~/hack104-rec/.venv/lib/python3.6/site-packages/pyspark/sql/utils.py\u001b[0m in \u001b[0;36mdeco\u001b[0;34m(*a, **kw)\u001b[0m\n\u001b[1;32m     67\u001b[0m                                              e.java_exception.getStackTrace()))\n\u001b[1;32m     68\u001b[0m             \u001b[0;32mif\u001b[0m \u001b[0ms\u001b[0m\u001b[0;34m.\u001b[0m\u001b[0mstartswith\u001b[0m\u001b[0;34m(\u001b[0m\u001b[0;34m'org.apache.spark.sql.AnalysisException: '\u001b[0m\u001b[0;34m)\u001b[0m\u001b[0;34m:\u001b[0m\u001b[0;34m\u001b[0m\u001b[0m\n\u001b[0;32m---> 69\u001b[0;31m                 \u001b[0;32mraise\u001b[0m \u001b[0mAnalysisException\u001b[0m\u001b[0;34m(\u001b[0m\u001b[0ms\u001b[0m\u001b[0;34m.\u001b[0m\u001b[0msplit\u001b[0m\u001b[0;34m(\u001b[0m\u001b[0;34m': '\u001b[0m\u001b[0;34m,\u001b[0m \u001b[0;36m1\u001b[0m\u001b[0;34m)\u001b[0m\u001b[0;34m[\u001b[0m\u001b[0;36m1\u001b[0m\u001b[0;34m]\u001b[0m\u001b[0;34m,\u001b[0m \u001b[0mstackTrace\u001b[0m\u001b[0;34m)\u001b[0m\u001b[0;34m\u001b[0m\u001b[0m\n\u001b[0m\u001b[1;32m     70\u001b[0m             \u001b[0;32mif\u001b[0m \u001b[0ms\u001b[0m\u001b[0;34m.\u001b[0m\u001b[0mstartswith\u001b[0m\u001b[0;34m(\u001b[0m\u001b[0;34m'org.apache.spark.sql.catalyst.analysis'\u001b[0m\u001b[0;34m)\u001b[0m\u001b[0;34m:\u001b[0m\u001b[0;34m\u001b[0m\u001b[0m\n\u001b[1;32m     71\u001b[0m                 \u001b[0;32mraise\u001b[0m \u001b[0mAnalysisException\u001b[0m\u001b[0;34m(\u001b[0m\u001b[0ms\u001b[0m\u001b[0;34m.\u001b[0m\u001b[0msplit\u001b[0m\u001b[0;34m(\u001b[0m\u001b[0;34m': '\u001b[0m\u001b[0;34m,\u001b[0m \u001b[0;36m1\u001b[0m\u001b[0;34m)\u001b[0m\u001b[0;34m[\u001b[0m\u001b[0;36m1\u001b[0m\u001b[0;34m]\u001b[0m\u001b[0;34m,\u001b[0m \u001b[0mstackTrace\u001b[0m\u001b[0;34m)\u001b[0m\u001b[0;34m\u001b[0m\u001b[0m\n",
      "\u001b[0;31mAnalysisException\u001b[0m: \"cannot resolve '`action`' given input columns: [source, query_params, click, pos_in_list, job, gid, date, rel, datetime];;\\n'Aggregate [date#1, source#0, 'action, query_params#3.keyword, 'job_in_list], [date#1, source#0, 'action, query_params#3.keyword AS keyword#40, 'job_in_list, count(1) AS impr#36L, sum(click#16L) AS click#38L]\\n+- AnalysisBarrier\\n      +- Project [source#0, date#1, datetime#2, query_params#3, gid#4L, pos_in_list#5, job#6L, rel#7L, rel#7L AS click#16L]\\n         +- Relation[source#0,date#1,datetime#2,query_params#3,gid#4L,pos_in_list#5,job#6L,rel#7L] parquet\\n\""
     ]
    }
   ],
   "source": [
    "%%time\n",
    "TrainClickCTR.populate()"
   ]
  },
  {
   "cell_type": "markdown",
   "metadata": {},
   "source": [
    "# Train Action"
   ]
  },
  {
   "cell_type": "code",
   "execution_count": 2,
   "metadata": {},
   "outputs": [
    {
     "name": "stdout",
     "output_type": "stream",
     "text": [
      "CPU times: user 31.9 ms, sys: 15.8 ms, total: 47.7 ms\n",
      "Wall time: 1min 10s\n"
     ]
    }
   ],
   "source": [
    "%%time\n",
    "TrainActionProcessed.populate()"
   ]
  },
  {
   "cell_type": "code",
   "execution_count": 2,
   "metadata": {},
   "outputs": [
    {
     "name": "stdout",
     "output_type": "stream",
     "text": [
      "CPU times: user 27.7 ms, sys: 15.5 ms, total: 43.1 ms\n",
      "Wall time: 30.2 s\n"
     ]
    }
   ],
   "source": [
    "%%time\n",
    "TrainActionCount.populate()"
   ]
  },
  {
   "cell_type": "code",
   "execution_count": 2,
   "metadata": {},
   "outputs": [],
   "source": [
    "%%time\n",
    "TrainActionUnstacked.populate()"
   ]
  },
  {
   "cell_type": "markdown",
   "metadata": {},
   "source": [
    "# Job"
   ]
  },
  {
   "cell_type": "code",
   "execution_count": 2,
   "metadata": {},
   "outputs": [
    {
     "name": "stdout",
     "output_type": "stream",
     "text": [
      "CPU times: user 34.7 ms, sys: 20.8 ms, total: 55.5 ms\n",
      "Wall time: 14.2 s\n"
     ]
    }
   ],
   "source": [
    "%%time\n",
    "JobDateRange.populate()"
   ]
  },
  {
   "cell_type": "code",
   "execution_count": 11,
   "metadata": {},
   "outputs": [],
   "source": [
    "date_start, date_stop = JobDateRange.query().select(f.min('date_start'), f.max('date_stop')).first()"
   ]
  },
  {
   "cell_type": "code",
   "execution_count": 19,
   "metadata": {},
   "outputs": [
    {
     "data": {
      "text/plain": [
       "31"
      ]
     },
     "execution_count": 19,
     "metadata": {},
     "output_type": "execute_result"
    }
   ],
   "source": [
    "(date_stop - date_start).days"
   ]
  },
  {
   "cell_type": "markdown",
   "metadata": {},
   "source": [
    "$\\frac{length}{1+R\\cdot(n-1)}$"
   ]
  },
  {
   "cell_type": "markdown",
   "metadata": {},
   "source": [
    "# label"
   ]
  },
  {
   "cell_type": "code",
   "execution_count": 344,
   "metadata": {},
   "outputs": [],
   "source": [
    "train_click_sdf = spark.read.parquet('data/train-click.pq')\n",
    "(train_click_sdf\n",
    " .select('*', \n",
    "         f.posexplode('joblist').alias('pos', 'job'),\n",
    "        )\n",
    " .withColumn('action', f.when(f.col('job') == f.col('jobno'), f.col('action')).otherwise(None))\n",
    " .withColumn('keyword', f.col('query_params.keyword'))\n",
    " .drop('query_params')\n",
    " .drop('querystring')\n",
    " .drop('joblist')\n",
    " .drop('jobno')\n",
    ").write.parquet('data/train-label.pq', mode='overwrite')\n"
   ]
  },
  {
   "cell_type": "code",
   "execution_count": 12,
   "metadata": {},
   "outputs": [
    {
     "name": "stdout",
     "output_type": "stream",
     "text": [
      "root\n",
      " |-- action: string (nullable = true)\n",
      " |-- date: date (nullable = true)\n",
      " |-- source: string (nullable = true)\n",
      " |-- datetime: timestamp (nullable = true)\n",
      " |-- tokens: array (nullable = true)\n",
      " |    |-- element: string (containsNull = true)\n",
      " |-- id: long (nullable = true)\n",
      " |-- pos: integer (nullable = true)\n",
      " |-- job: long (nullable = true)\n",
      " |-- keyword: string (nullable = true)\n",
      "\n"
     ]
    }
   ],
   "source": [
    "train_label_sdf = spark.read.parquet('data/train-label.pq')\n",
    "train_label_sdf.printSchema()"
   ]
  },
  {
   "cell_type": "code",
   "execution_count": 18,
   "metadata": {},
   "outputs": [
    {
     "name": "stdout",
     "output_type": "stream",
     "text": [
      "+--------+----------+------+-------------------+--------+-----------+---+--------+-------+\n",
      "|  action|      date|source|           datetime|  tokens|         id|pos|     job|keyword|\n",
      "+--------+----------+------+-------------------+--------+-----------+---+--------+-------+\n",
      "|    null|2018-05-29|   web|2018-05-29 19:34:16|[证券, 承销]|60129542144|  0| 7825266|   證券承銷|\n",
      "|    null|2018-05-29|   web|2018-05-29 19:34:16|[证券, 承销]|60129542144|  1| 7847926|   證券承銷|\n",
      "|    null|2018-05-29|   web|2018-05-29 19:34:16|[证券, 承销]|60129542144|  2| 8997950|   證券承銷|\n",
      "|    null|2018-05-29|   web|2018-05-29 19:34:16|[证券, 承销]|60129542144|  3| 6305216|   證券承銷|\n",
      "|    null|2018-05-29|   web|2018-05-29 19:34:16|[证券, 承销]|60129542144|  4|10427119|   證券承銷|\n",
      "|    null|2018-05-29|   web|2018-05-29 19:34:16|[证券, 承销]|60129542144|  5| 6742728|   證券承銷|\n",
      "|    null|2018-05-29|   web|2018-05-29 19:34:16|[证券, 承销]|60129542144|  6| 7325695|   證券承銷|\n",
      "|    null|2018-05-29|   web|2018-05-29 19:34:16|[证券, 承销]|60129542144|  7|10152693|   證券承銷|\n",
      "|    null|2018-05-29|   web|2018-05-29 19:34:16|[证券, 承销]|60129542144|  8| 9952930|   證券承銷|\n",
      "|    null|2018-05-29|   web|2018-05-29 19:34:16|[证券, 承销]|60129542144|  9| 5421138|   證券承銷|\n",
      "|    null|2018-05-29|   web|2018-05-29 19:34:16|[证券, 承销]|60129542144| 10|10090145|   證券承銷|\n",
      "|clickJob|2018-05-29|   web|2018-05-29 19:34:16|[证券, 承销]|60129542144| 11| 7480864|   證券承銷|\n",
      "|    null|2018-05-29|   web|2018-05-29 19:34:16|[证券, 承销]|60129542144| 12|10341088|   證券承銷|\n",
      "|    null|2018-05-29|   web|2018-05-29 19:34:16|[证券, 承销]|60129542144| 13|10090169|   證券承銷|\n",
      "|    null|2018-05-29|   web|2018-05-29 19:34:16|[证券, 承销]|60129542144| 14| 8842755|   證券承銷|\n",
      "|    null|2018-05-29|   web|2018-05-29 19:34:16|[证券, 承销]|60129542144| 15| 4552469|   證券承銷|\n",
      "|    null|2018-05-29|   web|2018-05-29 19:34:16|[证券, 承销]|60129542144| 16| 7564079|   證券承銷|\n",
      "|    null|2018-05-29|   web|2018-05-29 19:34:16|[证券, 承销]|60129542144| 17|10245219|   證券承銷|\n",
      "|    null|2018-05-29|   web|2018-05-29 19:34:16|[证券, 承销]|60129542144| 18| 9433949|   證券承銷|\n",
      "|    null|2018-05-29|   web|2018-05-29 19:34:16|[证券, 承销]|60129542144| 19| 8075492|   證券承銷|\n",
      "|    null|2018-05-05|   web|2018-05-05 20:49:37|    [行政]|60129542145|  0| 9637910|     行政|\n",
      "|    null|2018-05-05|   web|2018-05-05 20:49:37|    [行政]|60129542145|  1| 8200270|     行政|\n",
      "|clickJob|2018-05-05|   web|2018-05-05 20:49:37|    [行政]|60129542145|  2|10244621|     行政|\n",
      "|    null|2018-05-05|   web|2018-05-05 20:49:37|    [行政]|60129542145|  3| 5327350|     行政|\n",
      "|    null|2018-05-05|   web|2018-05-05 20:49:37|    [行政]|60129542145|  4| 9828077|     行政|\n",
      "|    null|2018-05-05|   web|2018-05-05 20:49:37|    [行政]|60129542145|  5| 7959115|     行政|\n",
      "|    null|2018-05-05|   web|2018-05-05 20:49:37|    [行政]|60129542145|  6|10207797|     行政|\n",
      "|    null|2018-05-05|   web|2018-05-05 20:49:37|    [行政]|60129542145|  7| 6724639|     行政|\n",
      "|    null|2018-05-05|   web|2018-05-05 20:49:37|    [行政]|60129542145|  8|10261408|     行政|\n",
      "|    null|2018-05-05|   web|2018-05-05 20:49:37|    [行政]|60129542145|  9|10228851|     行政|\n",
      "|    null|2018-05-05|   web|2018-05-05 20:49:37|    [行政]|60129542145| 10| 9186201|     行政|\n",
      "|    null|2018-05-05|   web|2018-05-05 20:49:37|    [行政]|60129542145| 11| 7734862|     行政|\n",
      "|    null|2018-05-05|   web|2018-05-05 20:49:37|    [行政]|60129542145| 12|10317043|     行政|\n",
      "|    null|2018-05-05|   web|2018-05-05 20:49:37|    [行政]|60129542145| 13| 8022189|     行政|\n",
      "|    null|2018-05-05|   web|2018-05-05 20:49:37|    [行政]|60129542145| 14|10061226|     行政|\n",
      "|    null|2018-05-05|   web|2018-05-05 20:49:37|    [行政]|60129542145| 15| 6196426|     行政|\n",
      "|    null|2018-05-05|   web|2018-05-05 20:49:37|    [行政]|60129542145| 16| 8132337|     行政|\n",
      "|    null|2018-05-05|   web|2018-05-05 20:49:37|    [行政]|60129542145| 17|10161321|     行政|\n",
      "|    null|2018-05-05|   web|2018-05-05 20:49:37|    [行政]|60129542145| 18|  772129|     行政|\n",
      "|    null|2018-05-05|   web|2018-05-05 20:49:37|    [行政]|60129542145| 19| 5734379|     行政|\n",
      "+--------+----------+------+-------------------+--------+-----------+---+--------+-------+\n",
      "only showing top 40 rows\n",
      "\n"
     ]
    }
   ],
   "source": [
    "train_label_sdf.show(40)"
   ]
  },
  {
   "cell_type": "code",
   "execution_count": 324,
   "metadata": {},
   "outputs": [],
   "source": [
    "train_action_count_sdf = spark.read.parquet('data/train-action-count.pq')\n",
    "action_count_per_day = (train_action_count_sdf\n",
    " .groupby('jobno', 'action')\n",
    " .agg(f.min('date').alias('date_start'),\n",
    "      f.max('date').alias('date_stop'), \n",
    "      f.sum('count').alias('count'))\n",
    " .withColumn('date_diff', f.datediff('date_stop', 'date_start') + 1)\n",
    " .withColumn('count_per_day', f.col('count') / f.col('date_diff'))\n",
    " .select('jobno', 'action', 'count_per_day')\n",
    "  .groupby('jobno')\n",
    " .pivot('action', ['viewJob', 'saveJob', 'applyJob'])\n",
    " .mean('count_per_day')\n",
    ".fillna(0.0)\n",
    "\n",
    "  .write.parquet('data/action-count-per-day.pq', mode='overwrite') )\n"
   ]
  },
  {
   "cell_type": "code",
   "execution_count": 3,
   "metadata": {},
   "outputs": [
    {
     "name": "stdout",
     "output_type": "stream",
     "text": [
      "+--------+------------------+-------------------+-------------------+\n",
      "|   jobno|           viewJob|            saveJob|           applyJob|\n",
      "+--------+------------------+-------------------+-------------------+\n",
      "| 5685414| 4.290322580645161|                0.0|                0.0|\n",
      "| 6951559|18.870967741935484| 0.2413793103448276|0.35714285714285715|\n",
      "| 7108361|22.333333333333332| 1.1538461538461537| 0.9230769230769231|\n",
      "| 7522686|3.7419354838709675|                0.0|0.10526315789473684|\n",
      "| 8325514| 6.580645161290323|              0.375|             0.8125|\n",
      "| 8795443| 8.225806451612904| 0.6785714285714286| 0.5862068965517241|\n",
      "| 9370683| 11.32258064516129| 0.5714285714285714|                0.6|\n",
      "| 9666534|13.333333333333334|               0.75| 0.6666666666666666|\n",
      "| 9912410|25.071428571428573| 0.6521739130434783| 1.3703703703703705|\n",
      "| 9915543| 6.290322580645161| 0.4827586206896552| 0.7142857142857143|\n",
      "| 8081373|               8.0| 0.6153846153846154| 0.2222222222222222|\n",
      "| 9301703|21.214285714285715| 0.5714285714285714| 1.1666666666666667|\n",
      "| 8618981| 4.142857142857143|                1.0|                2.0|\n",
      "| 9916034| 7.225806451612903|0.21428571428571427| 0.5862068965517241|\n",
      "| 5877346|              30.0|                1.0|                1.0|\n",
      "| 9061403| 9.903225806451612|                0.4| 0.5909090909090909|\n",
      "| 7369319|              43.5|                2.0|                4.0|\n",
      "|10274932| 4.333333333333333|                1.0|                1.0|\n",
      "| 4384665|              10.0|               0.24| 0.3793103448275862|\n",
      "| 5092127|15.838709677419354| 0.5666666666666667| 0.8695652173913043|\n",
      "+--------+------------------+-------------------+-------------------+\n",
      "only showing top 20 rows\n",
      "\n"
     ]
    }
   ],
   "source": [
    "action_count_per_day = spark.read.parquet('data/action-count-per-day.pq')\n",
    "action_count_per_day.show()"
   ]
  },
  {
   "cell_type": "code",
   "execution_count": 4,
   "metadata": {},
   "outputs": [],
   "source": [
    "train_label_with_action_sdf = train_label_sdf.join(action_count_per_day\n",
    "                                                   .withColumnRenamed('jobno', 'job'), \n",
    "                                                   on='job', how='left')"
   ]
  },
  {
   "cell_type": "code",
   "execution_count": 5,
   "metadata": {},
   "outputs": [
    {
     "data": {
      "text/plain": [
       "16"
      ]
     },
     "execution_count": 5,
     "metadata": {},
     "output_type": "execute_result"
    }
   ],
   "source": [
    "train_label_with_action_sdf.rdd.getNumPartitions()"
   ]
  },
  {
   "cell_type": "code",
   "execution_count": 17,
   "metadata": {},
   "outputs": [
    {
     "ename": "NameError",
     "evalue": "name 'train_label_with_action_sdf' is not defined",
     "output_type": "error",
     "traceback": [
      "\u001b[0;31m---------------------------------------------------------------------------\u001b[0m",
      "\u001b[0;31mNameError\u001b[0m                                 Traceback (most recent call last)",
      "\u001b[0;32m<ipython-input-17-cda1835608a9>\u001b[0m in \u001b[0;36m<module>\u001b[0;34m()\u001b[0m\n\u001b[0;32m----> 1\u001b[0;31m \u001b[0mtrain_label_with_action_sdf\u001b[0m\u001b[0;34m.\u001b[0m\u001b[0mshow\u001b[0m\u001b[0;34m(\u001b[0m\u001b[0;34m)\u001b[0m\u001b[0;34m\u001b[0m\u001b[0m\n\u001b[0m",
      "\u001b[0;31mNameError\u001b[0m: name 'train_label_with_action_sdf' is not defined"
     ]
    }
   ],
   "source": [
    "train_label_with_action_sdf.show()"
   ]
  },
  {
   "cell_type": "code",
   "execution_count": 6,
   "metadata": {},
   "outputs": [],
   "source": [
    "train_label_with_action_df = (train_label_with_action_sdf\n",
    " .withColumn('label', f.when(f.col('action') == 'clickJob', 1)\n",
    "             .when(f.col('action') == 'saveJob', 2)\n",
    "             .when(f.col('action')== 'applyJob', 3)\n",
    "             .otherwise(0))\n",
    " .select('label', 'id', 'pos', 'viewJob', 'saveJob', 'applyJob')\n",
    ").toPandas()"
   ]
  },
  {
   "cell_type": "code",
   "execution_count": 21,
   "metadata": {},
   "outputs": [],
   "source": [
    "\n",
    "from carriage import StreamTable, Stream, X\n",
    "import numpy as np"
   ]
  },
  {
   "cell_type": "code",
   "execution_count": 25,
   "metadata": {},
   "outputs": [],
   "source": [
    "train_groups = np.array(Stream(train_label_with_action_df.itertuples())\n",
    "                        .group_by_as_stream(X.id)\n",
    "                        .map(lambda row: row.values.len())\n",
    "                        .to_list()\n",
    "                        )"
   ]
  },
  {
   "cell_type": "code",
   "execution_count": 28,
   "metadata": {},
   "outputs": [],
   "source": [
    "train_y = train_label_with_action_df['label'].values"
   ]
  },
  {
   "cell_type": "code",
   "execution_count": 34,
   "metadata": {},
   "outputs": [],
   "source": [
    "train_X = train_label_with_action_df.loc[:, 'viewJob':].values"
   ]
  },
  {
   "cell_type": "code",
   "execution_count": 35,
   "metadata": {},
   "outputs": [],
   "source": [
    "dm_train = xgb.DMatrix(train_X, label=train_y)\n",
    "dm_train.set_group(train_groups)\n"
   ]
  },
  {
   "cell_type": "code",
   "execution_count": 77,
   "metadata": {},
   "outputs": [
    {
     "name": "stdout",
     "output_type": "stream",
     "text": [
      "[0]\ttrain-map:0.285321\n",
      "[1]\ttrain-map:0.285664\n",
      "[2]\ttrain-map:0.285698\n",
      "[3]\ttrain-map:0.286132\n",
      "[4]\ttrain-map:0.28632\n",
      "[5]\ttrain-map:0.286385\n",
      "[6]\ttrain-map:0.286501\n",
      "[7]\ttrain-map:0.286706\n",
      "[8]\ttrain-map:0.286703\n",
      "[9]\ttrain-map:0.28674\n",
      "[10]\ttrain-map:0.286798\n",
      "[11]\ttrain-map:0.286876\n",
      "[12]\ttrain-map:0.286923\n",
      "[13]\ttrain-map:0.286954\n",
      "[14]\ttrain-map:0.287018\n",
      "[15]\ttrain-map:0.287001\n",
      "[16]\ttrain-map:0.286997\n",
      "[17]\ttrain-map:0.287015\n",
      "[18]\ttrain-map:0.287036\n",
      "[19]\ttrain-map:0.287033\n"
     ]
    }
   ],
   "source": [
    "\n",
    "xgb_param = dict(\n",
    "    objective='rank:pairwise', \n",
    "    eta=0.1,\n",
    "    gamma = 1.0 ,\n",
    "    min_child_weight = 0.1,\n",
    "    max_depth=6,\n",
    "#    num_round = 4,\n",
    "    save_period = 0,\n",
    "    eval_metric = 'map'\n",
    ")\n",
    "\n",
    "booster = xgb.train(\n",
    "    params=xgb_param,\n",
    "    dtrain=dm_train, \n",
    "    num_boost_round=20,\n",
    "     evals=[(dm_train, 'train')]\n",
    "#            Row(dm=dm_test_random_y, name='test_random')]\n",
    ")\n",
    "\n",
    "# xgb.plot_importance(booster)"
   ]
  },
  {
   "cell_type": "markdown",
   "metadata": {},
   "source": [
    "# nDCG"
   ]
  },
  {
   "cell_type": "code",
   "execution_count": 76,
   "metadata": {},
   "outputs": [
    {
     "data": {
      "text/plain": [
       "0.8472356442900008"
      ]
     },
     "execution_count": 76,
     "metadata": {},
     "output_type": "execute_result"
    }
   ],
   "source": [
    "train_predict_y = booster.predict(dm_train)\n",
    "import numpy as np\n",
    "Stream(np.split(train_predict_y, train_groups.cumsum())).map(lambda labels: ndcg_at_k(labels, len(labels))).mean()"
   ]
  },
  {
   "cell_type": "code",
   "execution_count": 78,
   "metadata": {},
   "outputs": [],
   "source": [
    "from sklearn.metrics import average_precision_score"
   ]
  },
  {
   "cell_type": "code",
   "execution_count": 93,
   "metadata": {},
   "outputs": [
    {
     "name": "stderr",
     "output_type": "stream",
     "text": [
      "/home/joe/hack104-rec/.venv/lib/python3.6/site-packages/sklearn/metrics/ranking.py:444: RuntimeWarning: invalid value encountered in true_divide\n",
      "  recall = tps / tps[-1]\n"
     ]
    },
    {
     "ename": "ValueError",
     "evalue": "Data is not binary and pos_label is not specified",
     "output_type": "error",
     "traceback": [
      "\u001b[0;31m---------------------------------------------------------------------------\u001b[0m",
      "\u001b[0;31mValueError\u001b[0m                                Traceback (most recent call last)",
      "\u001b[0;32m<ipython-input-93-40edf1a5bfde>\u001b[0m in \u001b[0;36m<module>\u001b[0;34m()\u001b[0m\n\u001b[1;32m      1\u001b[0m (Stream(np.split(train_y, train_groups.cumsum()))\n\u001b[0;32m----> 2\u001b[0;31m  \u001b[0;34m.\u001b[0m\u001b[0mmap\u001b[0m\u001b[0;34m(\u001b[0m\u001b[0;32mlambda\u001b[0m \u001b[0mlabels\u001b[0m\u001b[0;34m:\u001b[0m \u001b[0maverage_precision_score\u001b[0m\u001b[0;34m(\u001b[0m\u001b[0mlabels\u001b[0m\u001b[0;34m,\u001b[0m \u001b[0mlist\u001b[0m\u001b[0;34m(\u001b[0m\u001b[0mreversed\u001b[0m\u001b[0;34m(\u001b[0m\u001b[0mrange\u001b[0m\u001b[0;34m(\u001b[0m\u001b[0mlen\u001b[0m\u001b[0;34m(\u001b[0m\u001b[0mlabels\u001b[0m\u001b[0;34m)\u001b[0m\u001b[0;34m)\u001b[0m\u001b[0;34m)\u001b[0m\u001b[0;34m)\u001b[0m\u001b[0;34m)\u001b[0m\u001b[0;34m)\u001b[0m\u001b[0;34m\u001b[0m\u001b[0m\n\u001b[0m\u001b[1;32m      3\u001b[0m \u001b[0;31m#  .map(lambda labels: ndcg_at_k(labels, len(labels), method=1))\u001b[0m\u001b[0;34m\u001b[0m\u001b[0;34m\u001b[0m\u001b[0m\n\u001b[1;32m      4\u001b[0m  \u001b[0;34m.\u001b[0m\u001b[0mmean\u001b[0m\u001b[0;34m(\u001b[0m\u001b[0;34m)\u001b[0m\u001b[0;34m\u001b[0m\u001b[0m\n\u001b[1;32m      5\u001b[0m )\n",
      "\u001b[0;32m~/hack104-rec/.venv/lib/python3.6/site-packages/carriage/stream.py\u001b[0m in \u001b[0;36mmean\u001b[0;34m(self)\u001b[0m\n\u001b[1;32m   1205\u001b[0m         \u001b[0;36m4.5\u001b[0m\u001b[0;34m\u001b[0m\u001b[0m\n\u001b[1;32m   1206\u001b[0m         '''\n\u001b[0;32m-> 1207\u001b[0;31m         \u001b[0mlength\u001b[0m\u001b[0;34m,\u001b[0m \u001b[0msummation\u001b[0m \u001b[0;34m=\u001b[0m \u001b[0mdeque\u001b[0m\u001b[0;34m(\u001b[0m\u001b[0menumerate\u001b[0m\u001b[0;34m(\u001b[0m\u001b[0mitt\u001b[0m\u001b[0;34m.\u001b[0m\u001b[0maccumulate\u001b[0m\u001b[0;34m(\u001b[0m\u001b[0mself\u001b[0m\u001b[0;34m)\u001b[0m\u001b[0;34m,\u001b[0m \u001b[0;36m1\u001b[0m\u001b[0;34m)\u001b[0m\u001b[0;34m,\u001b[0m \u001b[0;36m1\u001b[0m\u001b[0;34m)\u001b[0m\u001b[0;34m.\u001b[0m\u001b[0mpop\u001b[0m\u001b[0;34m(\u001b[0m\u001b[0;34m)\u001b[0m\u001b[0;34m\u001b[0m\u001b[0m\n\u001b[0m\u001b[1;32m   1208\u001b[0m         \u001b[0;32mreturn\u001b[0m \u001b[0msummation\u001b[0m \u001b[0;34m/\u001b[0m \u001b[0mlength\u001b[0m\u001b[0;34m\u001b[0m\u001b[0m\n\u001b[1;32m   1209\u001b[0m \u001b[0;34m\u001b[0m\u001b[0m\n",
      "\u001b[0;32m<ipython-input-93-40edf1a5bfde>\u001b[0m in \u001b[0;36m<lambda>\u001b[0;34m(labels)\u001b[0m\n\u001b[1;32m      1\u001b[0m (Stream(np.split(train_y, train_groups.cumsum()))\n\u001b[0;32m----> 2\u001b[0;31m  \u001b[0;34m.\u001b[0m\u001b[0mmap\u001b[0m\u001b[0;34m(\u001b[0m\u001b[0;32mlambda\u001b[0m \u001b[0mlabels\u001b[0m\u001b[0;34m:\u001b[0m \u001b[0maverage_precision_score\u001b[0m\u001b[0;34m(\u001b[0m\u001b[0mlabels\u001b[0m\u001b[0;34m,\u001b[0m \u001b[0mlist\u001b[0m\u001b[0;34m(\u001b[0m\u001b[0mreversed\u001b[0m\u001b[0;34m(\u001b[0m\u001b[0mrange\u001b[0m\u001b[0;34m(\u001b[0m\u001b[0mlen\u001b[0m\u001b[0;34m(\u001b[0m\u001b[0mlabels\u001b[0m\u001b[0;34m)\u001b[0m\u001b[0;34m)\u001b[0m\u001b[0;34m)\u001b[0m\u001b[0;34m)\u001b[0m\u001b[0;34m)\u001b[0m\u001b[0;34m)\u001b[0m\u001b[0;34m\u001b[0m\u001b[0m\n\u001b[0m\u001b[1;32m      3\u001b[0m \u001b[0;31m#  .map(lambda labels: ndcg_at_k(labels, len(labels), method=1))\u001b[0m\u001b[0;34m\u001b[0m\u001b[0;34m\u001b[0m\u001b[0m\n\u001b[1;32m      4\u001b[0m  \u001b[0;34m.\u001b[0m\u001b[0mmean\u001b[0m\u001b[0;34m(\u001b[0m\u001b[0;34m)\u001b[0m\u001b[0;34m\u001b[0m\u001b[0m\n\u001b[1;32m      5\u001b[0m )\n",
      "\u001b[0;32m~/hack104-rec/.venv/lib/python3.6/site-packages/sklearn/metrics/ranking.py\u001b[0m in \u001b[0;36maverage_precision_score\u001b[0;34m(y_true, y_score, average, sample_weight)\u001b[0m\n\u001b[1;32m    197\u001b[0m     return _average_binary_score(_binary_uninterpolated_average_precision,\n\u001b[1;32m    198\u001b[0m                                  \u001b[0my_true\u001b[0m\u001b[0;34m,\u001b[0m \u001b[0my_score\u001b[0m\u001b[0;34m,\u001b[0m \u001b[0maverage\u001b[0m\u001b[0;34m,\u001b[0m\u001b[0;34m\u001b[0m\u001b[0m\n\u001b[0;32m--> 199\u001b[0;31m                                  sample_weight=sample_weight)\n\u001b[0m\u001b[1;32m    200\u001b[0m \u001b[0;34m\u001b[0m\u001b[0m\n\u001b[1;32m    201\u001b[0m \u001b[0;34m\u001b[0m\u001b[0m\n",
      "\u001b[0;32m~/hack104-rec/.venv/lib/python3.6/site-packages/sklearn/metrics/base.py\u001b[0m in \u001b[0;36m_average_binary_score\u001b[0;34m(binary_metric, y_true, y_score, average, sample_weight)\u001b[0m\n\u001b[1;32m     73\u001b[0m \u001b[0;34m\u001b[0m\u001b[0m\n\u001b[1;32m     74\u001b[0m     \u001b[0;32mif\u001b[0m \u001b[0my_type\u001b[0m \u001b[0;34m==\u001b[0m \u001b[0;34m\"binary\"\u001b[0m\u001b[0;34m:\u001b[0m\u001b[0;34m\u001b[0m\u001b[0m\n\u001b[0;32m---> 75\u001b[0;31m         \u001b[0;32mreturn\u001b[0m \u001b[0mbinary_metric\u001b[0m\u001b[0;34m(\u001b[0m\u001b[0my_true\u001b[0m\u001b[0;34m,\u001b[0m \u001b[0my_score\u001b[0m\u001b[0;34m,\u001b[0m \u001b[0msample_weight\u001b[0m\u001b[0;34m=\u001b[0m\u001b[0msample_weight\u001b[0m\u001b[0;34m)\u001b[0m\u001b[0;34m\u001b[0m\u001b[0m\n\u001b[0m\u001b[1;32m     76\u001b[0m \u001b[0;34m\u001b[0m\u001b[0m\n\u001b[1;32m     77\u001b[0m     \u001b[0mcheck_consistent_length\u001b[0m\u001b[0;34m(\u001b[0m\u001b[0my_true\u001b[0m\u001b[0;34m,\u001b[0m \u001b[0my_score\u001b[0m\u001b[0;34m,\u001b[0m \u001b[0msample_weight\u001b[0m\u001b[0;34m)\u001b[0m\u001b[0;34m\u001b[0m\u001b[0m\n",
      "\u001b[0;32m~/hack104-rec/.venv/lib/python3.6/site-packages/sklearn/metrics/ranking.py\u001b[0m in \u001b[0;36m_binary_uninterpolated_average_precision\u001b[0;34m(y_true, y_score, sample_weight)\u001b[0m\n\u001b[1;32m    189\u001b[0m             y_true, y_score, sample_weight=None):\n\u001b[1;32m    190\u001b[0m         precision, recall, thresholds = precision_recall_curve(\n\u001b[0;32m--> 191\u001b[0;31m             y_true, y_score, sample_weight=sample_weight)\n\u001b[0m\u001b[1;32m    192\u001b[0m         \u001b[0;31m# Return the step function integral\u001b[0m\u001b[0;34m\u001b[0m\u001b[0;34m\u001b[0m\u001b[0m\n\u001b[1;32m    193\u001b[0m         \u001b[0;31m# The following works because the last entry of precision is\u001b[0m\u001b[0;34m\u001b[0m\u001b[0;34m\u001b[0m\u001b[0m\n",
      "\u001b[0;32m~/hack104-rec/.venv/lib/python3.6/site-packages/sklearn/metrics/ranking.py\u001b[0m in \u001b[0;36mprecision_recall_curve\u001b[0;34m(y_true, probas_pred, pos_label, sample_weight)\u001b[0m\n\u001b[1;32m    439\u001b[0m     fps, tps, thresholds = _binary_clf_curve(y_true, probas_pred,\n\u001b[1;32m    440\u001b[0m                                              \u001b[0mpos_label\u001b[0m\u001b[0;34m=\u001b[0m\u001b[0mpos_label\u001b[0m\u001b[0;34m,\u001b[0m\u001b[0;34m\u001b[0m\u001b[0m\n\u001b[0;32m--> 441\u001b[0;31m                                              sample_weight=sample_weight)\n\u001b[0m\u001b[1;32m    442\u001b[0m \u001b[0;34m\u001b[0m\u001b[0m\n\u001b[1;32m    443\u001b[0m     \u001b[0mprecision\u001b[0m \u001b[0;34m=\u001b[0m \u001b[0mtps\u001b[0m \u001b[0;34m/\u001b[0m \u001b[0;34m(\u001b[0m\u001b[0mtps\u001b[0m \u001b[0;34m+\u001b[0m \u001b[0mfps\u001b[0m\u001b[0;34m)\u001b[0m\u001b[0;34m\u001b[0m\u001b[0m\n",
      "\u001b[0;32m~/hack104-rec/.venv/lib/python3.6/site-packages/sklearn/metrics/ranking.py\u001b[0m in \u001b[0;36m_binary_clf_curve\u001b[0;34m(y_true, y_score, pos_label, sample_weight)\u001b[0m\n\u001b[1;32m    335\u001b[0m              \u001b[0mnp\u001b[0m\u001b[0;34m.\u001b[0m\u001b[0marray_equal\u001b[0m\u001b[0;34m(\u001b[0m\u001b[0mclasses\u001b[0m\u001b[0;34m,\u001b[0m \u001b[0;34m[\u001b[0m\u001b[0;34m-\u001b[0m\u001b[0;36m1\u001b[0m\u001b[0;34m]\u001b[0m\u001b[0;34m)\u001b[0m \u001b[0;32mor\u001b[0m\u001b[0;34m\u001b[0m\u001b[0m\n\u001b[1;32m    336\u001b[0m              np.array_equal(classes, [1]))):\n\u001b[0;32m--> 337\u001b[0;31m         \u001b[0;32mraise\u001b[0m \u001b[0mValueError\u001b[0m\u001b[0;34m(\u001b[0m\u001b[0;34m\"Data is not binary and pos_label is not specified\"\u001b[0m\u001b[0;34m)\u001b[0m\u001b[0;34m\u001b[0m\u001b[0m\n\u001b[0m\u001b[1;32m    338\u001b[0m     \u001b[0;32melif\u001b[0m \u001b[0mpos_label\u001b[0m \u001b[0;32mis\u001b[0m \u001b[0;32mNone\u001b[0m\u001b[0;34m:\u001b[0m\u001b[0;34m\u001b[0m\u001b[0m\n\u001b[1;32m    339\u001b[0m         \u001b[0mpos_label\u001b[0m \u001b[0;34m=\u001b[0m \u001b[0;36m1.\u001b[0m\u001b[0;34m\u001b[0m\u001b[0m\n",
      "\u001b[0;31mValueError\u001b[0m: Data is not binary and pos_label is not specified"
     ]
    }
   ],
   "source": [
    "(Stream(np.split(train_y, train_groups.cumsum()))\n",
    " .map(lambda labels: average_precision_score(labels, list(reversed(range(len(labels))))))\n",
    "#  .map(lambda labels: ndcg_at_k(labels, len(labels), method=1))\n",
    " .mean()\n",
    ")"
   ]
  },
  {
   "cell_type": "code",
   "execution_count": null,
   "metadata": {},
   "outputs": [],
   "source": [
    "y_groups"
   ]
  },
  {
   "cell_type": "markdown",
   "metadata": {},
   "source": [
    "# job"
   ]
  },
  {
   "cell_type": "code",
   "execution_count": 284,
   "metadata": {},
   "outputs": [
    {
     "name": "stdout",
     "output_type": "stream",
     "text": [
      "-RECORD 0---------------------------\n",
      " addr_no     | 6001005004           \n",
      " custno      | 7c01228e-5bc6-479... \n",
      " description | ※輔導國小課業內容。\n",
      "※中、英語... \n",
      " edu         | 56                   \n",
      " exp_jobcat1 | 0                    \n",
      " exp_jobcat2 | 0                    \n",
      " exp_jobcat3 | 0                    \n",
      " industry    | 1005001009           \n",
      " job         | 國小安親課輔老師             \n",
      " jobcat1     | 2016002008           \n",
      " jobcat2     | 2016002011           \n",
      " jobcat3     | 0                    \n",
      " jobno       | 4371531              \n",
      " language1   | 14444                \n",
      " language2   | 1111                 \n",
      " language3   | 1111                 \n",
      " major_cat   | 0                    \n",
      " major_cat2  | 0                    \n",
      " major_cat3  | 0                    \n",
      " need_emp    | 1                    \n",
      " need_emp1   | 2                    \n",
      " others      | 1.提供勞健保\n",
      "2.待遇優\n",
      "3.需... \n",
      " period      | 2                    \n",
      " role        | 1                    \n",
      " role_status | 2049                 \n",
      " s2          | 4                    \n",
      " s3          | 0                    \n",
      " s9          | 1                    \n",
      " salary_high | 990                  \n",
      " salary_low  | 990                  \n",
      " startby     | 2                    \n",
      " worktime    | 週休二日                 \n",
      "-RECORD 1---------------------------\n",
      " addr_no     | 6001005012           \n",
      " custno      | 6976d5c5-26a5-467... \n",
      " description | 環境、空汙、廢水的管理。         \n",
      " edu         | 60                   \n",
      " exp_jobcat1 | 0                    \n",
      " exp_jobcat2 | 0                    \n",
      " exp_jobcat3 | 0                    \n",
      " industry    | 1002007008           \n",
      " job         | 環保專職人員               \n",
      " jobcat1     | 2009004003           \n",
      " jobcat2     | 2009004008           \n",
      " jobcat3     | 2009004001           \n",
      " jobno       | 9634973              \n",
      " language1   | 182222               \n",
      " language2   | 14444                \n",
      " language3   | 1111                 \n",
      " major_cat   | 0                    \n",
      " major_cat2  | 0                    \n",
      " major_cat3  | 0                    \n",
      " need_emp    | 1                    \n",
      " need_emp1   | 1                    \n",
      " others      | 需具備環境保護類相關證照         \n",
      " period      | -1                   \n",
      " role        | 1                    \n",
      " role_status | 1                    \n",
      " s2          | 0                    \n",
      " s3          | 0                    \n",
      " s9          | 1                    \n",
      " salary_high | 990                  \n",
      " salary_low  | 990                  \n",
      " startby     | 3                    \n",
      " worktime    | 週休二日                 \n",
      "-RECORD 2---------------------------\n",
      " addr_no     | 6001005012           \n",
      " custno      | 6976d5c5-26a5-467... \n",
      " description | 1.負責生產線機器、設備之操作，並... \n",
      " edu         | 6                    \n",
      " exp_jobcat1 | 0                    \n",
      " exp_jobcat2 | 0                    \n",
      " exp_jobcat3 | 0                    \n",
      " industry    | 1002007008           \n",
      " job         | 現場操作人員(固定班)          \n",
      " jobcat1     | 2010001002           \n",
      " jobcat2     | 0                    \n",
      " jobcat3     | 0                    \n",
      " jobno       | 4863490              \n",
      " language1   | 1111                 \n",
      " language2   | 1111                 \n",
      " language3   | 1111                 \n",
      " major_cat   | 0                    \n",
      " major_cat2  | 0                    \n",
      " major_cat3  | 0                    \n",
      " need_emp    | 1                    \n",
      " need_emp1   | 5                    \n",
      " others      | 學歷高職以上亦可應徵           \n",
      " period      | -1                   \n",
      " role        | 1                    \n",
      " role_status | 3                    \n",
      " s2          | 0                    \n",
      " s3          | 0                    \n",
      " s9          | 1                    \n",
      " salary_high | 990                  \n",
      " salary_low  | 990                  \n",
      " startby     | 3                    \n",
      " worktime    | 依公司規定                \n",
      "-RECORD 3---------------------------\n",
      " addr_no     | 6001001004           \n",
      " custno      | 6976d5c5-26a5-467... \n",
      " description | 1.產品銷售\n",
      "2.顧客服務\n",
      "3... \n",
      " edu         | 60                   \n",
      " exp_jobcat1 | 0                    \n",
      " exp_jobcat2 | 0                    \n",
      " exp_jobcat3 | 0                    \n",
      " industry    | 1002007008           \n",
      " job         | 業務人員(北區)             \n",
      " jobcat1     | 2005003004           \n",
      " jobcat2     | 2010002002           \n",
      " jobcat3     | 2004002002           \n",
      " jobno       | 4736769              \n",
      " language1   | 18888                \n",
      " language2   | 1111                 \n",
      " language3   | 1111                 \n",
      " major_cat   | 3011003000           \n",
      " major_cat2  | 3011014000           \n",
      " major_cat3  | 3007002000           \n",
      " need_emp    | 1                    \n",
      " need_emp1   | 1                    \n",
      " others      | 化學化工或紙業相關科系畢         \n",
      " period      | -1                   \n",
      " role        | 1                    \n",
      " role_status | 75                   \n",
      " s2          | 0                    \n",
      " s3          | 15                   \n",
      " s9          | 1                    \n",
      " salary_high | 990                  \n",
      " salary_low  | 990                  \n",
      " startby     | 0                    \n",
      " worktime    | 依公司規定                \n",
      "-RECORD 4---------------------------\n",
      " addr_no     | 6001008007           \n",
      " custno      | 6976d5c5-26a5-467... \n",
      " description | 1.產品銷售\n",
      "2.顧客服務\n",
      "3... \n",
      " edu         | 60                   \n",
      " exp_jobcat1 | 0                    \n",
      " exp_jobcat2 | 0                    \n",
      " exp_jobcat3 | 0                    \n",
      " industry    | 1002007008           \n",
      " job         | 業務人員(南區)             \n",
      " jobcat1     | 2005003004           \n",
      " jobcat2     | 2010002002           \n",
      " jobcat3     | 2004002002           \n",
      " jobno       | 4736818              \n",
      " language1   | 18888                \n",
      " language2   | 1111                 \n",
      " language3   | 1111                 \n",
      " major_cat   | 3011003000           \n",
      " major_cat2  | 3011014000           \n",
      " major_cat3  | 3007002000           \n",
      " need_emp    | 1                    \n",
      " need_emp1   | 1                    \n",
      " others      | 化學化工或紙業相關科系畢         \n",
      " period      | -1                   \n",
      " role        | 1                    \n",
      " role_status | 75                   \n",
      " s2          | 0                    \n",
      " s3          | 15                   \n",
      " s9          | 1                    \n",
      " salary_high | 990                  \n",
      " salary_low  | 990                  \n",
      " startby     | 0                    \n",
      " worktime    | 依公司規定                \n",
      "-RECORD 5---------------------------\n",
      " addr_no     | 6001008007           \n",
      " custno      | 6976d5c5-26a5-467... \n",
      " description | 1.產品銷售\n",
      "2.顧客服務\n",
      "3... \n",
      " edu         | 60                   \n",
      " exp_jobcat1 | 0                    \n",
      " exp_jobcat2 | 0                    \n",
      " exp_jobcat3 | 0                    \n",
      " industry    | 1002007008           \n",
      " job         | 業務人員(中區)             \n",
      " jobcat1     | 2005003004           \n",
      " jobcat2     | 2010002002           \n",
      " jobcat3     | 2004002002           \n",
      " jobno       | 4736810              \n",
      " language1   | 18888                \n",
      " language2   | 1111                 \n",
      " language3   | 1111                 \n",
      " major_cat   | 3011003000           \n",
      " major_cat2  | 3011014000           \n",
      " major_cat3  | 3007002000           \n",
      " need_emp    | 1                    \n",
      " need_emp1   | 1                    \n",
      " others      | 化學化工或紙業相關科系畢         \n",
      " period      | -1                   \n",
      " role        | 1                    \n",
      " role_status | 75                   \n",
      " s2          | 0                    \n",
      " s3          | 15                   \n",
      " s9          | 1                    \n",
      " salary_high | 990                  \n",
      " salary_low  | 990                  \n",
      " startby     | 0                    \n",
      " worktime    | 依公司規定                \n",
      "-RECORD 6---------------------------\n",
      " addr_no     | 6001005012           \n",
      " custno      | 6976d5c5-26a5-467... \n",
      " description | 1.蒐集、計算貨物清單，並用紙筆或... \n",
      " edu         | 6                    \n",
      " exp_jobcat1 | 0                    \n",
      " exp_jobcat2 | 0                    \n",
      " exp_jobcat3 | 0                    \n",
      " industry    | 1002007008           \n",
      " job         | 倉管人員                 \n",
      " jobcat1     | 2011001004           \n",
      " jobcat2     | 0                    \n",
      " jobcat3     | 0                    \n",
      " jobno       | 5462550              \n",
      " language1   | 1111                 \n",
      " language2   | 1111                 \n",
      " language3   | 1111                 \n",
      " major_cat   | 0                    \n",
      " major_cat2  | 0                    \n",
      " major_cat3  | 0                    \n",
      " need_emp    | 1                    \n",
      " need_emp1   | 1                    \n",
      " others      | 學歷高職以上亦可應徵\n",
      "輔助考取堆... \n",
      " period      | -1                   \n",
      " role        | 1                    \n",
      " role_status | 3                    \n",
      " s2          | 0                    \n",
      " s3          | 0                    \n",
      " s9          | 1                    \n",
      " salary_high | 990                  \n",
      " salary_low  | 990                  \n",
      " startby     | 0                    \n",
      " worktime    | 依公司規定                \n",
      "-RECORD 7---------------------------\n",
      " addr_no     | 6001005012           \n",
      " custno      | 6976d5c5-26a5-467... \n",
      " description | 1.產品的研發\n",
      "2.產品檢驗/分... \n",
      " edu         | 48                   \n",
      " exp_jobcat1 | 0                    \n",
      " exp_jobcat2 | 0                    \n",
      " exp_jobcat3 | 0                    \n",
      " industry    | 1002007008           \n",
      " job         | 實驗室研究員               \n",
      " jobcat1     | 2008002005           \n",
      " jobcat2     | 2008002004           \n",
      " jobcat3     | 2008003004           \n",
      " jobno       | 4736831              \n",
      " language1   | 14444                \n",
      " language2   | 1111                 \n",
      " language3   | 1111                 \n",
      " major_cat   | 3007002000           \n",
      " major_cat2  | 3011003000           \n",
      " major_cat3  | 0                    \n",
      " need_emp    | 1                    \n",
      " need_emp1   | 2                    \n",
      " others      | 1.有檢測儀器經驗者佳\n",
      "2.化學... \n",
      " period      | -1                   \n",
      " role        | 1                    \n",
      " role_status | 75                   \n",
      " s2          | 0                    \n",
      " s3          | 0                    \n",
      " s9          | 1                    \n",
      " salary_high | 990                  \n",
      " salary_low  | 990                  \n",
      " startby     | 0                    \n",
      " worktime    | 依公司規定                \n",
      "-RECORD 8---------------------------\n",
      " addr_no     | 6001002004           \n",
      " custno      | a0e2e1c6-9813-4b5... \n",
      " description | 1.主管交辦事項處理\n",
      "2.負責行... \n",
      " edu         | 60                   \n",
      " exp_jobcat1 | 0                    \n",
      " exp_jobcat2 | 0                    \n",
      " exp_jobcat3 | 0                    \n",
      " industry    | 1011001003           \n",
      " job         | 行銷企劃人員               \n",
      " jobcat1     | 2004001005           \n",
      " jobcat2     | 2004001009           \n",
      " jobcat3     | 2001001003           \n",
      " jobno       | 10403432             \n",
      " language1   | 1111                 \n",
      " language2   | 1111                 \n",
      " language3   | 1111                 \n",
      " major_cat   | 0                    \n",
      " major_cat2  | 0                    \n",
      " major_cat3  | 0                    \n",
      " need_emp    | 1                    \n",
      " need_emp1   | 2                    \n",
      " others      | null                 \n",
      " period      | -1                   \n",
      " role        | 1                    \n",
      " role_status | 3                    \n",
      " s2          | 0                    \n",
      " s3          | 0                    \n",
      " s9          | 1                    \n",
      " salary_high | 35                   \n",
      " salary_low  | 28                   \n",
      " startby     | 3                    \n",
      " worktime    | 依公司規定                \n",
      "-RECORD 9---------------------------\n",
      " addr_no     | 6001002004           \n",
      " custno      | a0e2e1c6-9813-4b5... \n",
      " description | 1.負責工作區域清潔工作。\n",
      "2.... \n",
      " edu         | 63                   \n",
      " exp_jobcat1 | 0                    \n",
      " exp_jobcat2 | 0                    \n",
      " exp_jobcat3 | 0                    \n",
      " industry    | 1011001003           \n",
      " job         | 廠房清潔人員               \n",
      " jobcat1     | 2018002012           \n",
      " jobcat2     | 2012002009           \n",
      " jobcat3     | 0                    \n",
      " jobno       | 10203304             \n",
      " language1   | 1111                 \n",
      " language2   | 1111                 \n",
      " language3   | 1111                 \n",
      " major_cat   | 0                    \n",
      " major_cat2  | 0                    \n",
      " major_cat3  | 0                    \n",
      " need_emp    | 1                    \n",
      " need_emp1   | 2                    \n",
      " others      | null                 \n",
      " period      | 1                    \n",
      " role        | 1                    \n",
      " role_status | 2049                 \n",
      " s2          | 0                    \n",
      " s3          | 0                    \n",
      " s9          | 1                    \n",
      " salary_high | 26                   \n",
      " salary_low  | 24                   \n",
      " startby     | 0                    \n",
      " worktime    | 依公司規定                \n",
      "-RECORD 10--------------------------\n",
      " addr_no     | 6001002004           \n",
      " custno      | a0e2e1c6-9813-4b5... \n",
      " description | 1.大圖輸出\n",
      "2.後製裁型\n",
      "3... \n",
      " edu         | 60                   \n",
      " exp_jobcat1 | 0                    \n",
      " exp_jobcat2 | 0                    \n",
      " exp_jobcat3 | 0                    \n",
      " industry    | 1011001003           \n",
      " job         | 設計、繪圖、大圖輸出+後製        \n",
      " jobcat1     | 2013001012           \n",
      " jobcat2     | 2013001005           \n",
      " jobcat3     | 2010001012           \n",
      " jobno       | 10203278             \n",
      " language1   | 1111                 \n",
      " language2   | 1111                 \n",
      " language3   | 1111                 \n",
      " major_cat   | 0                    \n",
      " major_cat2  | 0                    \n",
      " major_cat3  | 0                    \n",
      " need_emp    | 1                    \n",
      " need_emp1   | 2                    \n",
      " others      | null                 \n",
      " period      | 2                    \n",
      " role        | 1                    \n",
      " role_status | 1                    \n",
      " s2          | 0                    \n",
      " s3          | 0                    \n",
      " s9          | 1                    \n",
      " salary_high | 35                   \n",
      " salary_low  | 28                   \n",
      " startby     | 0                    \n",
      " worktime    | 依公司規定                \n",
      "-RECORD 11--------------------------\n",
      " addr_no     | 6001002004           \n",
      " custno      | a0e2e1c6-9813-4b5... \n",
      " description | 1.需熟悉品質計畫書製作執行、品質... \n",
      " edu         | 60                   \n",
      " exp_jobcat1 | 0                    \n",
      " exp_jobcat2 | 0                    \n",
      " exp_jobcat3 | 0                    \n",
      " industry    | 1011001003           \n",
      " job         | 工務助理                 \n",
      " jobcat1     | 2012001010           \n",
      " jobcat2     | 0                    \n",
      " jobcat3     | 0                    \n",
      " jobno       | 8975174              \n",
      " language1   | 1111                 \n",
      " language2   | 1111                 \n",
      " language3   | 1111                 \n",
      " major_cat   | 0                    \n",
      " major_cat2  | 0                    \n",
      " major_cat3  | 0                    \n",
      " need_emp    | 1                    \n",
      " need_emp1   | 2                    \n",
      " others      | null                 \n",
      " period      | -1                   \n",
      " role        | 1                    \n",
      " role_status | 1                    \n",
      " s2          | 0                    \n",
      " s3          | 0                    \n",
      " s9          | 1                    \n",
      " salary_high | 30                   \n",
      " salary_low  | 25                   \n",
      " startby     | 3                    \n",
      " worktime    | 依公司規定                \n",
      "-RECORD 12--------------------------\n",
      " addr_no     | 6001002019           \n",
      " custno      | a0e2e1c6-9813-4b5... \n",
      "... \n",
      " edu         | 63                   \n",
      " exp_jobcat1 | 0                    \n",
      " exp_jobcat2 | 0                    \n",
      " exp_jobcat3 | 0                    \n",
      " industry    | 1011001003           \n",
      " job         | 會計人員                 \n",
      " jobcat1     | 2003001006           \n",
      " jobcat2     | 2003001005           \n",
      " jobcat3     | 0                    \n",
      " jobno       | 8975164              \n",
      " language1   | 1111                 \n",
      " language2   | 1111                 \n",
      " language3   | 1111                 \n",
      " major_cat   | 3006003000           \n",
      " major_cat2  | 0                    \n",
      " major_cat3  | 0                    \n",
      " need_emp    | 1                    \n",
      " need_emp1   | 1                    \n",
      " others      | null                 \n",
      " period      | -1                   \n",
      " role        | 1                    \n",
      " role_status | 2115                 \n",
      " s2          | 0                    \n",
      " s3          | 0                    \n",
      " s9          | 1                    \n",
      " salary_high | 35                   \n",
      " salary_low  | 28                   \n",
      " startby     | 3                    \n",
      " worktime    | 週休二日                 \n",
      "-RECORD 13--------------------------\n",
      " addr_no     | 6001002004           \n",
      " custno      | a0e2e1c6-9813-4b5... \n",
      " description | 本科系畢業生，願接受公司培訓者，肯... \n",
      " edu         | 60                   \n",
      " exp_jobcat1 | 0                    \n",
      " exp_jobcat2 | 0                    \n",
      " exp_jobcat3 | 0                    \n",
      " industry    | 1011001003           \n",
      " job         | 工地監工.現場工程師           \n",
      " jobcat1     | 2012002001           \n",
      " jobcat2     | 2012002002           \n",
      " jobcat3     | 0                    \n",
      " jobno       | 8975257              \n",
      " language1   | 1111                 \n",
      " language2   | 1111                 \n",
      " language3   | 1111                 \n",
      " major_cat   | 3011005000           \n",
      " major_cat2  | 3012001000           \n",
      " major_cat3  | 0                    \n",
      " need_emp    | 1                    \n",
      " need_emp1   | 1                    \n",
      " others      | (1)需有公共工程經驗或是肯學習者... \n",
      " period      | -1                   \n",
      " role        | 1                    \n",
      " role_status | 3                    \n",
      " s2          | 0                    \n",
      " s3          | 0                    \n",
      " s9          | 15                   \n",
      " salary_high | 990                  \n",
      " salary_low  | 990                  \n",
      " startby     | 3                    \n",
      " worktime    | 依公司規定                \n",
      "-RECORD 14--------------------------\n",
      " addr_no     | 6001001003           \n",
      " custno      | ea4a578f-a938-43c... \n",
      " description | 敝公司為一出口貿易公司,專司出口聖... \n",
      " edu         | 8                    \n",
      " exp_jobcat1 | 0                    \n",
      " exp_jobcat2 | 0                    \n",
      " exp_jobcat3 | 0                    \n",
      " industry    | 1003001015           \n",
      " job         | 國貿人員                 \n",
      " jobcat1     | 2005004001           \n",
      " jobcat2     | 2005003005           \n",
      " jobcat3     | 2005003013           \n",
      " jobno       | 1546476              \n",
      " language1   | 182222               \n",
      " language2   | 18888                \n",
      " language3   | 1111                 \n",
      " major_cat   | 3006010000           \n",
      " major_cat2  | 3003002000           \n",
      " major_cat3  | 0                    \n",
      " need_emp    | 0                    \n",
      " need_emp1   | 0                    \n",
      " others      | 國貿系或英文系或應外系或商業文書系... \n",
      " period      | -1                   \n",
      " role        | 1                    \n",
      " role_status | 3                    \n",
      " s2          | 0                    \n",
      " s3          | 0                    \n",
      " s9          | 1                    \n",
      " salary_high | 990                  \n",
      " salary_low  | 990                  \n",
      " startby     | 0                    \n",
      " worktime    | 週休二日                 \n",
      "-RECORD 15--------------------------\n",
      " addr_no     | 6001001003           \n",
      " custno      | ea4a578f-a938-43c... \n",
      " description | 敝公司為一出口貿易公司,專司出口聖... \n",
      " edu         | 8                    \n",
      " exp_jobcat1 | 0                    \n",
      " exp_jobcat2 | 0                    \n",
      " exp_jobcat3 | 0                    \n",
      " industry    | 1003001015           \n",
      " job         | 英文秘書                 \n",
      " jobcat1     | 2002001005           \n",
      " jobcat2     | 2005004001           \n",
      " jobcat3     | 0                    \n",
      " jobno       | 387197               \n",
      " language1   | 12222                \n",
      " language2   | 182222               \n",
      " language3   | 1111                 \n",
      " major_cat   | 3003002000           \n",
      " major_cat2  | 3003004000           \n",
      " major_cat3  | 3006010000           \n",
      " need_emp    | 1                    \n",
      " need_emp1   | 1                    \n",
      " others      | 1. 英文系或法文系或國貿系畢  ... \n",
      " period      | -1                   \n",
      " role        | 1                    \n",
      " role_status | 3                    \n",
      " s2          | 0                    \n",
      " s3          | 0                    \n",
      " s9          | 1                    \n",
      " salary_high | 990                  \n",
      " salary_low  | 990                  \n",
      " startby     | 0                    \n",
      " worktime    | 週休二日                 \n",
      "-RECORD 16--------------------------\n",
      " addr_no     | 6001005001           \n",
      " custno      | 2235a9de-4c9b-4f6... \n",
      "... \n",
      " edu         | 15                   \n",
      " exp_jobcat1 | 0                    \n",
      " exp_jobcat2 | 0                    \n",
      " exp_jobcat3 | 0                    \n",
      " industry    | 1002011001           \n",
      " job         | 搓牙技術員                \n",
      " jobcat1     | 2010001010           \n",
      " jobcat2     | 2010001029           \n",
      " jobcat3     | 0                    \n",
      " jobno       | 7393564              \n",
      " language1   | 1111                 \n",
      " language2   | 1111                 \n",
      " language3   | 1111                 \n",
      " major_cat   | 0                    \n",
      " major_cat2  | 0                    \n",
      " major_cat3  | 0                    \n",
      " need_emp    | 1                    \n",
      " need_emp1   | 5                    \n",
      " others      | null                 \n",
      " period      | -1                   \n",
      " role        | 1                    \n",
      " role_status | 1                    \n",
      " s2          | 0                    \n",
      " s3          | 0                    \n",
      " s9          | 1                    \n",
      " salary_high | 990                  \n",
      " salary_low  | 990                  \n",
      " startby     | 2                    \n",
      " worktime    | 週休二日                 \n",
      "-RECORD 17--------------------------\n",
      " addr_no     | 6001005001           \n",
      " custno      | 2235a9de-4c9b-4f6... \n",
      " description | 1.熟悉ISO 9001條文與要求... \n",
      " edu         | 14                   \n",
      " exp_jobcat1 | 0                    \n",
      " exp_jobcat2 | 0                    \n",
      " exp_jobcat3 | 0                    \n",
      " industry    | 1002011001           \n",
      " job         | 品管人員                 \n",
      " jobcat1     | 2009003010           \n",
      " jobcat2     | 0                    \n",
      " jobcat3     | 0                    \n",
      " jobno       | 8564533              \n",
      " language1   | 14444                \n",
      " language2   | 1111                 \n",
      " language3   | 1111                 \n",
      " major_cat   | 3006000000           \n",
      " major_cat2  | 3010000000           \n",
      " major_cat3  | 0                    \n",
      " need_emp    | 1                    \n",
      " need_emp1   | 1                    \n",
      " others      | 熟悉OFFICE軟體word,ex... \n",
      " period      | -1                   \n",
      " role        | 1                    \n",
      " role_status | 11                   \n",
      " s2          | 0                    \n",
      " s3          | 0                    \n",
      " s9          | 1                    \n",
      " salary_high | 990                  \n",
      " salary_low  | 990                  \n",
      " startby     | 1                    \n",
      " worktime    | 週休二日                 \n",
      "-RECORD 18--------------------------\n",
      " addr_no     | 6001005001           \n",
      " custno      | 2235a9de-4c9b-4f6... \n",
      " description | 1.使用測量儀器（如：游標卡尺.分... \n",
      " edu         | 14                   \n",
      " exp_jobcat1 | 0                    \n",
      " exp_jobcat2 | 0                    \n",
      " exp_jobcat3 | 0                    \n",
      " industry    | 1002011001           \n",
      " job         | 品檢員                  \n",
      " jobcat1     | 2009003010           \n",
      " jobcat2     | 0                    \n",
      " jobcat3     | 0                    \n",
      " jobno       | 5289841              \n",
      " language1   | 14444                \n",
      " language2   | 1111                 \n",
      " language3   | 1111                 \n",
      " major_cat   | 3006000000           \n",
      " major_cat2  | 3010000000           \n",
      " major_cat3  | 0                    \n",
      " need_emp    | 1                    \n",
      " need_emp1   | 1                    \n",
      " others      | 熟悉OFFICE軟體word,ex... \n",
      " period      | -1                   \n",
      " role        | 1                    \n",
      " role_status | 3199                 \n",
      " s2          | 0                    \n",
      " s3          | 0                    \n",
      " s9          | 1                    \n",
      " salary_high | 0                    \n",
      " salary_low  | 0                    \n",
      " startby     | 1                    \n",
      " worktime    | 週休二日                 \n",
      "-RECORD 19--------------------------\n",
      " addr_no     | 6001005001           \n",
      " custno      | 2235a9de-4c9b-4f6... \n",
      " description | 1.負責螺絲生產機器設備之操作，並... \n",
      " edu         | 14                   \n",
      " exp_jobcat1 | 0                    \n",
      " exp_jobcat2 | 0                    \n",
      " exp_jobcat3 | 0                    \n",
      " industry    | 1002011001           \n",
      " job         | 技術員                  \n",
      " jobcat1     | 2010001010           \n",
      " jobcat2     | 2010001029           \n",
      " jobcat3     | 2010001002           \n",
      " jobno       | 5368318              \n",
      " language1   | 1111                 \n",
      " language2   | 1111                 \n",
      " language3   | 1111                 \n",
      " major_cat   | 0                    \n",
      " major_cat2  | 0                    \n",
      " major_cat3  | 0                    \n",
      " need_emp    | 1                    \n",
      " need_emp1   | 5                    \n",
      " others      | null                 \n",
      " period      | -1                   \n",
      " role        | 1                    \n",
      " role_status | 1                    \n",
      " s2          | 0                    \n",
      " s3          | 0                    \n",
      " s9          | 1                    \n",
      " salary_high | 990                  \n",
      " salary_low  | 990                  \n",
      " startby     | 1                    \n",
      " worktime    | 週休二日                 \n",
      "only showing top 20 rows\n",
      "\n"
     ]
    }
   ],
   "source": [
    "job_sdf = spark.read.json('data/job.json')\n",
    "job_sdf.show(vertical=True)\n"
   ]
  },
  {
   "cell_type": "code",
   "execution_count": null,
   "metadata": {},
   "outputs": [],
   "source": []
  }
 ],
 "metadata": {
  "kernelspec": {
   "display_name": "hack104-rec",
   "language": "python",
   "name": "hack104-rec"
  },
  "language_info": {
   "codemirror_mode": {
    "name": "ipython",
    "version": 3
   },
   "file_extension": ".py",
   "mimetype": "text/x-python",
   "name": "python",
   "nbconvert_exporter": "python",
   "pygments_lexer": "ipython3",
   "version": "3.6.5"
  }
 },
 "nbformat": 4,
 "nbformat_minor": 2
}
